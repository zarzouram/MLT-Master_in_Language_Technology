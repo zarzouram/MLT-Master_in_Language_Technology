{
 "cells": [
  {
   "cell_type": "markdown",
   "metadata": {},
   "source": [
    "# Problem Set 2 - Part 1: Ambiguity and Inference"
   ]
  },
  {
   "cell_type": "markdown",
   "metadata": {},
   "source": [
    "The lab is an exploration and learning exercise to be done in a group and also in discussion with the teachers and other students.\n",
    "\n",
    "Before starting, please read the following instructions on [how to work on group assignments](https://github.com/sdobnik/computational-semantics/blob/master/README.md).\n",
    "\n",
    "\n",
    "### Pre-requisite knowledge\n",
    "\n",
    "Understanding of `problem-set-1`:\n",
    "- First order logic\n",
    "- Lambda calculus\n",
    "- Feature unification context free grammar\n",
    "\n",
    "### Instructions\n",
    "\n",
    "- Follow the instructions step-by-step.\n",
    "- Run all cells before modifying them to see how the code works.\n",
    "- The tasks will ask you to modify cells in this notebook.\n",
    "- Modify the cell to provide your answer and run a test before submiting the file."
   ]
  },
  {
   "cell_type": "code",
   "execution_count": 1,
   "metadata": {},
   "outputs": [],
   "source": [
    "# This task requires NLTK and Jupyter Notebook (IPython package).\n",
    "\n",
    "import nltk\n",
    "from nltk.grammar import FeatureGrammar\n",
    "from nltk.sem import cooper_storage as cs\n",
    "\n",
    "from utils import display_latex, display_translation, display_tree, display, Markdown\n",
    "from copy import deepcopy\n",
    "\n",
    "read_expr = nltk.sem.Expression.fromstring"
   ]
  },
  {
   "cell_type": "markdown",
   "metadata": {},
   "source": [
    "Run the following cell to import functions and syntax specific to this problem set:"
   ]
  },
  {
   "cell_type": "code",
   "execution_count": 2,
   "metadata": {},
   "outputs": [],
   "source": [
    "from utils2 import sem_parser, evaluate_sentences, syntax, syntax_notv"
   ]
  },
  {
   "cell_type": "markdown",
   "metadata": {},
   "source": [
    "### 1. Ambiguity in quantifiers [6 marks in total]\n",
    "\n",
    "Follow the descriptions and instructions in sections **(1.1)**, **(1.2)** and **(1.3)** to learn about the code and the examples. Then answer the questions in section **(1.4)**."
   ]
  },
  {
   "cell_type": "markdown",
   "metadata": {},
   "source": [
    "#### 1.1. FCFG with a SEM feature\n",
    "\n",
    "You should already be familar with FCFG with a SEM feature. \n",
    "Use the code below to parse the following sentences to their semantic representations:\n",
    "\n",
    "1. every dog bites a bone\n",
    "2. a man gives a bone to every dog\n",
    "3. Russia gives Moscow to Napoleon"
   ]
  },
  {
   "cell_type": "code",
   "execution_count": 3,
   "metadata": {},
   "outputs": [
    {
     "data": {
      "text/markdown": [
       "\"1. all dogs bite a bone\": $\\forall\\ x.(dog(x)\\ \\to\\ \\exists\\ z_{1}.(bone(z_{1})\\ \\land\\ bite(x,z_{1})))$"
      ],
      "text/plain": [
       "<IPython.core.display.Markdown object>"
      ]
     },
     "metadata": {},
     "output_type": "display_data"
    },
    {
     "data": {
      "text/markdown": [
       "\"2. a man gives a bone to every dog\": $\\exists\\ x.(man(x)\\ \\land\\ \\forall\\ z_{3}.(dog(z_{3})\\ \\to\\ \\exists\\ z_{2}.(bone(z_{2})\\ \\land\\ give(x,z_{2},z_{3}))))$"
      ],
      "text/plain": [
       "<IPython.core.display.Markdown object>"
      ]
     },
     "metadata": {},
     "output_type": "display_data"
    },
    {
     "data": {
      "text/markdown": [
       "\"3. Russia gives Moscow to Napoleon\": $give(russia,moscow,napoleon)$"
      ],
      "text/plain": [
       "<IPython.core.display.Markdown object>"
      ]
     },
     "metadata": {},
     "output_type": "display_data"
    }
   ],
   "source": [
    "sentences = [\n",
    "    'all dogs bite a bone',\n",
    "    'a man gives a bone to every dog',\n",
    "    'Russia gives Moscow to Napoleon',\n",
    "]\n",
    "\n",
    "# if you want to see the parse tree change `verbose` to True:\n",
    "sents_reps = sem_parser(sentences, syntax, verbose=False)\n",
    "\n",
    "for i, (sent, semreps) in enumerate(sents_reps.items()):\n",
    "    for semrep in semreps:\n",
    "        display_translation(f\"{i+1}. {sent}\", semrep)"
   ]
  },
  {
   "cell_type": "markdown",
   "metadata": {},
   "source": [
    "#### 1.2. Evaluate sentences in a model\n",
    "\n",
    "We have a world model with entities and sets to represent their properties and relationships. \n",
    "Run the code below to evaluate the sentence representations from the previous section in the world model defined below."
   ]
  },
  {
   "cell_type": "code",
   "execution_count": 5,
   "metadata": {},
   "outputs": [
    {
     "name": "stdout",
     "output_type": "stream",
     "text": [
      "1. all dogs bite a bone:\n"
     ]
    },
    {
     "data": {
      "text/markdown": [
       "\"True\": $\\forall\\ x.(dog(x)\\ \\to\\ \\exists\\ z_{7}.(bone(z_{7})\\ \\land\\ bite(x,z_{7})))$"
      ],
      "text/plain": [
       "<IPython.core.display.Markdown object>"
      ]
     },
     "metadata": {},
     "output_type": "display_data"
    },
    {
     "name": "stdout",
     "output_type": "stream",
     "text": [
      "2. a man gives a bone to every dog:\n"
     ]
    },
    {
     "data": {
      "text/markdown": [
       "\"True\": $\\exists\\ x.(man(x)\\ \\land\\ \\forall\\ z_{9}.(dog(z_{9})\\ \\to\\ \\exists\\ z_{8}.(bone(z_{8})\\ \\land\\ give(x,z_{8},z_{9}))))$"
      ],
      "text/plain": [
       "<IPython.core.display.Markdown object>"
      ]
     },
     "metadata": {},
     "output_type": "display_data"
    },
    {
     "name": "stdout",
     "output_type": "stream",
     "text": [
      "3. Russia gives Moscow to Napoleon:\n"
     ]
    },
    {
     "data": {
      "text/markdown": [
       "\"True\": $give(russia,moscow,napoleon)$"
      ],
      "text/plain": [
       "<IPython.core.display.Markdown object>"
      ]
     },
     "metadata": {},
     "output_type": "display_data"
    }
   ],
   "source": [
    "# a world model:\n",
    "entities = \"\"\"\n",
    "russia    => c1\n",
    "moscow    => c2\n",
    "napoleon  => m2\n",
    "\"\"\"\n",
    "unaries = \"\"\"\n",
    "dog  => {d1, d2, d3} \n",
    "man  => {m1, m2} \n",
    "bone => {bn1, bn2} \n",
    "\"\"\"\n",
    "binaries = \"\"\"\n",
    "bite => {(d1, bn1), (d2, bn2), (d3, bn2)} \n",
    "\"\"\"\n",
    "ternaries = \"\"\"\n",
    "give => {(c1, c2, m2), (m1, bn1, d1), (m1, bn2, d2), (m1, bn2, d3)} \n",
    "\"\"\"\n",
    "\n",
    "# world is a collection of entities and relations:\n",
    "world = entities + unaries + binaries + ternaries\n",
    "\n",
    "# parse the sentences:\n",
    "sents_reps = sem_parser(sentences, syntax, verbose=False)\n",
    "# evaluate them:\n",
    "sents_reps_vals = evaluate_sentences(sents_reps, world)\n",
    "\n",
    "# print all readings\n",
    "for i, (sent, semreps_vals) in enumerate(sents_reps_vals.items()):\n",
    "    for semrep, val in semreps_vals.items():\n",
    "        print(f\"{i+1}. {sent}:\")\n",
    "        display_translation(val, semrep)"
   ]
  },
  {
   "cell_type": "markdown",
   "metadata": {},
   "source": [
    "#### 1.3. Exploiting syntactic ambiguity to represent semantic ambiguity"
   ]
  },
  {
   "cell_type": "markdown",
   "metadata": {},
   "source": [
    "Ditransitive verbs (`DTV`) have two objects. Use the code below to inspect the lexical representation of `give(s)` in the grammar. When constructing a `VP`, we take the semantic representation of a di-trasitive verb `DTV`as a function and apply it on both direct and indirect objects: `vp = ?dtv(?obj,?pp)`. The lambda bound variables `Y` and `X` are substituted with `?obj` and `?pp`."
   ]
  },
  {
   "cell_type": "code",
   "execution_count": 7,
   "metadata": {},
   "outputs": [
    {
     "name": "stdout",
     "output_type": "stream",
     "text": [
      "DTV[NUM='pl', SEM=<\\Y X x.X(\\z.Y(\\y.give(x,y,z)))>, TNS='pres'] -> 'give'\n",
      "VP[NUM=?n, SEM=<?v(?obj,?pp)>] -> DTV[NUM=?n, SEM=?v] NP[SEM=?obj] PP[SEM=?pp, +TO]\n"
     ]
    }
   ],
   "source": [
    "print(syntax.productions()[-1])\n",
    "print(syntax.productions()[-5])"
   ]
  },
  {
   "cell_type": "markdown",
   "metadata": {},
   "source": [
    "In the lecture we discussed that without a mechanism such as Cooper storage we would only get one scoping of quanitifers.\n",
    "\n",
    "One trick to ensure a different scoping for `give(s)` is  to create a parallel syntactic rule that contains a different internal order of composition of arguments in the `SEM`feature as follows: \n",
    "\n",
    "For example, we can change the compositional function from:\n",
    "$$\\lambda Y\\ X\\ x.X(\\lambda z.Y(\\lambda y.give(x,y,z)))$$\n",
    "to:\n",
    "$$\\lambda Y\\ X\\ x.Y(\\lambda y.X(\\lambda z.give(x,y,z)))$$\n",
    "\n",
    "As we now have two rules for `DTV` this will introduce syntactic ambiguity when a parses encouters words such `give(s)`.\n",
    "The following code adds two alternative rules to those in the previous cell. Run the code to see the parse results for sentences and their evaluation in the model."
   ]
  },
  {
   "cell_type": "code",
   "execution_count": 8,
   "metadata": {},
   "outputs": [
    {
     "name": "stdout",
     "output_type": "stream",
     "text": [
      "1. all dogs bite a bone:\n"
     ]
    },
    {
     "data": {
      "text/markdown": [
       "\"True\": $\\forall\\ x.(dog(x)\\ \\to\\ \\exists\\ z_{10}.(bone(z_{10})\\ \\land\\ bite(x,z_{10})))$"
      ],
      "text/plain": [
       "<IPython.core.display.Markdown object>"
      ]
     },
     "metadata": {},
     "output_type": "display_data"
    },
    {
     "name": "stdout",
     "output_type": "stream",
     "text": [
      "2. a man gives a bone to every dog:\n"
     ]
    },
    {
     "data": {
      "text/markdown": [
       "\"True\": $\\exists\\ x.(man(x)\\ \\land\\ \\forall\\ z_{14}.(dog(z_{14})\\ \\to\\ \\exists\\ z_{13}.(bone(z_{13})\\ \\land\\ give(x,z_{13},z_{14}))))$"
      ],
      "text/plain": [
       "<IPython.core.display.Markdown object>"
      ]
     },
     "metadata": {},
     "output_type": "display_data"
    },
    {
     "name": "stdout",
     "output_type": "stream",
     "text": [
      "2. a man gives a bone to every dog:\n"
     ]
    },
    {
     "data": {
      "text/markdown": [
       "\"False\": $\\exists\\ x.(man(x)\\ \\land\\ \\exists\\ z_{11}.(bone(z_{11})\\ \\land\\ \\forall\\ z_{12}.(dog(z_{12})\\ \\to\\ give(x,z_{11},z_{12}))))$"
      ],
      "text/plain": [
       "<IPython.core.display.Markdown object>"
      ]
     },
     "metadata": {},
     "output_type": "display_data"
    },
    {
     "name": "stdout",
     "output_type": "stream",
     "text": [
      "3. Russia gives Moscow to Napoleon:\n"
     ]
    },
    {
     "data": {
      "text/markdown": [
       "\"True\": $give(russia,moscow,napoleon)$"
      ],
      "text/plain": [
       "<IPython.core.display.Markdown object>"
      ]
     },
     "metadata": {},
     "output_type": "display_data"
    }
   ],
   "source": [
    "fcfg_string_give = r\"\"\"\n",
    "DTV[NUM=sg,SEM=<\\Y X x.Y(\\y.X(\\z.give(x,y,z)))>,TNS=pres] -> 'gives'\n",
    "DTV[NUM=pl,SEM=<\\Y X x.Y(\\y.X(\\z.give(x,y,z)))>,TNS=pres] -> 'give'\n",
    "\"\"\"\n",
    "\n",
    "# this is going to add new rules to the syntax:\n",
    "new_syntax = FeatureGrammar(\n",
    "    syntax.start(),\n",
    "    syntax.productions() + FeatureGrammar.fromstring(fcfg_string_give).productions()\n",
    ")\n",
    "\n",
    "# parse the sentences with new syntax:\n",
    "sents_reps = sem_parser(sentences, new_syntax, verbose=False)\n",
    "# evaluate them:\n",
    "sents_reps_vals = evaluate_sentences(sents_reps, world)\n",
    "\n",
    "for i, (sent, semreps_vals) in enumerate(sents_reps_vals.items()):\n",
    "    for semrep, val in semreps_vals.items():\n",
    "        print(f\"{i+1}. {sent}:\")\n",
    "        display_translation(val, semrep)"
   ]
  },
  {
   "cell_type": "markdown",
   "metadata": {},
   "source": [
    "#### 1.4. Questions"
   ]
  },
  {
   "cell_type": "markdown",
   "metadata": {},
   "source": [
    "**1a.** Because the word `give`can now be expanded following two rules we get two extra parse trees for the second and and the third sentence. Answer the following questions: **[2 marks]**\n",
    "   - Why sentence (2) with `give` has two different readings but sentence (3) has only one reading?\n",
    "   - What is the difference between the two representations of sentence (2)?"
   ]
  },
  {
   "cell_type": "markdown",
   "metadata": {},
   "source": [
    "**The Answer**: As we have two rules for the `DTV`, each rule provide a representation for a sentence. Regarding `sentence (2)`, the different order for the verb arguments leads to two different represtations. The *original rule* place the `NP` representation in a place that leads to make the scope of the existential quantifier is related to the most inner part the `VP = VT NP` representation. On the other hand, the *second rule* will lead to a representation that have the existential quantifier scope is related to the most outer part. The existing of two rules introduce simulate the quantifier ambiguity problem.\n",
    "\n",
    "For `sentence (3)`, the two rules provide the same representation; the rules applied are related to `Proper Noun` where for each rule, the `city name` are placed in its right place.\n",
    "\n",
    "The **parsing trees** below better illustrate the answer.\n",
    "\n",
    "The *first reading* of `sentence (2)` can be interpreted as \"one man who gives a bone to all dogs\" while the *second reading* can mean that \"one man gives the same bone to all dogs\""
   ]
  },
  {
   "cell_type": "code",
   "execution_count": 9,
   "metadata": {},
   "outputs": [
    {
     "data": {
      "text/markdown": [
       "----"
      ],
      "text/plain": [
       "<IPython.core.display.Markdown object>"
      ]
     },
     "metadata": {},
     "output_type": "display_data"
    },
    {
     "data": {
      "text/markdown": [
       "$\\exists\\ x.(man(x)\\ \\land\\ \\forall\\ z_{18}.(dog(z_{18})\\ \\to\\ \\exists\\ z_{17}.(bone(z_{17})\\ \\land\\ give(x,z_{17},z_{18}))))$"
      ],
      "text/plain": [
       "<IPython.core.display.Markdown object>"
      ]
     },
     "metadata": {},
     "output_type": "display_data"
    },
    {
     "data": {
      "text/markdown": [
       "<img src=\"data:image/png;base64,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\">"
      ],
      "text/plain": [
       "<IPython.core.display.Markdown object>"
      ]
     },
     "metadata": {},
     "output_type": "display_data"
    },
    {
     "data": {
      "text/markdown": [
       "----"
      ],
      "text/plain": [
       "<IPython.core.display.Markdown object>"
      ]
     },
     "metadata": {},
     "output_type": "display_data"
    },
    {
     "data": {
      "text/markdown": [
       "$\\exists\\ x.(man(x)\\ \\land\\ \\exists\\ z_{15}.(bone(z_{15})\\ \\land\\ \\forall\\ z_{16}.(dog(z_{16})\\ \\to\\ give(x,z_{15},z_{16}))))$"
      ],
      "text/plain": [
       "<IPython.core.display.Markdown object>"
      ]
     },
     "metadata": {},
     "output_type": "display_data"
    },
    {
     "data": {
      "text/markdown": [
       "<img src=\"data:image/png;base64,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\">"
      ],
      "text/plain": [
       "<IPython.core.display.Markdown object>"
      ]
     },
     "metadata": {},
     "output_type": "display_data"
    },
    {
     "data": {
      "text/markdown": [
       "----"
      ],
      "text/plain": [
       "<IPython.core.display.Markdown object>"
      ]
     },
     "metadata": {},
     "output_type": "display_data"
    },
    {
     "data": {
      "text/markdown": [
       "$give(russia,moscow,napoleon)$"
      ],
      "text/plain": [
       "<IPython.core.display.Markdown object>"
      ]
     },
     "metadata": {},
     "output_type": "display_data"
    },
    {
     "data": {
      "text/markdown": [
       "<img src=\"data:image/png;base64,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\">"
      ],
      "text/plain": [
       "<IPython.core.display.Markdown object>"
      ]
     },
     "metadata": {},
     "output_type": "display_data"
    },
    {
     "data": {
      "text/markdown": [
       "----"
      ],
      "text/plain": [
       "<IPython.core.display.Markdown object>"
      ]
     },
     "metadata": {},
     "output_type": "display_data"
    },
    {
     "data": {
      "text/markdown": [
       "$give(russia,moscow,napoleon)$"
      ],
      "text/plain": [
       "<IPython.core.display.Markdown object>"
      ]
     },
     "metadata": {},
     "output_type": "display_data"
    },
    {
     "data": {
      "text/markdown": [
       "<img src=\"data:image/png;base64,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\">"
      ],
      "text/plain": [
       "<IPython.core.display.Markdown object>"
      ]
     },
     "metadata": {},
     "output_type": "display_data"
    }
   ],
   "source": [
    "from nltk.draw.tree import TreeView\n",
    "mysentences = sentences[1:]\n",
    "for i, results in enumerate(nltk.interpret_sents(mysentences, new_syntax)):\n",
    "    for j, (synrep, semrep) in enumerate(results):\n",
    "        display(Markdown('----'))\n",
    "        display_latex(semrep) # prints the SEM feature of a tree\n",
    "        display_tree(synrep) # show the parse tree"
   ]
  },
  {
   "cell_type": "markdown",
   "metadata": {},
   "source": [
    "**1b.** When you evalute sentence (2) in the model above, one reading is True and the other is False. Change the part of the model marked with `???` so that all readings all sentences will be True. **[1 marks]** \n",
    "\n",
    "Explain why the readings are true. **[+1 mark]**"
   ]
  },
  {
   "cell_type": "code",
   "execution_count": 11,
   "metadata": {},
   "outputs": [
    {
     "name": "stdout",
     "output_type": "stream",
     "text": [
      "all dogs bite a bone:\n"
     ]
    },
    {
     "data": {
      "text/markdown": [
       "\"True\": $\\forall\\ x.(dog(x)\\ \\to\\ \\exists\\ z_{10}.(bone(z_{10})\\ \\land\\ bite(x,z_{10})))$"
      ],
      "text/plain": [
       "<IPython.core.display.Markdown object>"
      ]
     },
     "metadata": {},
     "output_type": "display_data"
    },
    {
     "name": "stdout",
     "output_type": "stream",
     "text": [
      "a man gives a bone to every dog:\n"
     ]
    },
    {
     "data": {
      "text/markdown": [
       "\"True\": $\\exists\\ x.(man(x)\\ \\land\\ \\forall\\ z_{14}.(dog(z_{14})\\ \\to\\ \\exists\\ z_{13}.(bone(z_{13})\\ \\land\\ give(x,z_{13},z_{14}))))$"
      ],
      "text/plain": [
       "<IPython.core.display.Markdown object>"
      ]
     },
     "metadata": {},
     "output_type": "display_data"
    },
    {
     "name": "stdout",
     "output_type": "stream",
     "text": [
      "a man gives a bone to every dog:\n"
     ]
    },
    {
     "data": {
      "text/markdown": [
       "\"True\": $\\exists\\ x.(man(x)\\ \\land\\ \\exists\\ z_{11}.(bone(z_{11})\\ \\land\\ \\forall\\ z_{12}.(dog(z_{12})\\ \\to\\ give(x,z_{11},z_{12}))))$"
      ],
      "text/plain": [
       "<IPython.core.display.Markdown object>"
      ]
     },
     "metadata": {},
     "output_type": "display_data"
    },
    {
     "name": "stdout",
     "output_type": "stream",
     "text": [
      "Russia gives Moscow to Napoleon:\n"
     ]
    },
    {
     "data": {
      "text/markdown": [
       "\"True\": $give(russia,moscow,napoleon)$"
      ],
      "text/plain": [
       "<IPython.core.display.Markdown object>"
      ]
     },
     "metadata": {},
     "output_type": "display_data"
    }
   ],
   "source": [
    "ternaries = \"\"\"\n",
    "give => {(c1, c2, m2), (m1, bn2, d1), (m1, bn2, d2), (m1, bn2, d3)}\n",
    "\"\"\"\n",
    "\n",
    "# new world\n",
    "world = entities + unaries + binaries + ternaries\n",
    "\n",
    "# evaluate them:\n",
    "sents_reps_vals = evaluate_sentences(sents_reps, world)\n",
    "\n",
    "for sent, semreps_vals in sents_reps_vals.items():\n",
    "    for semrep, val in semreps_vals.items():\n",
    "        print(f\"{sent}:\")\n",
    "        display_translation(val, semrep)"
   ]
  },
  {
   "cell_type": "markdown",
   "metadata": {},
   "source": [
    "**The answer**:  \n",
    "Since the second interpretation states that at least one man gives the same bone to all dogs, we changed the model so that it's always `bn2` that is given to dogs. The first reading is still true, since it only demands that a bone be given to every dog, no matter which one."
   ]
  },
  {
   "cell_type": "markdown",
   "metadata": {},
   "source": [
    "**1c.** Consider a world with a `bite` relation as shown below.\n",
    "Write *another* representation of the sentence \"all dogs bite a bone\" \n",
    "that is different from the one you get above and that is *True* in this model. \n",
    "Write your answer in `???`. **[1 mark]** "
   ]
  },
  {
   "cell_type": "code",
   "execution_count": 12,
   "metadata": {},
   "outputs": [
    {
     "name": "stdout",
     "output_type": "stream",
     "text": [
      "1. all dogs bite a bone:\n"
     ]
    },
    {
     "data": {
      "text/markdown": [
       "\"True\": $\\forall\\ x.(dog(x)\\ \\to\\ \\exists\\ z_{10}.(bone(z_{10})\\ \\land\\ bite(x,z_{10})))$"
      ],
      "text/plain": [
       "<IPython.core.display.Markdown object>"
      ]
     },
     "metadata": {},
     "output_type": "display_data"
    },
    {
     "name": "stdout",
     "output_type": "stream",
     "text": [
      "1. all dogs bite a bone:\n"
     ]
    },
    {
     "data": {
      "text/markdown": [
       "\"True\": $\\exists\\ y.(bone(y)\\ \\land\\ \\forall\\ x.(dog(x)\\ \\to\\ bite(x,y)))$"
      ],
      "text/plain": [
       "<IPython.core.display.Markdown object>"
      ]
     },
     "metadata": {},
     "output_type": "display_data"
    }
   ],
   "source": [
    "binaries = \"\"\"\n",
    "bite => {(d1, bn1), (d2, bn1), (d3, bn1)} \n",
    "\"\"\"\n",
    "\n",
    "# new world\n",
    "world = entities + unaries + binaries + ternaries\n",
    "\n",
    "sents_reps_copy = deepcopy(sents_reps)\n",
    "sents_reps_copy['all dogs bite a bone'].append(\n",
    "    read_expr(r\"exists y. (bone(y) & all x. (dog(x) -> bite(x,y)))\")\n",
    ")\n",
    "\n",
    "# evaluate them:\n",
    "sents_reps_vals_copy = evaluate_sentences(sents_reps_copy, world)\n",
    "\n",
    "for i, (sent, semreps_vals) in enumerate(sents_reps_vals_copy.items()):\n",
    "    if sent == 'all dogs bite a bone':\n",
    "        for semrep, val in semreps_vals.items():\n",
    "            print(f\"{i+1}. {sent}:\")\n",
    "            display_translation(val, semrep)"
   ]
  },
  {
   "cell_type": "markdown",
   "metadata": {},
   "source": [
    "**1d.** Consider a new set of tuples representing the `give` predicate below.\n",
    "Write *another* representation for \"a man gives a bone to every dog\"\n",
    "that is *True* in the updated model.\n",
    "Write your answer in `???`. **[1 mark]** "
   ]
  },
  {
   "cell_type": "code",
   "execution_count": 14,
   "metadata": {},
   "outputs": [
    {
     "name": "stdout",
     "output_type": "stream",
     "text": [
      "2. a man gives a bone to every dog:\n"
     ]
    },
    {
     "data": {
      "text/markdown": [
       "\"False\": $\\exists\\ x.(man(x)\\ \\land\\ \\forall\\ z_{14}.(dog(z_{14})\\ \\to\\ \\exists\\ z_{13}.(bone(z_{13})\\ \\land\\ give(x,z_{13},z_{14}))))$"
      ],
      "text/plain": [
       "<IPython.core.display.Markdown object>"
      ]
     },
     "metadata": {},
     "output_type": "display_data"
    },
    {
     "name": "stdout",
     "output_type": "stream",
     "text": [
      "2. a man gives a bone to every dog:\n"
     ]
    },
    {
     "data": {
      "text/markdown": [
       "\"False\": $\\exists\\ x.(man(x)\\ \\land\\ \\exists\\ z_{11}.(bone(z_{11})\\ \\land\\ \\forall\\ z_{12}.(dog(z_{12})\\ \\to\\ give(x,z_{11},z_{12}))))$"
      ],
      "text/plain": [
       "<IPython.core.display.Markdown object>"
      ]
     },
     "metadata": {},
     "output_type": "display_data"
    },
    {
     "name": "stdout",
     "output_type": "stream",
     "text": [
      "2. a man gives a bone to every dog:\n"
     ]
    },
    {
     "data": {
      "text/markdown": [
       "\"True\": $\\forall\\ z.(dog(z)\\ \\to\\ \\exists\\ x.(man(x)\\ \\land\\ \\exists\\ y.(bone(y)\\ \\land\\ give(x,y,z))))$"
      ],
      "text/plain": [
       "<IPython.core.display.Markdown object>"
      ]
     },
     "metadata": {},
     "output_type": "display_data"
    }
   ],
   "source": [
    "ternaries = \"\"\"\n",
    "give => {(c1, c2, m2), (m2, bn1, d1), (m1, bn1, d2), (m1, bn1, d3)}\n",
    "\"\"\"\n",
    "\n",
    "# new world\n",
    "world = entities + unaries + binaries + ternaries\n",
    "\n",
    "sents_reps_copy = deepcopy(sents_reps)\n",
    "sents_reps_copy['a man gives a bone to every dog'].append(\n",
    "    read_expr(r\"(all z.(dog(z) -> (exists x.(man(x) & exists y. (bone(y) & give(x,y,z))))))\")\n",
    ")\n",
    "\n",
    "# evaluate them:\n",
    "sents_reps_vals_copy = evaluate_sentences(sents_reps_copy, world)\n",
    "\n",
    "for i, (sent, semreps_vals) in enumerate(sents_reps_vals_copy.items()):\n",
    "    if sent == 'a man gives a bone to every dog':\n",
    "        for semrep, val in semreps_vals.items():\n",
    "            print(f\"{i+1}. {sent}:\")\n",
    "            display_translation(val, semrep)"
   ]
  },
  {
   "cell_type": "markdown",
   "metadata": {},
   "source": [
    "### 2. Cooper storage [8 marks in total]"
   ]
  },
  {
   "cell_type": "markdown",
   "metadata": {},
   "source": [
    "#### 2.1. Learn about CooperSotrage\n",
    "Study the following grammar with a `SEM` that is split between `CORE` and `STORE`. However, in this example, we never add anything to the `STORE`."
   ]
  },
  {
   "cell_type": "code",
   "execution_count": 15,
   "metadata": {
    "scrolled": false
   },
   "outputs": [
    {
     "name": "stdout",
     "output_type": "stream",
     "text": [
      "1. Angus reads a book\n"
     ]
    },
    {
     "data": {
      "text/markdown": [
       "\"1\": $\\exists\\ z_{19}.(book(z_{19})\\ \\land\\ read(angus,z_{19}))$"
      ],
      "text/plain": [
       "<IPython.core.display.Markdown object>"
      ]
     },
     "metadata": {},
     "output_type": "display_data"
    },
    {
     "name": "stdout",
     "output_type": "stream",
     "text": [
      "2. every girl reads a book\n"
     ]
    },
    {
     "data": {
      "text/markdown": [
       "\"1\": $\\forall\\ x.(girl(x)\\ \\to\\ \\exists\\ z_{20}.(book(z_{20})\\ \\land\\ read(x,z_{20})))$"
      ],
      "text/plain": [
       "<IPython.core.display.Markdown object>"
      ]
     },
     "metadata": {},
     "output_type": "display_data"
    },
    {
     "name": "stdout",
     "output_type": "stream",
     "text": [
      "3. every library gives a book to a girl\n"
     ]
    },
    {
     "data": {
      "text/markdown": [
       "\"1\": $\\forall\\ x.(library(x)\\ \\to\\ \\exists\\ z_{22}.(book(z_{22})\\ \\land\\ \\exists\\ z_{21}.(girl(z_{21})\\ \\land\\ give(x,z_{21},z_{22}))))$"
      ],
      "text/plain": [
       "<IPython.core.display.Markdown object>"
      ]
     },
     "metadata": {},
     "output_type": "display_data"
    }
   ],
   "source": [
    "fcfg_storage_base = r\"\"\"\n",
    "% start S\n",
    "\n",
    "S[SEM=[CORE=<?subj(?vp)>, STORE=(?b1+?b2)]] -> NP[NUM=?n,SEM=[CORE=?subj, STORE=?b1]] VP[NUM=?n,SEM=[CORE=?vp, STORE=?b2]]\n",
    "\n",
    "Nom[NUM=?n,SEM=?s] -> N[NUM=?n,SEM=?s]\n",
    "\n",
    "VP[NUM=?n,SEM=?s] -> IV[NUM=?n,SEM=?s]\n",
    "VP[NUM=?n,SEM=[CORE=<?v(?obj)>, STORE=(?b1+?b2)]] -> TV[NUM=?n,SEM=[CORE=?v, STORE=?b1]] NP[SEM=[CORE=?obj, STORE=?b2]]\n",
    "VP[NUM=?n,SEM=[CORE=<?v(?pp)(?obj)>, STORE=(?b1+?b2+?b3)]] -> DTV[NUM=?n,SEM=[CORE=?v, STORE=?b1]] NP[SEM=[CORE=?obj, STORE=?b2]] PP[+TO,SEM=[CORE=?pp, STORE=?b3]]\n",
    "\n",
    "PP[+TO, SEM=[CORE=?np, STORE=?b1]] -> P[+TO] NP[SEM=[CORE=?np, STORE=?b1]]\n",
    "\"\"\"\n",
    "\n",
    "fcfg_storage_lexicon = r\"\"\"\n",
    "PropN[NUM=sg,SEM=[CORE=<\\P.P(angus)>, STORE=(/)]] -> 'Angus'\n",
    "PropN[NUM=sg,SEM=[CORE=<\\P.P(cyril)>, STORE=(/)]] -> 'Cyril'\n",
    "PropN[NUM=sg,SEM=[CORE=<\\P.P(irene)>, STORE=(/)]] -> 'Irene'\n",
    "\n",
    "Det[NUM=sg,SEM=[CORE=<\\P Q.all x.(P(x) -> Q(x))>, STORE=(/)]] -> 'every'\n",
    "Det[NUM=sg,SEM=[CORE=<\\P Q.exists x.(P(x) & Q(x))>, STORE=(/)]] -> 'a'\n",
    "\n",
    "N[NUM=sg,SEM=[CORE=<\\x.library(x)>, STORE=(/)]] -> 'library'\n",
    "N[NUM=sg,SEM=[CORE=<\\x.girl(x)>, STORE=(/)]] -> 'girl'\n",
    "N[NUM=sg,SEM=[CORE=<\\x.boy(x)>, STORE=(/)]] -> 'boy'\n",
    "N[NUM=sg,SEM=[CORE=<\\x.book(x)>, STORE=(/)]] -> 'book'\n",
    "\n",
    "IV[NUM=sg,SEM=[CORE=<\\x.smile(x)>, STORE=(/)],TNS=pres] -> 'smiles' \n",
    "\n",
    "TV[NUM=sg,SEM=[CORE=<\\X x.X(\\y.read(x,y))>, STORE=(/)],TNS=pres] -> 'reads'\n",
    "\n",
    "DTV[NUM=sg,SEM=[CORE=<\\Y X x.X(\\z.Y(\\y.give(x,y,z)))>, STORE=(/)],TNS=pres] -> 'gives'\n",
    "\n",
    "P[+to] -> 'to'\n",
    "\"\"\" \n",
    "\n",
    "fcfg_storage_np = r\"\"\"\n",
    "NP[NUM=?n,SEM=[CORE=?np, STORE=?b1]] -> PropN[NUM=?n,SEM=[CORE=?np, STORE=?b1]]\n",
    "NP[NUM=?n,SEM=[CORE=<?det(?nom)>, STORE=(?b1+?b2)]] -> Det[NUM=?n,SEM=[CORE=?det, STORE=?b1]] Nom[NUM=?n,SEM=[CORE=?nom, STORE=?b2]]\n",
    "\"\"\"\n",
    "\n",
    "sentences = [\n",
    "    'Angus reads a book',\n",
    "    'every girl reads a book',\n",
    "    'every library gives a book to a girl',\n",
    "]\n",
    "\n",
    "fcfg_storage = fcfg_storage_base + fcfg_storage_np + fcfg_storage_lexicon\n",
    "cs_syntax = FeatureGrammar.fromstring(fcfg_storage)\n",
    "sents_reps = sem_parser(sentences, cs_syntax, verbose=False, is_cs=True)\n",
    "\n",
    "for i, (sent, semreps) in enumerate(sents_reps.items()):\n",
    "    counter = 0\n",
    "    print(f\"{i+1}. {sent}\")\n",
    "    for semrep in semreps:\n",
    "        counter += 1\n",
    "        display_translation(counter, semrep)"
   ]
  },
  {
   "cell_type": "markdown",
   "metadata": {},
   "source": [
    "With the following change to the `NP` rule we push representations to the `STORE` and replace them with a simple varible in the `CORE` (which is then type raised to <<e,t>,t> so that it it can combine with a transitive verb entry)."
   ]
  },
  {
   "cell_type": "code",
   "execution_count": 16,
   "metadata": {},
   "outputs": [
    {
     "name": "stdout",
     "output_type": "stream",
     "text": [
      "1. Angus reads a book\n"
     ]
    },
    {
     "data": {
      "text/markdown": [
       "\"1\": $\\exists\\ x.(book(x)\\ \\land\\ read(angus,x))$"
      ],
      "text/plain": [
       "<IPython.core.display.Markdown object>"
      ]
     },
     "metadata": {},
     "output_type": "display_data"
    },
    {
     "data": {
      "text/markdown": [
       "\"2\": $\\exists\\ x.(book(x)\\ \\land\\ read(angus,x))$"
      ],
      "text/plain": [
       "<IPython.core.display.Markdown object>"
      ]
     },
     "metadata": {},
     "output_type": "display_data"
    },
    {
     "name": "stdout",
     "output_type": "stream",
     "text": [
      "2. every girl reads a book\n"
     ]
    },
    {
     "data": {
      "text/markdown": [
       "\"1\": $\\exists\\ x.(book(x)\\ \\land\\ \\forall\\ z_{23}.(girl(z_{23})\\ \\to\\ read(z_{23},x)))$"
      ],
      "text/plain": [
       "<IPython.core.display.Markdown object>"
      ]
     },
     "metadata": {},
     "output_type": "display_data"
    },
    {
     "data": {
      "text/markdown": [
       "\"2\": $\\forall\\ x.(girl(x)\\ \\to\\ \\exists\\ z_{24}.(book(z_{24})\\ \\land\\ read(x,z_{24})))$"
      ],
      "text/plain": [
       "<IPython.core.display.Markdown object>"
      ]
     },
     "metadata": {},
     "output_type": "display_data"
    },
    {
     "name": "stdout",
     "output_type": "stream",
     "text": [
      "3. every library gives a book to a girl\n"
     ]
    },
    {
     "data": {
      "text/markdown": [
       "\"1\": $\\exists\\ x.(girl(x)\\ \\land\\ \\exists\\ z_{26}.(book(z_{26})\\ \\land\\ \\forall\\ z_{25}.(library(z_{25})\\ \\to\\ give(z_{25},x,z_{26}))))$"
      ],
      "text/plain": [
       "<IPython.core.display.Markdown object>"
      ]
     },
     "metadata": {},
     "output_type": "display_data"
    },
    {
     "data": {
      "text/markdown": [
       "\"2\": $\\exists\\ x.(book(x)\\ \\land\\ \\exists\\ z_{28}.(girl(z_{28})\\ \\land\\ \\forall\\ z_{27}.(library(z_{27})\\ \\to\\ give(z_{27},z_{28},x))))$"
      ],
      "text/plain": [
       "<IPython.core.display.Markdown object>"
      ]
     },
     "metadata": {},
     "output_type": "display_data"
    },
    {
     "data": {
      "text/markdown": [
       "\"3\": $\\exists\\ x.(girl(x)\\ \\land\\ \\forall\\ z_{30}.(library(z_{30})\\ \\to\\ \\exists\\ z_{29}.(book(z_{29})\\ \\land\\ give(z_{30},x,z_{29}))))$"
      ],
      "text/plain": [
       "<IPython.core.display.Markdown object>"
      ]
     },
     "metadata": {},
     "output_type": "display_data"
    },
    {
     "data": {
      "text/markdown": [
       "\"4\": $\\forall\\ x.(library(x)\\ \\to\\ \\exists\\ z_{32}.(girl(z_{32})\\ \\land\\ \\exists\\ z_{31}.(book(z_{31})\\ \\land\\ give(x,z_{32},z_{31}))))$"
      ],
      "text/plain": [
       "<IPython.core.display.Markdown object>"
      ]
     },
     "metadata": {},
     "output_type": "display_data"
    },
    {
     "data": {
      "text/markdown": [
       "\"5\": $\\exists\\ x.(book(x)\\ \\land\\ \\forall\\ z_{34}.(library(z_{34})\\ \\to\\ \\exists\\ z_{33}.(girl(z_{33})\\ \\land\\ give(z_{34},z_{33},x))))$"
      ],
      "text/plain": [
       "<IPython.core.display.Markdown object>"
      ]
     },
     "metadata": {},
     "output_type": "display_data"
    },
    {
     "data": {
      "text/markdown": [
       "\"6\": $\\forall\\ x.(library(x)\\ \\to\\ \\exists\\ z_{36}.(book(z_{36})\\ \\land\\ \\exists\\ z_{35}.(girl(z_{35})\\ \\land\\ give(x,z_{35},z_{36}))))$"
      ],
      "text/plain": [
       "<IPython.core.display.Markdown object>"
      ]
     },
     "metadata": {},
     "output_type": "display_data"
    }
   ],
   "source": [
    "fcfg_storage_np = r\"\"\"\n",
    "NP[NUM=?n,SEM=[CORE=<\\P.P(@x)>, STORE=(<bo(?np, @x)>+?b1)]] -> PropN[NUM=?n,SEM=[CORE=?np, STORE=?b1]]\n",
    "NP[NUM=?n,SEM=[CORE=<\\P.P(@x)>, STORE=(<bo(?det(?nom), @x)>+?b1+?b2)]] -> Det[NUM=?n,SEM=[CORE=?det, STORE=?b1]] Nom[NUM=?n,SEM=[CORE=?nom, STORE=?b2]]\n",
    "\"\"\"\n",
    "\n",
    "sentences = [\n",
    "    'Angus reads a book',\n",
    "    'every girl reads a book',\n",
    "    'every library gives a book to a girl',\n",
    "]\n",
    "\n",
    "fcfg_storage = fcfg_storage_base + fcfg_storage_np + fcfg_storage_lexicon\n",
    "cs_syntax = FeatureGrammar.fromstring(fcfg_storage)\n",
    "sents_reps = sem_parser(sentences, cs_syntax, verbose=False, is_cs=True)\n",
    "\n",
    "for i, (sent, semreps) in enumerate(sents_reps.items()):\n",
    "    counter = 0\n",
    "    print(f\"{i+1}. {sent}\")\n",
    "    for semrep in semreps:\n",
    "        counter += 1\n",
    "        display_translation(counter, semrep)"
   ]
  },
  {
   "cell_type": "markdown",
   "metadata": {},
   "source": [
    "#### 2.2. Questions"
   ]
  },
  {
   "cell_type": "markdown",
   "metadata": {},
   "source": [
    "**2a.** There are two identical readings of the first sentence. Why is this so? Suggest a change that would ensure you do not get doublicate readings for the first sentence but you get  alternative readings for the other sentence. **[2 marks]**"
   ]
  },
  {
   "cell_type": "markdown",
   "metadata": {},
   "source": [
    "**Write explanation here** The first sentence also includes a quantifier, so with the cooper storage it gets two different readings. But since it's only one quantifier and a proper noun, there is no difference between the readings. A solution to this would be to keep the store empty for proper nouns, but keep it for other noun phrases. ..."
   ]
  },
  {
   "cell_type": "code",
   "execution_count": 17,
   "metadata": {},
   "outputs": [
    {
     "name": "stdout",
     "output_type": "stream",
     "text": [
      "1. Angus reads a book\n"
     ]
    },
    {
     "data": {
      "text/markdown": [
       "\"1\": $\\exists\\ x.(book(x)\\ \\land\\ read(angus,x))$"
      ],
      "text/plain": [
       "<IPython.core.display.Markdown object>"
      ]
     },
     "metadata": {},
     "output_type": "display_data"
    },
    {
     "name": "stdout",
     "output_type": "stream",
     "text": [
      "2. every girl reads a book\n"
     ]
    },
    {
     "data": {
      "text/markdown": [
       "\"1\": $\\exists\\ x.(book(x)\\ \\land\\ \\forall\\ z_{37}.(girl(z_{37})\\ \\to\\ read(z_{37},x)))$"
      ],
      "text/plain": [
       "<IPython.core.display.Markdown object>"
      ]
     },
     "metadata": {},
     "output_type": "display_data"
    },
    {
     "data": {
      "text/markdown": [
       "\"2\": $\\forall\\ x.(girl(x)\\ \\to\\ \\exists\\ z_{38}.(book(z_{38})\\ \\land\\ read(x,z_{38})))$"
      ],
      "text/plain": [
       "<IPython.core.display.Markdown object>"
      ]
     },
     "metadata": {},
     "output_type": "display_data"
    }
   ],
   "source": [
    "sentences = [\n",
    "    'Angus reads a book',\n",
    "    'every girl reads a book'\n",
    "]\n",
    "\n",
    "fcfg_storage_np = r\"\"\"\n",
    "## Change the rule below:\n",
    "NP[NUM=?n,SEM=[CORE=?np, STORE=?b1]] -> PropN[NUM=?n,SEM=[CORE=?np, STORE=?b1]]\n",
    "NP[NUM=?n,SEM=[CORE=<\\P.P(@x)>, STORE=(<bo(?det(?nom), @x)>+?b1+?b2)]] -> Det[NUM=?n,SEM=[CORE=?det, STORE=?b1]] Nom[NUM=?n,SEM=[CORE=?nom, STORE=?b2]]\n",
    "\"\"\"\n",
    "\n",
    "\n",
    "fcfg_storage = fcfg_storage_base + fcfg_storage_np + fcfg_storage_lexicon \n",
    "cs_syntax = FeatureGrammar.fromstring(fcfg_storage)\n",
    "sents_reps = sem_parser(sentences, cs_syntax, verbose=False, is_cs=True)\n",
    "\n",
    "for i, (sent, semreps) in enumerate(sents_reps.items()):\n",
    "    counter = 0\n",
    "    print(f\"{i+1}. {sent}\")\n",
    "    for semrep in semreps:\n",
    "        counter += 1\n",
    "        display_translation(counter, semrep)"
   ]
  },
  {
   "cell_type": "markdown",
   "metadata": {},
   "source": [
    "**2b.** Extend the grammar below to cover the following sentences: **[6 marks]**"
   ]
  },
  {
   "cell_type": "code",
   "execution_count": 18,
   "metadata": {
    "scrolled": false
   },
   "outputs": [
    {
     "name": "stdout",
     "output_type": "stream",
     "text": [
      "1. every library gives a book to every girl and every boy\n"
     ]
    },
    {
     "data": {
      "text/markdown": [
       "\"1\": $\\forall\\ x.(boy(x)\\ \\to\\ \\forall\\ z_{41}.(girl(z_{41})\\ \\to\\ \\exists\\ z_{40}.(book(z_{40})\\ \\land\\ \\forall\\ z_{39}.(library(z_{39})\\ \\to\\ (give(z_{39},z_{41},z_{40})\\ \\land\\ give(z_{39},x,z_{40}))))))$"
      ],
      "text/plain": [
       "<IPython.core.display.Markdown object>"
      ]
     },
     "metadata": {},
     "output_type": "display_data"
    },
    {
     "data": {
      "text/markdown": [
       "\"2\": $\\forall\\ x.(girl(x)\\ \\to\\ \\forall\\ z_{44}.(boy(z_{44})\\ \\to\\ \\exists\\ z_{43}.(book(z_{43})\\ \\land\\ \\forall\\ z_{42}.(library(z_{42})\\ \\to\\ (give(z_{42},x,z_{43})\\ \\land\\ give(z_{42},z_{44},z_{43}))))))$"
      ],
      "text/plain": [
       "<IPython.core.display.Markdown object>"
      ]
     },
     "metadata": {},
     "output_type": "display_data"
    },
    {
     "data": {
      "text/markdown": [
       "\"3\": $\\forall\\ x.(boy(x)\\ \\to\\ \\exists\\ z_{47}.(book(z_{47})\\ \\land\\ \\forall\\ z_{46}.(girl(z_{46})\\ \\to\\ \\forall\\ z_{45}.(library(z_{45})\\ \\to\\ (give(z_{45},z_{46},z_{47})\\ \\land\\ give(z_{45},x,z_{47}))))))$"
      ],
      "text/plain": [
       "<IPython.core.display.Markdown object>"
      ]
     },
     "metadata": {},
     "output_type": "display_data"
    },
    {
     "data": {
      "text/markdown": [
       "\"4\": $\\exists\\ x.(book(x)\\ \\land\\ \\forall\\ z_{50}.(boy(z_{50})\\ \\to\\ \\forall\\ z_{49}.(girl(z_{49})\\ \\to\\ \\forall\\ z_{48}.(library(z_{48})\\ \\to\\ (give(z_{48},z_{49},x)\\ \\land\\ give(z_{48},z_{50},x))))))$"
      ],
      "text/plain": [
       "<IPython.core.display.Markdown object>"
      ]
     },
     "metadata": {},
     "output_type": "display_data"
    },
    {
     "data": {
      "text/markdown": [
       "\"5\": $\\forall\\ x.(girl(x)\\ \\to\\ \\exists\\ z_{53}.(book(z_{53})\\ \\land\\ \\forall\\ z_{52}.(boy(z_{52})\\ \\to\\ \\forall\\ z_{51}.(library(z_{51})\\ \\to\\ (give(z_{51},x,z_{53})\\ \\land\\ give(z_{51},z_{52},z_{53}))))))$"
      ],
      "text/plain": [
       "<IPython.core.display.Markdown object>"
      ]
     },
     "metadata": {},
     "output_type": "display_data"
    },
    {
     "data": {
      "text/markdown": [
       "\"6\": $\\exists\\ x.(book(x)\\ \\land\\ \\forall\\ z_{56}.(girl(z_{56})\\ \\to\\ \\forall\\ z_{55}.(boy(z_{55})\\ \\to\\ \\forall\\ z_{54}.(library(z_{54})\\ \\to\\ (give(z_{54},z_{56},x)\\ \\land\\ give(z_{54},z_{55},x))))))$"
      ],
      "text/plain": [
       "<IPython.core.display.Markdown object>"
      ]
     },
     "metadata": {},
     "output_type": "display_data"
    },
    {
     "data": {
      "text/markdown": [
       "\"7\": $\\forall\\ x.(boy(x)\\ \\to\\ \\forall\\ z_{59}.(girl(z_{59})\\ \\to\\ \\forall\\ z_{58}.(library(z_{58})\\ \\to\\ \\exists\\ z_{57}.(book(z_{57})\\ \\land\\ give(z_{58},z_{59},z_{57})\\ \\land\\ give(z_{58},x,z_{57})))))$"
      ],
      "text/plain": [
       "<IPython.core.display.Markdown object>"
      ]
     },
     "metadata": {},
     "output_type": "display_data"
    },
    {
     "data": {
      "text/markdown": [
       "\"8\": $\\forall\\ x.(girl(x)\\ \\to\\ \\forall\\ z_{62}.(boy(z_{62})\\ \\to\\ \\forall\\ z_{61}.(library(z_{61})\\ \\to\\ \\exists\\ z_{60}.(book(z_{60})\\ \\land\\ give(z_{61},x,z_{60})\\ \\land\\ give(z_{61},z_{62},z_{60})))))$"
      ],
      "text/plain": [
       "<IPython.core.display.Markdown object>"
      ]
     },
     "metadata": {},
     "output_type": "display_data"
    },
    {
     "data": {
      "text/markdown": [
       "\"9\": $\\forall\\ x.(boy(x)\\ \\to\\ \\forall\\ z_{65}.(library(z_{65})\\ \\to\\ \\forall\\ z_{64}.(girl(z_{64})\\ \\to\\ \\exists\\ z_{63}.(book(z_{63})\\ \\land\\ give(z_{65},z_{64},z_{63})\\ \\land\\ give(z_{65},x,z_{63})))))$"
      ],
      "text/plain": [
       "<IPython.core.display.Markdown object>"
      ]
     },
     "metadata": {},
     "output_type": "display_data"
    },
    {
     "data": {
      "text/markdown": [
       "\"10\": $\\forall\\ x.(library(x)\\ \\to\\ \\forall\\ z_{68}.(boy(z_{68})\\ \\to\\ \\forall\\ z_{67}.(girl(z_{67})\\ \\to\\ \\exists\\ z_{66}.(book(z_{66})\\ \\land\\ give(x,z_{67},z_{66})\\ \\land\\ give(x,z_{68},z_{66})))))$"
      ],
      "text/plain": [
       "<IPython.core.display.Markdown object>"
      ]
     },
     "metadata": {},
     "output_type": "display_data"
    },
    {
     "data": {
      "text/markdown": [
       "\"11\": $\\forall\\ x.(girl(x)\\ \\to\\ \\forall\\ z_{71}.(library(z_{71})\\ \\to\\ \\forall\\ z_{70}.(boy(z_{70})\\ \\to\\ \\exists\\ z_{69}.(book(z_{69})\\ \\land\\ give(z_{71},x,z_{69})\\ \\land\\ give(z_{71},z_{70},z_{69})))))$"
      ],
      "text/plain": [
       "<IPython.core.display.Markdown object>"
      ]
     },
     "metadata": {},
     "output_type": "display_data"
    },
    {
     "data": {
      "text/markdown": [
       "\"12\": $\\forall\\ x.(library(x)\\ \\to\\ \\forall\\ z_{74}.(girl(z_{74})\\ \\to\\ \\forall\\ z_{73}.(boy(z_{73})\\ \\to\\ \\exists\\ z_{72}.(book(z_{72})\\ \\land\\ give(x,z_{74},z_{72})\\ \\land\\ give(x,z_{73},z_{72})))))$"
      ],
      "text/plain": [
       "<IPython.core.display.Markdown object>"
      ]
     },
     "metadata": {},
     "output_type": "display_data"
    },
    {
     "data": {
      "text/markdown": [
       "\"13\": $\\forall\\ x.(boy(x)\\ \\to\\ \\exists\\ z_{77}.(book(z_{77})\\ \\land\\ \\forall\\ z_{76}.(library(z_{76})\\ \\to\\ \\forall\\ z_{75}.(girl(z_{75})\\ \\to\\ (give(z_{76},z_{75},z_{77})\\ \\land\\ give(z_{76},x,z_{77}))))))$"
      ],
      "text/plain": [
       "<IPython.core.display.Markdown object>"
      ]
     },
     "metadata": {},
     "output_type": "display_data"
    },
    {
     "data": {
      "text/markdown": [
       "\"14\": $\\exists\\ x.(book(x)\\ \\land\\ \\forall\\ z_{80}.(boy(z_{80})\\ \\to\\ \\forall\\ z_{79}.(library(z_{79})\\ \\to\\ \\forall\\ z_{78}.(girl(z_{78})\\ \\to\\ (give(z_{79},z_{78},x)\\ \\land\\ give(z_{79},z_{80},x))))))$"
      ],
      "text/plain": [
       "<IPython.core.display.Markdown object>"
      ]
     },
     "metadata": {},
     "output_type": "display_data"
    },
    {
     "data": {
      "text/markdown": [
       "\"15\": $\\forall\\ x.(boy(x)\\ \\to\\ \\forall\\ z_{83}.(library(z_{83})\\ \\to\\ \\exists\\ z_{82}.(book(z_{82})\\ \\land\\ \\forall\\ z_{81}.(girl(z_{81})\\ \\to\\ (give(z_{83},z_{81},z_{82})\\ \\land\\ give(z_{83},x,z_{82}))))))$"
      ],
      "text/plain": [
       "<IPython.core.display.Markdown object>"
      ]
     },
     "metadata": {},
     "output_type": "display_data"
    },
    {
     "data": {
      "text/markdown": [
       "\"16\": $\\forall\\ x.(library(x)\\ \\to\\ \\forall\\ z_{86}.(boy(z_{86})\\ \\to\\ \\exists\\ z_{85}.(book(z_{85})\\ \\land\\ \\forall\\ z_{84}.(girl(z_{84})\\ \\to\\ (give(x,z_{84},z_{85})\\ \\land\\ give(x,z_{86},z_{85}))))))$"
      ],
      "text/plain": [
       "<IPython.core.display.Markdown object>"
      ]
     },
     "metadata": {},
     "output_type": "display_data"
    },
    {
     "data": {
      "text/markdown": [
       "\"17\": $\\exists\\ x.(book(x)\\ \\land\\ \\forall\\ z_{89}.(library(z_{89})\\ \\to\\ \\forall\\ z_{88}.(boy(z_{88})\\ \\to\\ \\forall\\ z_{87}.(girl(z_{87})\\ \\to\\ (give(z_{89},z_{87},x)\\ \\land\\ give(z_{89},z_{88},x))))))$"
      ],
      "text/plain": [
       "<IPython.core.display.Markdown object>"
      ]
     },
     "metadata": {},
     "output_type": "display_data"
    },
    {
     "data": {
      "text/markdown": [
       "\"18\": $\\forall\\ x.(library(x)\\ \\to\\ \\exists\\ z_{92}.(book(z_{92})\\ \\land\\ \\forall\\ z_{91}.(boy(z_{91})\\ \\to\\ \\forall\\ z_{90}.(girl(z_{90})\\ \\to\\ (give(x,z_{90},z_{92})\\ \\land\\ give(x,z_{91},z_{92}))))))$"
      ],
      "text/plain": [
       "<IPython.core.display.Markdown object>"
      ]
     },
     "metadata": {},
     "output_type": "display_data"
    },
    {
     "data": {
      "text/markdown": [
       "\"19\": $\\forall\\ x.(girl(x)\\ \\to\\ \\exists\\ z_{95}.(book(z_{95})\\ \\land\\ \\forall\\ z_{94}.(library(z_{94})\\ \\to\\ \\forall\\ z_{93}.(boy(z_{93})\\ \\to\\ (give(z_{94},x,z_{95})\\ \\land\\ give(z_{94},z_{93},z_{95}))))))$"
      ],
      "text/plain": [
       "<IPython.core.display.Markdown object>"
      ]
     },
     "metadata": {},
     "output_type": "display_data"
    },
    {
     "data": {
      "text/markdown": [
       "\"20\": $\\exists\\ x.(book(x)\\ \\land\\ \\forall\\ z_{98}.(girl(z_{98})\\ \\to\\ \\forall\\ z_{97}.(library(z_{97})\\ \\to\\ \\forall\\ z_{96}.(boy(z_{96})\\ \\to\\ (give(z_{97},z_{98},x)\\ \\land\\ give(z_{97},z_{96},x))))))$"
      ],
      "text/plain": [
       "<IPython.core.display.Markdown object>"
      ]
     },
     "metadata": {},
     "output_type": "display_data"
    },
    {
     "data": {
      "text/markdown": [
       "\"21\": $\\forall\\ x.(girl(x)\\ \\to\\ \\forall\\ z_{101}.(library(z_{101})\\ \\to\\ \\exists\\ z_{100}.(book(z_{100})\\ \\land\\ \\forall\\ z_{99}.(boy(z_{99})\\ \\to\\ (give(z_{101},x,z_{100})\\ \\land\\ give(z_{101},z_{99},z_{100}))))))$"
      ],
      "text/plain": [
       "<IPython.core.display.Markdown object>"
      ]
     },
     "metadata": {},
     "output_type": "display_data"
    },
    {
     "data": {
      "text/markdown": [
       "\"22\": $\\forall\\ x.(library(x)\\ \\to\\ \\forall\\ z_{104}.(girl(z_{104})\\ \\to\\ \\exists\\ z_{103}.(book(z_{103})\\ \\land\\ \\forall\\ z_{102}.(boy(z_{102})\\ \\to\\ (give(x,z_{104},z_{103})\\ \\land\\ give(x,z_{102},z_{103}))))))$"
      ],
      "text/plain": [
       "<IPython.core.display.Markdown object>"
      ]
     },
     "metadata": {},
     "output_type": "display_data"
    },
    {
     "data": {
      "text/markdown": [
       "\"23\": $\\exists\\ x.(book(x)\\ \\land\\ \\forall\\ z_{107}.(library(z_{107})\\ \\to\\ \\forall\\ z_{106}.(girl(z_{106})\\ \\to\\ \\forall\\ z_{105}.(boy(z_{105})\\ \\to\\ (give(z_{107},z_{106},x)\\ \\land\\ give(z_{107},z_{105},x))))))$"
      ],
      "text/plain": [
       "<IPython.core.display.Markdown object>"
      ]
     },
     "metadata": {},
     "output_type": "display_data"
    },
    {
     "data": {
      "text/markdown": [
       "\"24\": $\\forall\\ x.(library(x)\\ \\to\\ \\exists\\ z_{110}.(book(z_{110})\\ \\land\\ \\forall\\ z_{109}.(girl(z_{109})\\ \\to\\ \\forall\\ z_{108}.(boy(z_{108})\\ \\to\\ (give(x,z_{109},z_{110})\\ \\land\\ give(x,z_{108},z_{110}))))))$"
      ],
      "text/plain": [
       "<IPython.core.display.Markdown object>"
      ]
     },
     "metadata": {},
     "output_type": "display_data"
    },
    {
     "name": "stdout",
     "output_type": "stream",
     "text": [
      "2. no library gives every book to a boy\n"
     ]
    },
    {
     "data": {
      "text/markdown": [
       "\"1\": $\\exists\\ x.(boy(x)\\ \\land\\ \\forall\\ z_{112}.(book(z_{112})\\ \\to\\ -\\exists\\ z_{111}.(library(z_{111})\\ \\land\\ give(z_{111},x,z_{112}))))$"
      ],
      "text/plain": [
       "<IPython.core.display.Markdown object>"
      ]
     },
     "metadata": {},
     "output_type": "display_data"
    },
    {
     "data": {
      "text/markdown": [
       "\"2\": $\\forall\\ x.(book(x)\\ \\to\\ \\exists\\ z_{114}.(boy(z_{114})\\ \\land\\ -\\exists\\ z_{113}.(library(z_{113})\\ \\land\\ give(z_{113},z_{114},x))))$"
      ],
      "text/plain": [
       "<IPython.core.display.Markdown object>"
      ]
     },
     "metadata": {},
     "output_type": "display_data"
    },
    {
     "data": {
      "text/markdown": [
       "\"3\": $\\exists\\ x.(boy(x)\\ \\land\\ -\\exists\\ z_{116}.(library(z_{116})\\ \\land\\ \\forall\\ z_{115}.(book(z_{115})\\ \\to\\ give(z_{116},x,z_{115}))))$"
      ],
      "text/plain": [
       "<IPython.core.display.Markdown object>"
      ]
     },
     "metadata": {},
     "output_type": "display_data"
    },
    {
     "data": {
      "text/markdown": [
       "\"4\": $-\\exists\\ x.(library(x)\\ \\land\\ \\exists\\ z_{118}.(boy(z_{118})\\ \\land\\ \\forall\\ z_{117}.(book(z_{117})\\ \\to\\ give(x,z_{118},z_{117}))))$"
      ],
      "text/plain": [
       "<IPython.core.display.Markdown object>"
      ]
     },
     "metadata": {},
     "output_type": "display_data"
    },
    {
     "data": {
      "text/markdown": [
       "\"5\": $\\forall\\ x.(book(x)\\ \\to\\ -\\exists\\ z_{120}.(library(z_{120})\\ \\land\\ \\exists\\ z_{119}.(boy(z_{119})\\ \\land\\ give(z_{120},z_{119},x))))$"
      ],
      "text/plain": [
       "<IPython.core.display.Markdown object>"
      ]
     },
     "metadata": {},
     "output_type": "display_data"
    },
    {
     "data": {
      "text/markdown": [
       "\"6\": $-\\exists\\ x.(library(x)\\ \\land\\ \\forall\\ z_{122}.(book(z_{122})\\ \\to\\ \\exists\\ z_{121}.(boy(z_{121})\\ \\land\\ give(x,z_{121},z_{122}))))$"
      ],
      "text/plain": [
       "<IPython.core.display.Markdown object>"
      ]
     },
     "metadata": {},
     "output_type": "display_data"
    },
    {
     "name": "stdout",
     "output_type": "stream",
     "text": [
      "3. a boy and a girl read all books\n"
     ]
    },
    {
     "data": {
      "text/markdown": [
       "\"1\": $\\forall\\ x.(book(x)\\ \\to\\ \\exists\\ z_{124}.(girl(z_{124})\\ \\land\\ \\exists\\ z_{123}.(boy(z_{123})\\ \\land\\ read(z_{123},x)\\ \\land\\ read(z_{124},x))))$"
      ],
      "text/plain": [
       "<IPython.core.display.Markdown object>"
      ]
     },
     "metadata": {},
     "output_type": "display_data"
    },
    {
     "data": {
      "text/markdown": [
       "\"2\": $\\exists\\ x.(girl(x)\\ \\land\\ \\forall\\ z_{126}.(book(z_{126})\\ \\to\\ \\exists\\ z_{125}.(boy(z_{125})\\ \\land\\ read(z_{125},z_{126})\\ \\land\\ read(x,z_{126}))))$"
      ],
      "text/plain": [
       "<IPython.core.display.Markdown object>"
      ]
     },
     "metadata": {},
     "output_type": "display_data"
    },
    {
     "data": {
      "text/markdown": [
       "\"3\": $\\forall\\ x.(book(x)\\ \\to\\ \\exists\\ z_{128}.(boy(z_{128})\\ \\land\\ \\exists\\ z_{127}.(girl(z_{127})\\ \\land\\ read(z_{128},x)\\ \\land\\ read(z_{127},x))))$"
      ],
      "text/plain": [
       "<IPython.core.display.Markdown object>"
      ]
     },
     "metadata": {},
     "output_type": "display_data"
    },
    {
     "data": {
      "text/markdown": [
       "\"4\": $\\exists\\ x.(boy(x)\\ \\land\\ \\forall\\ z_{130}.(book(z_{130})\\ \\to\\ \\exists\\ z_{129}.(girl(z_{129})\\ \\land\\ read(x,z_{130})\\ \\land\\ read(z_{129},z_{130}))))$"
      ],
      "text/plain": [
       "<IPython.core.display.Markdown object>"
      ]
     },
     "metadata": {},
     "output_type": "display_data"
    },
    {
     "data": {
      "text/markdown": [
       "\"5\": $\\exists\\ x.(girl(x)\\ \\land\\ \\exists\\ z_{132}.(boy(z_{132})\\ \\land\\ \\forall\\ z_{131}.(book(z_{131})\\ \\to\\ (read(z_{132},z_{131})\\ \\land\\ read(x,z_{131})))))$"
      ],
      "text/plain": [
       "<IPython.core.display.Markdown object>"
      ]
     },
     "metadata": {},
     "output_type": "display_data"
    },
    {
     "data": {
      "text/markdown": [
       "\"6\": $\\exists\\ x.(boy(x)\\ \\land\\ \\exists\\ z_{134}.(girl(z_{134})\\ \\land\\ \\forall\\ z_{133}.(book(z_{133})\\ \\to\\ (read(x,z_{133})\\ \\land\\ read(z_{134},z_{133})))))$"
      ],
      "text/plain": [
       "<IPython.core.display.Markdown object>"
      ]
     },
     "metadata": {},
     "output_type": "display_data"
    },
    {
     "name": "stdout",
     "output_type": "stream",
     "text": [
      "4. Angus and Irene read all books\n"
     ]
    },
    {
     "data": {
      "text/markdown": [
       "\"1\": $\\forall\\ x.(book(x)\\ \\to\\ (read(angus,x)\\ \\land\\ read(irene,x)))$"
      ],
      "text/plain": [
       "<IPython.core.display.Markdown object>"
      ]
     },
     "metadata": {},
     "output_type": "display_data"
    }
   ],
   "source": [
    "sentences = [\n",
    "    'every library gives a book to every girl and every boy',\n",
    "    'no library gives every book to a boy',\n",
    "    'a boy and a girl read all books',\n",
    "    'Angus and Irene read all books',\n",
    "]\n",
    "\n",
    "# your answers\n",
    "fcfg_storage_answers_1 = r\"\"\"\n",
    "### Replace X with their proper representations\n",
    "Det[NUM=sg,SEM=[CORE=<\\P Q. -exists x.(P(x) & Q(x))>, STORE=(/)]] -> 'no'\n",
    "Det[NUM=pl,SEM=[CORE=<\\P Q.all x.(P(x) -> Q(x))>, STORE=(/)]] -> 'all'\n",
    "N[NUM=pl,SEM=[CORE=<\\x.book(x)>, STORE=(/)]] -> 'books'\n",
    "TV[NUM=pl,SEM=[CORE=<\\X x.X(\\y.read(x,y))>, STORE=(/)],TNS=pres] -> 'read'\n",
    "\"\"\"\n",
    "\n",
    "fcfg_storage_answers_2 = r\"\"\"\n",
    "### Correct the conjunction rule here. Replace xxx and ??? with the correct answer:\n",
    "NP[NUM=pl, SEM=[CORE=<\\P. (?n1(P) & ?n2(P))>, STORE=(?b1+?b2)]] -> NP[NUM=?num1, SEM=[CORE=?n1, STORE=?b1]] CONJ NP[NUM=?num2, SEM=[CORE=?n2, STORE=?b2]]\n",
    "CONJ -> 'and'\n",
    "\"\"\"\n",
    "\n",
    "\n",
    "fcfg_storage = fcfg_storage_base + fcfg_storage_np + fcfg_storage_lexicon + fcfg_storage_answers_1 + fcfg_storage_answers_2\n",
    "cs_syntax = FeatureGrammar.fromstring(fcfg_storage)\n",
    "sents_reps = sem_parser(sentences, cs_syntax, verbose=False, is_cs=True)\n",
    "\n",
    "for i, (sent, semreps) in enumerate(sents_reps.items()):\n",
    "    counter = 0\n",
    "    print(f\"{i+1}. {sent}\")\n",
    "    for semrep in semreps:\n",
    "        counter += 1\n",
    "        display_translation(counter, semrep)"
   ]
  },
  {
   "cell_type": "markdown",
   "metadata": {},
   "source": [
    "**2c.** Add the quantified expressions to the `STORE` only in the conjunction rule. Compare the number of readings you get now for the sentence below. Are there any invalid readings? If so, why? **[3 marks]**"
   ]
  },
  {
   "cell_type": "markdown",
   "metadata": {},
   "source": [
    "**Answer here:** \n",
    "\n",
    "Yes there are some invalide readings.\n",
    "The output has many correct readings, but also many invalid ones. We have identified two problems as reason for this: \n",
    "\n",
    "1. Our solution seems to have a problem related the binding operator in store, so we get @xn variables in many of the readings. \n",
    "\n",
    "2. Since the two NPs are already in the store, by adding them once again with this expression, they are basically doubled, which leads to the high number (120) of readings and the fact that many of those readings are redundant. \n",
    "\n",
    "We have experimented with different strategies to avoid this duplication in the store, but have not succeeded, unfortunately."
   ]
  },
  {
   "cell_type": "code",
   "execution_count": 25,
   "metadata": {},
   "outputs": [
    {
     "name": "stdout",
     "output_type": "stream",
     "text": [
      "1. every library gives a book to every girl and every boy\n"
     ]
    },
    {
     "data": {
      "text/markdown": [
       "\"1\": $\\forall\\ x.(boy(x)\\ \\to\\ \\forall\\ z_{3591}.(girl(z_{3591})\\ \\to\\ (\\exists\\ z_{3589}.(book(z_{3589})\\ \\land\\ \\forall\\ z_{3588}.(library(z_{3588})\\ \\to\\ give(z_{3588},z_{3591},z_{3589})))\\ \\land\\ \\exists\\ z_{3590}.(book(z_{3590})\\ \\land\\ \\forall\\ z_{3588}.(library(z_{3588})\\ \\to\\ give(z_{3588},x,z_{3590}))))))$"
      ],
      "text/plain": [
       "<IPython.core.display.Markdown object>"
      ]
     },
     "metadata": {},
     "output_type": "display_data"
    },
    {
     "data": {
      "text/markdown": [
       "\"2\": $\\forall\\ x.(girl(x)\\ \\to\\ \\forall\\ z_{3595}.(boy(z_{3595})\\ \\to\\ (\\exists\\ z_{3593}.(book(z_{3593})\\ \\land\\ \\forall\\ z_{3592}.(library(z_{3592})\\ \\to\\ give(z_{3592},x,z_{3593})))\\ \\land\\ \\exists\\ z_{3594}.(book(z_{3594})\\ \\land\\ \\forall\\ z_{3592}.(library(z_{3592})\\ \\to\\ give(z_{3592},z_{3595},z_{3594}))))))$"
      ],
      "text/plain": [
       "<IPython.core.display.Markdown object>"
      ]
     },
     "metadata": {},
     "output_type": "display_data"
    },
    {
     "data": {
      "text/markdown": [
       "\"3\": $\\forall\\ x.(boy(x)\\ \\to\\ (\\forall\\ z_{3598}.(girl(z_{3598})\\ \\to\\ \\exists\\ z_{3597}.(book(z_{3597})\\ \\land\\ \\forall\\ z_{3596}.(library(z_{3596})\\ \\to\\ give(z_{3596},@x6,z_{3597}))))\\ \\land\\ \\forall\\ z_{3599}.(girl(z_{3599})\\ \\to\\ \\exists\\ z_{3597}.(book(z_{3597})\\ \\land\\ \\forall\\ z_{3596}.(library(z_{3596})\\ \\to\\ give(z_{3596},x,z_{3597}))))))$"
      ],
      "text/plain": [
       "<IPython.core.display.Markdown object>"
      ]
     },
     "metadata": {},
     "output_type": "display_data"
    },
    {
     "data": {
      "text/markdown": [
       "\"4\": $(\\forall\\ x.(boy(x)\\ \\to\\ \\forall\\ z_{3602}.(girl(z_{3602})\\ \\to\\ \\exists\\ z_{3601}.(book(z_{3601})\\ \\land\\ \\forall\\ z_{3600}.(library(z_{3600})\\ \\to\\ give(z_{3600},@x6,z_{3601})))))\\ \\land\\ \\forall\\ x.(boy(x)\\ \\to\\ \\forall\\ z_{3602}.(girl(z_{3602})\\ \\to\\ \\exists\\ z_{3601}.(book(z_{3601})\\ \\land\\ \\forall\\ z_{3600}.(library(z_{3600})\\ \\to\\ give(z_{3600},@x9,z_{3601}))))))$"
      ],
      "text/plain": [
       "<IPython.core.display.Markdown object>"
      ]
     },
     "metadata": {},
     "output_type": "display_data"
    },
    {
     "data": {
      "text/markdown": [
       "\"5\": $\\forall\\ x.(girl(x)\\ \\to\\ (\\forall\\ z_{3605}.(boy(z_{3605})\\ \\to\\ \\exists\\ z_{3604}.(book(z_{3604})\\ \\land\\ \\forall\\ z_{3603}.(library(z_{3603})\\ \\to\\ give(z_{3603},x,z_{3604}))))\\ \\land\\ \\forall\\ z_{3606}.(boy(z_{3606})\\ \\to\\ \\exists\\ z_{3604}.(book(z_{3604})\\ \\land\\ \\forall\\ z_{3603}.(library(z_{3603})\\ \\to\\ give(z_{3603},@x9,z_{3604}))))))$"
      ],
      "text/plain": [
       "<IPython.core.display.Markdown object>"
      ]
     },
     "metadata": {},
     "output_type": "display_data"
    },
    {
     "data": {
      "text/markdown": [
       "\"6\": $(\\forall\\ x.(girl(x)\\ \\to\\ \\forall\\ z_{3609}.(boy(z_{3609})\\ \\to\\ \\exists\\ z_{3608}.(book(z_{3608})\\ \\land\\ \\forall\\ z_{3607}.(library(z_{3607})\\ \\to\\ give(z_{3607},@x6,z_{3608})))))\\ \\land\\ \\forall\\ x.(girl(x)\\ \\to\\ \\forall\\ z_{3609}.(boy(z_{3609})\\ \\to\\ \\exists\\ z_{3608}.(book(z_{3608})\\ \\land\\ \\forall\\ z_{3607}.(library(z_{3607})\\ \\to\\ give(z_{3607},@x9,z_{3608}))))))$"
      ],
      "text/plain": [
       "<IPython.core.display.Markdown object>"
      ]
     },
     "metadata": {},
     "output_type": "display_data"
    },
    {
     "data": {
      "text/markdown": [
       "\"7\": $\\forall\\ x.(boy(x)\\ \\to\\ \\forall\\ z_{3613}.(girl(z_{3613})\\ \\to\\ \\exists\\ z_{3612}.(book(z_{3612})\\ \\land\\ \\forall\\ z_{3610}.(library(z_{3610})\\ \\to\\ give(z_{3610},z_{3613},z_{3612}))\\ \\land\\ \\forall\\ z_{3611}.(library(z_{3611})\\ \\to\\ give(z_{3611},x,z_{3612})))))$"
      ],
      "text/plain": [
       "<IPython.core.display.Markdown object>"
      ]
     },
     "metadata": {},
     "output_type": "display_data"
    },
    {
     "data": {
      "text/markdown": [
       "\"8\": $\\forall\\ x.(girl(x)\\ \\to\\ \\forall\\ z_{3617}.(boy(z_{3617})\\ \\to\\ \\exists\\ z_{3616}.(book(z_{3616})\\ \\land\\ \\forall\\ z_{3614}.(library(z_{3614})\\ \\to\\ give(z_{3614},x,z_{3616}))\\ \\land\\ \\forall\\ z_{3615}.(library(z_{3615})\\ \\to\\ give(z_{3615},z_{3617},z_{3616})))))$"
      ],
      "text/plain": [
       "<IPython.core.display.Markdown object>"
      ]
     },
     "metadata": {},
     "output_type": "display_data"
    },
    {
     "data": {
      "text/markdown": [
       "\"9\": $\\forall\\ x.(boy(x)\\ \\to\\ \\exists\\ z_{3621}.(book(z_{3621})\\ \\land\\ \\forall\\ z_{3620}.(girl(z_{3620})\\ \\to\\ (\\forall\\ z_{3618}.(library(z_{3618})\\ \\to\\ give(z_{3618},z_{3620},z_{3621}))\\ \\land\\ \\forall\\ z_{3619}.(library(z_{3619})\\ \\to\\ give(z_{3619},x,z_{3621}))))))$"
      ],
      "text/plain": [
       "<IPython.core.display.Markdown object>"
      ]
     },
     "metadata": {},
     "output_type": "display_data"
    },
    {
     "data": {
      "text/markdown": [
       "\"10\": $\\exists\\ x.(book(x)\\ \\land\\ \\forall\\ z_{3625}.(boy(z_{3625})\\ \\to\\ \\forall\\ z_{3624}.(girl(z_{3624})\\ \\to\\ (\\forall\\ z_{3622}.(library(z_{3622})\\ \\to\\ give(z_{3622},z_{3624},x))\\ \\land\\ \\forall\\ z_{3623}.(library(z_{3623})\\ \\to\\ give(z_{3623},z_{3625},x))))))$"
      ],
      "text/plain": [
       "<IPython.core.display.Markdown object>"
      ]
     },
     "metadata": {},
     "output_type": "display_data"
    },
    {
     "data": {
      "text/markdown": [
       "\"11\": $\\forall\\ x.(girl(x)\\ \\to\\ \\exists\\ z_{3629}.(book(z_{3629})\\ \\land\\ \\forall\\ z_{3628}.(boy(z_{3628})\\ \\to\\ (\\forall\\ z_{3626}.(library(z_{3626})\\ \\to\\ give(z_{3626},x,z_{3629}))\\ \\land\\ \\forall\\ z_{3627}.(library(z_{3627})\\ \\to\\ give(z_{3627},z_{3628},z_{3629}))))))$"
      ],
      "text/plain": [
       "<IPython.core.display.Markdown object>"
      ]
     },
     "metadata": {},
     "output_type": "display_data"
    },
    {
     "data": {
      "text/markdown": [
       "\"12\": $\\exists\\ x.(book(x)\\ \\land\\ \\forall\\ z_{3633}.(girl(z_{3633})\\ \\to\\ \\forall\\ z_{3632}.(boy(z_{3632})\\ \\to\\ (\\forall\\ z_{3630}.(library(z_{3630})\\ \\to\\ give(z_{3630},z_{3633},x))\\ \\land\\ \\forall\\ z_{3631}.(library(z_{3631})\\ \\to\\ give(z_{3631},z_{3632},x))))))$"
      ],
      "text/plain": [
       "<IPython.core.display.Markdown object>"
      ]
     },
     "metadata": {},
     "output_type": "display_data"
    },
    {
     "data": {
      "text/markdown": [
       "\"13\": $\\forall\\ x.(boy(x)\\ \\to\\ (\\exists\\ z_{3636}.(book(z_{3636})\\ \\land\\ \\forall\\ z_{3635}.(girl(z_{3635})\\ \\to\\ \\forall\\ z_{3634}.(library(z_{3634})\\ \\to\\ give(z_{3634},@x6,z_{3636}))))\\ \\land\\ \\exists\\ z_{3637}.(book(z_{3637})\\ \\land\\ \\forall\\ z_{3635}.(girl(z_{3635})\\ \\to\\ \\forall\\ z_{3634}.(library(z_{3634})\\ \\to\\ give(z_{3634},x,z_{3637}))))))$"
      ],
      "text/plain": [
       "<IPython.core.display.Markdown object>"
      ]
     },
     "metadata": {},
     "output_type": "display_data"
    },
    {
     "data": {
      "text/markdown": [
       "\"14\": $(\\forall\\ x.(boy(x)\\ \\to\\ \\exists\\ z_{3640}.(book(z_{3640})\\ \\land\\ \\forall\\ z_{3639}.(girl(z_{3639})\\ \\to\\ \\forall\\ z_{3638}.(library(z_{3638})\\ \\to\\ give(z_{3638},@x6,z_{3640})))))\\ \\land\\ \\forall\\ x.(boy(x)\\ \\to\\ \\exists\\ z_{3640}.(book(z_{3640})\\ \\land\\ \\forall\\ z_{3639}.(girl(z_{3639})\\ \\to\\ \\forall\\ z_{3638}.(library(z_{3638})\\ \\to\\ give(z_{3638},@x9,z_{3640}))))))$"
      ],
      "text/plain": [
       "<IPython.core.display.Markdown object>"
      ]
     },
     "metadata": {},
     "output_type": "display_data"
    },
    {
     "data": {
      "text/markdown": [
       "\"15\": $\\forall\\ x.(boy(x)\\ \\to\\ \\exists\\ z_{3644}.(book(z_{3644})\\ \\land\\ \\forall\\ z_{3642}.(girl(z_{3642})\\ \\to\\ \\forall\\ z_{3641}.(library(z_{3641})\\ \\to\\ give(z_{3641},@x6,z_{3644})))\\ \\land\\ \\forall\\ z_{3643}.(girl(z_{3643})\\ \\to\\ \\forall\\ z_{3641}.(library(z_{3641})\\ \\to\\ give(z_{3641},x,z_{3644})))))$"
      ],
      "text/plain": [
       "<IPython.core.display.Markdown object>"
      ]
     },
     "metadata": {},
     "output_type": "display_data"
    },
    {
     "data": {
      "text/markdown": [
       "\"16\": $\\exists\\ x.(book(x)\\ \\land\\ \\forall\\ z_{3648}.(boy(z_{3648})\\ \\to\\ (\\forall\\ z_{3646}.(girl(z_{3646})\\ \\to\\ \\forall\\ z_{3645}.(library(z_{3645})\\ \\to\\ give(z_{3645},@x6,x)))\\ \\land\\ \\forall\\ z_{3647}.(girl(z_{3647})\\ \\to\\ \\forall\\ z_{3645}.(library(z_{3645})\\ \\to\\ give(z_{3645},z_{3648},x))))))$"
      ],
      "text/plain": [
       "<IPython.core.display.Markdown object>"
      ]
     },
     "metadata": {},
     "output_type": "display_data"
    },
    {
     "data": {
      "text/markdown": [
       "\"17\": $(\\exists\\ x.(book(x)\\ \\land\\ \\forall\\ z_{3651}.(boy(z_{3651})\\ \\to\\ \\forall\\ z_{3650}.(girl(z_{3650})\\ \\to\\ \\forall\\ z_{3649}.(library(z_{3649})\\ \\to\\ give(z_{3649},@x6,x)))))\\ \\land\\ \\exists\\ x.(book(x)\\ \\land\\ \\forall\\ z_{3651}.(boy(z_{3651})\\ \\to\\ \\forall\\ z_{3650}.(girl(z_{3650})\\ \\to\\ \\forall\\ z_{3649}.(library(z_{3649})\\ \\to\\ give(z_{3649},@x9,x))))))$"
      ],
      "text/plain": [
       "<IPython.core.display.Markdown object>"
      ]
     },
     "metadata": {},
     "output_type": "display_data"
    },
    {
     "data": {
      "text/markdown": [
       "\"18\": $\\exists\\ x.(book(x)\\ \\land\\ \\forall\\ z_{3654}.(boy(z_{3654})\\ \\to\\ \\forall\\ z_{3653}.(girl(z_{3653})\\ \\to\\ \\forall\\ z_{3652}.(library(z_{3652})\\ \\to\\ give(z_{3652},@x6,x))))\\ \\land\\ \\forall\\ z_{3655}.(boy(z_{3655})\\ \\to\\ \\forall\\ z_{3653}.(girl(z_{3653})\\ \\to\\ \\forall\\ z_{3652}.(library(z_{3652})\\ \\to\\ give(z_{3652},@x9,x)))))$"
      ],
      "text/plain": [
       "<IPython.core.display.Markdown object>"
      ]
     },
     "metadata": {},
     "output_type": "display_data"
    },
    {
     "data": {
      "text/markdown": [
       "\"19\": $\\forall\\ x.(girl(x)\\ \\to\\ (\\exists\\ z_{3658}.(book(z_{3658})\\ \\land\\ \\forall\\ z_{3657}.(boy(z_{3657})\\ \\to\\ \\forall\\ z_{3656}.(library(z_{3656})\\ \\to\\ give(z_{3656},x,z_{3658}))))\\ \\land\\ \\exists\\ z_{3659}.(book(z_{3659})\\ \\land\\ \\forall\\ z_{3657}.(boy(z_{3657})\\ \\to\\ \\forall\\ z_{3656}.(library(z_{3656})\\ \\to\\ give(z_{3656},@x9,z_{3659}))))))$"
      ],
      "text/plain": [
       "<IPython.core.display.Markdown object>"
      ]
     },
     "metadata": {},
     "output_type": "display_data"
    },
    {
     "data": {
      "text/markdown": [
       "\"20\": $(\\forall\\ x.(girl(x)\\ \\to\\ \\exists\\ z_{3662}.(book(z_{3662})\\ \\land\\ \\forall\\ z_{3661}.(boy(z_{3661})\\ \\to\\ \\forall\\ z_{3660}.(library(z_{3660})\\ \\to\\ give(z_{3660},@x6,z_{3662})))))\\ \\land\\ \\forall\\ x.(girl(x)\\ \\to\\ \\exists\\ z_{3662}.(book(z_{3662})\\ \\land\\ \\forall\\ z_{3661}.(boy(z_{3661})\\ \\to\\ \\forall\\ z_{3660}.(library(z_{3660})\\ \\to\\ give(z_{3660},@x9,z_{3662}))))))$"
      ],
      "text/plain": [
       "<IPython.core.display.Markdown object>"
      ]
     },
     "metadata": {},
     "output_type": "display_data"
    },
    {
     "data": {
      "text/markdown": [
       "\"21\": $\\forall\\ x.(girl(x)\\ \\to\\ \\exists\\ z_{3666}.(book(z_{3666})\\ \\land\\ \\forall\\ z_{3664}.(boy(z_{3664})\\ \\to\\ \\forall\\ z_{3663}.(library(z_{3663})\\ \\to\\ give(z_{3663},x,z_{3666})))\\ \\land\\ \\forall\\ z_{3665}.(boy(z_{3665})\\ \\to\\ \\forall\\ z_{3663}.(library(z_{3663})\\ \\to\\ give(z_{3663},@x9,z_{3666})))))$"
      ],
      "text/plain": [
       "<IPython.core.display.Markdown object>"
      ]
     },
     "metadata": {},
     "output_type": "display_data"
    },
    {
     "data": {
      "text/markdown": [
       "\"22\": $\\exists\\ x.(book(x)\\ \\land\\ \\forall\\ z_{3670}.(girl(z_{3670})\\ \\to\\ (\\forall\\ z_{3668}.(boy(z_{3668})\\ \\to\\ \\forall\\ z_{3667}.(library(z_{3667})\\ \\to\\ give(z_{3667},z_{3670},x)))\\ \\land\\ \\forall\\ z_{3669}.(boy(z_{3669})\\ \\to\\ \\forall\\ z_{3667}.(library(z_{3667})\\ \\to\\ give(z_{3667},@x9,x))))))$"
      ],
      "text/plain": [
       "<IPython.core.display.Markdown object>"
      ]
     },
     "metadata": {},
     "output_type": "display_data"
    },
    {
     "data": {
      "text/markdown": [
       "\"23\": $(\\exists\\ x.(book(x)\\ \\land\\ \\forall\\ z_{3673}.(girl(z_{3673})\\ \\to\\ \\forall\\ z_{3672}.(boy(z_{3672})\\ \\to\\ \\forall\\ z_{3671}.(library(z_{3671})\\ \\to\\ give(z_{3671},@x6,x)))))\\ \\land\\ \\exists\\ x.(book(x)\\ \\land\\ \\forall\\ z_{3673}.(girl(z_{3673})\\ \\to\\ \\forall\\ z_{3672}.(boy(z_{3672})\\ \\to\\ \\forall\\ z_{3671}.(library(z_{3671})\\ \\to\\ give(z_{3671},@x9,x))))))$"
      ],
      "text/plain": [
       "<IPython.core.display.Markdown object>"
      ]
     },
     "metadata": {},
     "output_type": "display_data"
    },
    {
     "data": {
      "text/markdown": [
       "\"24\": $\\exists\\ x.(book(x)\\ \\land\\ \\forall\\ z_{3676}.(girl(z_{3676})\\ \\to\\ \\forall\\ z_{3675}.(boy(z_{3675})\\ \\to\\ \\forall\\ z_{3674}.(library(z_{3674})\\ \\to\\ give(z_{3674},@x6,x))))\\ \\land\\ \\forall\\ z_{3677}.(girl(z_{3677})\\ \\to\\ \\forall\\ z_{3675}.(boy(z_{3675})\\ \\to\\ \\forall\\ z_{3674}.(library(z_{3674})\\ \\to\\ give(z_{3674},@x9,x)))))$"
      ],
      "text/plain": [
       "<IPython.core.display.Markdown object>"
      ]
     },
     "metadata": {},
     "output_type": "display_data"
    },
    {
     "data": {
      "text/markdown": [
       "\"25\": $\\forall\\ x.(boy(x)\\ \\to\\ \\forall\\ z_{3681}.(girl(z_{3681})\\ \\to\\ (\\forall\\ z_{3679}.(library(z_{3679})\\ \\to\\ \\exists\\ z_{3678}.(book(z_{3678})\\ \\land\\ give(z_{3679},z_{3681},z_{3678})))\\ \\land\\ \\forall\\ z_{3680}.(library(z_{3680})\\ \\to\\ \\exists\\ z_{3678}.(book(z_{3678})\\ \\land\\ give(z_{3680},x,z_{3678}))))))$"
      ],
      "text/plain": [
       "<IPython.core.display.Markdown object>"
      ]
     },
     "metadata": {},
     "output_type": "display_data"
    },
    {
     "data": {
      "text/markdown": [
       "\"26\": $\\forall\\ x.(girl(x)\\ \\to\\ \\forall\\ z_{3685}.(boy(z_{3685})\\ \\to\\ (\\forall\\ z_{3683}.(library(z_{3683})\\ \\to\\ \\exists\\ z_{3682}.(book(z_{3682})\\ \\land\\ give(z_{3683},x,z_{3682})))\\ \\land\\ \\forall\\ z_{3684}.(library(z_{3684})\\ \\to\\ \\exists\\ z_{3682}.(book(z_{3682})\\ \\land\\ give(z_{3684},z_{3685},z_{3682}))))))$"
      ],
      "text/plain": [
       "<IPython.core.display.Markdown object>"
      ]
     },
     "metadata": {},
     "output_type": "display_data"
    },
    {
     "data": {
      "text/markdown": [
       "\"27\": $\\forall\\ x.(boy(x)\\ \\to\\ (\\forall\\ z_{3688}.(girl(z_{3688})\\ \\to\\ \\forall\\ z_{3687}.(library(z_{3687})\\ \\to\\ \\exists\\ z_{3686}.(book(z_{3686})\\ \\land\\ give(z_{3687},@x6,z_{3686}))))\\ \\land\\ \\forall\\ z_{3689}.(girl(z_{3689})\\ \\to\\ \\forall\\ z_{3687}.(library(z_{3687})\\ \\to\\ \\exists\\ z_{3686}.(book(z_{3686})\\ \\land\\ give(z_{3687},x,z_{3686}))))))$"
      ],
      "text/plain": [
       "<IPython.core.display.Markdown object>"
      ]
     },
     "metadata": {},
     "output_type": "display_data"
    },
    {
     "data": {
      "text/markdown": [
       "\"28\": $(\\forall\\ x.(boy(x)\\ \\to\\ \\forall\\ z_{3692}.(girl(z_{3692})\\ \\to\\ \\forall\\ z_{3691}.(library(z_{3691})\\ \\to\\ \\exists\\ z_{3690}.(book(z_{3690})\\ \\land\\ give(z_{3691},@x6,z_{3690})))))\\ \\land\\ \\forall\\ x.(boy(x)\\ \\to\\ \\forall\\ z_{3692}.(girl(z_{3692})\\ \\to\\ \\forall\\ z_{3691}.(library(z_{3691})\\ \\to\\ \\exists\\ z_{3690}.(book(z_{3690})\\ \\land\\ give(z_{3691},@x9,z_{3690}))))))$"
      ],
      "text/plain": [
       "<IPython.core.display.Markdown object>"
      ]
     },
     "metadata": {},
     "output_type": "display_data"
    },
    {
     "data": {
      "text/markdown": [
       "\"29\": $\\forall\\ x.(girl(x)\\ \\to\\ (\\forall\\ z_{3695}.(boy(z_{3695})\\ \\to\\ \\forall\\ z_{3694}.(library(z_{3694})\\ \\to\\ \\exists\\ z_{3693}.(book(z_{3693})\\ \\land\\ give(z_{3694},x,z_{3693}))))\\ \\land\\ \\forall\\ z_{3696}.(boy(z_{3696})\\ \\to\\ \\forall\\ z_{3694}.(library(z_{3694})\\ \\to\\ \\exists\\ z_{3693}.(book(z_{3693})\\ \\land\\ give(z_{3694},@x9,z_{3693}))))))$"
      ],
      "text/plain": [
       "<IPython.core.display.Markdown object>"
      ]
     },
     "metadata": {},
     "output_type": "display_data"
    },
    {
     "data": {
      "text/markdown": [
       "\"30\": $(\\forall\\ x.(girl(x)\\ \\to\\ \\forall\\ z_{3699}.(boy(z_{3699})\\ \\to\\ \\forall\\ z_{3698}.(library(z_{3698})\\ \\to\\ \\exists\\ z_{3697}.(book(z_{3697})\\ \\land\\ give(z_{3698},@x6,z_{3697})))))\\ \\land\\ \\forall\\ x.(girl(x)\\ \\to\\ \\forall\\ z_{3699}.(boy(z_{3699})\\ \\to\\ \\forall\\ z_{3698}.(library(z_{3698})\\ \\to\\ \\exists\\ z_{3697}.(book(z_{3697})\\ \\land\\ give(z_{3698},@x9,z_{3697}))))))$"
      ],
      "text/plain": [
       "<IPython.core.display.Markdown object>"
      ]
     },
     "metadata": {},
     "output_type": "display_data"
    },
    {
     "data": {
      "text/markdown": [
       "\"31\": $\\forall\\ x.(boy(x)\\ \\to\\ \\forall\\ z_{3703}.(girl(z_{3703})\\ \\to\\ \\forall\\ z_{3702}.(library(z_{3702})\\ \\to\\ (\\exists\\ z_{3700}.(book(z_{3700})\\ \\land\\ give(z_{3702},z_{3703},z_{3700}))\\ \\land\\ \\exists\\ z_{3701}.(book(z_{3701})\\ \\land\\ give(z_{3702},x,z_{3701}))))))$"
      ],
      "text/plain": [
       "<IPython.core.display.Markdown object>"
      ]
     },
     "metadata": {},
     "output_type": "display_data"
    },
    {
     "data": {
      "text/markdown": [
       "\"32\": $\\forall\\ x.(girl(x)\\ \\to\\ \\forall\\ z_{3707}.(boy(z_{3707})\\ \\to\\ \\forall\\ z_{3706}.(library(z_{3706})\\ \\to\\ (\\exists\\ z_{3704}.(book(z_{3704})\\ \\land\\ give(z_{3706},x,z_{3704}))\\ \\land\\ \\exists\\ z_{3705}.(book(z_{3705})\\ \\land\\ give(z_{3706},z_{3707},z_{3705}))))))$"
      ],
      "text/plain": [
       "<IPython.core.display.Markdown object>"
      ]
     },
     "metadata": {},
     "output_type": "display_data"
    },
    {
     "data": {
      "text/markdown": [
       "\"33\": $\\forall\\ x.(boy(x)\\ \\to\\ \\forall\\ z_{3711}.(library(z_{3711})\\ \\to\\ \\forall\\ z_{3710}.(girl(z_{3710})\\ \\to\\ (\\exists\\ z_{3708}.(book(z_{3708})\\ \\land\\ give(z_{3711},z_{3710},z_{3708}))\\ \\land\\ \\exists\\ z_{3709}.(book(z_{3709})\\ \\land\\ give(z_{3711},x,z_{3709}))))))$"
      ],
      "text/plain": [
       "<IPython.core.display.Markdown object>"
      ]
     },
     "metadata": {},
     "output_type": "display_data"
    },
    {
     "data": {
      "text/markdown": [
       "\"34\": $\\forall\\ x.(library(x)\\ \\to\\ \\forall\\ z_{3715}.(boy(z_{3715})\\ \\to\\ \\forall\\ z_{3714}.(girl(z_{3714})\\ \\to\\ (\\exists\\ z_{3712}.(book(z_{3712})\\ \\land\\ give(x,z_{3714},z_{3712}))\\ \\land\\ \\exists\\ z_{3713}.(book(z_{3713})\\ \\land\\ give(x,z_{3715},z_{3713}))))))$"
      ],
      "text/plain": [
       "<IPython.core.display.Markdown object>"
      ]
     },
     "metadata": {},
     "output_type": "display_data"
    },
    {
     "data": {
      "text/markdown": [
       "\"35\": $\\forall\\ x.(girl(x)\\ \\to\\ \\forall\\ z_{3719}.(library(z_{3719})\\ \\to\\ \\forall\\ z_{3718}.(boy(z_{3718})\\ \\to\\ (\\exists\\ z_{3716}.(book(z_{3716})\\ \\land\\ give(z_{3719},x,z_{3716}))\\ \\land\\ \\exists\\ z_{3717}.(book(z_{3717})\\ \\land\\ give(z_{3719},z_{3718},z_{3717}))))))$"
      ],
      "text/plain": [
       "<IPython.core.display.Markdown object>"
      ]
     },
     "metadata": {},
     "output_type": "display_data"
    },
    {
     "data": {
      "text/markdown": [
       "\"36\": $\\forall\\ x.(library(x)\\ \\to\\ \\forall\\ z_{3723}.(girl(z_{3723})\\ \\to\\ \\forall\\ z_{3722}.(boy(z_{3722})\\ \\to\\ (\\exists\\ z_{3720}.(book(z_{3720})\\ \\land\\ give(x,z_{3723},z_{3720}))\\ \\land\\ \\exists\\ z_{3721}.(book(z_{3721})\\ \\land\\ give(x,z_{3722},z_{3721}))))))$"
      ],
      "text/plain": [
       "<IPython.core.display.Markdown object>"
      ]
     },
     "metadata": {},
     "output_type": "display_data"
    },
    {
     "data": {
      "text/markdown": [
       "\"37\": $\\forall\\ x.(boy(x)\\ \\to\\ (\\forall\\ z_{3726}.(library(z_{3726})\\ \\to\\ \\forall\\ z_{3725}.(girl(z_{3725})\\ \\to\\ \\exists\\ z_{3724}.(book(z_{3724})\\ \\land\\ give(z_{3726},@x6,z_{3724}))))\\ \\land\\ \\forall\\ z_{3727}.(library(z_{3727})\\ \\to\\ \\forall\\ z_{3725}.(girl(z_{3725})\\ \\to\\ \\exists\\ z_{3724}.(book(z_{3724})\\ \\land\\ give(z_{3727},x,z_{3724}))))))$"
      ],
      "text/plain": [
       "<IPython.core.display.Markdown object>"
      ]
     },
     "metadata": {},
     "output_type": "display_data"
    },
    {
     "data": {
      "text/markdown": [
       "\"38\": $(\\forall\\ x.(boy(x)\\ \\to\\ \\forall\\ z_{3730}.(library(z_{3730})\\ \\to\\ \\forall\\ z_{3729}.(girl(z_{3729})\\ \\to\\ \\exists\\ z_{3728}.(book(z_{3728})\\ \\land\\ give(z_{3730},@x6,z_{3728})))))\\ \\land\\ \\forall\\ x.(boy(x)\\ \\to\\ \\forall\\ z_{3730}.(library(z_{3730})\\ \\to\\ \\forall\\ z_{3729}.(girl(z_{3729})\\ \\to\\ \\exists\\ z_{3728}.(book(z_{3728})\\ \\land\\ give(z_{3730},@x9,z_{3728}))))))$"
      ],
      "text/plain": [
       "<IPython.core.display.Markdown object>"
      ]
     },
     "metadata": {},
     "output_type": "display_data"
    },
    {
     "data": {
      "text/markdown": [
       "\"39\": $\\forall\\ x.(boy(x)\\ \\to\\ \\forall\\ z_{3734}.(library(z_{3734})\\ \\to\\ (\\forall\\ z_{3732}.(girl(z_{3732})\\ \\to\\ \\exists\\ z_{3731}.(book(z_{3731})\\ \\land\\ give(z_{3734},@x6,z_{3731})))\\ \\land\\ \\forall\\ z_{3733}.(girl(z_{3733})\\ \\to\\ \\exists\\ z_{3731}.(book(z_{3731})\\ \\land\\ give(z_{3734},x,z_{3731}))))))$"
      ],
      "text/plain": [
       "<IPython.core.display.Markdown object>"
      ]
     },
     "metadata": {},
     "output_type": "display_data"
    },
    {
     "data": {
      "text/markdown": [
       "\"40\": $\\forall\\ x.(library(x)\\ \\to\\ \\forall\\ z_{3738}.(boy(z_{3738})\\ \\to\\ (\\forall\\ z_{3736}.(girl(z_{3736})\\ \\to\\ \\exists\\ z_{3735}.(book(z_{3735})\\ \\land\\ give(x,@x6,z_{3735})))\\ \\land\\ \\forall\\ z_{3737}.(girl(z_{3737})\\ \\to\\ \\exists\\ z_{3735}.(book(z_{3735})\\ \\land\\ give(x,z_{3738},z_{3735}))))))$"
      ],
      "text/plain": [
       "<IPython.core.display.Markdown object>"
      ]
     },
     "metadata": {},
     "output_type": "display_data"
    },
    {
     "data": {
      "text/markdown": [
       "\"41\": $(\\forall\\ x.(library(x)\\ \\to\\ \\forall\\ z_{3741}.(boy(z_{3741})\\ \\to\\ \\forall\\ z_{3740}.(girl(z_{3740})\\ \\to\\ \\exists\\ z_{3739}.(book(z_{3739})\\ \\land\\ give(x,@x6,z_{3739})))))\\ \\land\\ \\forall\\ x.(library(x)\\ \\to\\ \\forall\\ z_{3741}.(boy(z_{3741})\\ \\to\\ \\forall\\ z_{3740}.(girl(z_{3740})\\ \\to\\ \\exists\\ z_{3739}.(book(z_{3739})\\ \\land\\ give(x,@x9,z_{3739}))))))$"
      ],
      "text/plain": [
       "<IPython.core.display.Markdown object>"
      ]
     },
     "metadata": {},
     "output_type": "display_data"
    },
    {
     "data": {
      "text/markdown": [
       "\"42\": $\\forall\\ x.(library(x)\\ \\to\\ (\\forall\\ z_{3744}.(boy(z_{3744})\\ \\to\\ \\forall\\ z_{3743}.(girl(z_{3743})\\ \\to\\ \\exists\\ z_{3742}.(book(z_{3742})\\ \\land\\ give(x,@x6,z_{3742}))))\\ \\land\\ \\forall\\ z_{3745}.(boy(z_{3745})\\ \\to\\ \\forall\\ z_{3743}.(girl(z_{3743})\\ \\to\\ \\exists\\ z_{3742}.(book(z_{3742})\\ \\land\\ give(x,@x9,z_{3742}))))))$"
      ],
      "text/plain": [
       "<IPython.core.display.Markdown object>"
      ]
     },
     "metadata": {},
     "output_type": "display_data"
    },
    {
     "data": {
      "text/markdown": [
       "\"43\": $\\forall\\ x.(girl(x)\\ \\to\\ (\\forall\\ z_{3748}.(library(z_{3748})\\ \\to\\ \\forall\\ z_{3747}.(boy(z_{3747})\\ \\to\\ \\exists\\ z_{3746}.(book(z_{3746})\\ \\land\\ give(z_{3748},x,z_{3746}))))\\ \\land\\ \\forall\\ z_{3749}.(library(z_{3749})\\ \\to\\ \\forall\\ z_{3747}.(boy(z_{3747})\\ \\to\\ \\exists\\ z_{3746}.(book(z_{3746})\\ \\land\\ give(z_{3749},@x9,z_{3746}))))))$"
      ],
      "text/plain": [
       "<IPython.core.display.Markdown object>"
      ]
     },
     "metadata": {},
     "output_type": "display_data"
    },
    {
     "data": {
      "text/markdown": [
       "\"44\": $(\\forall\\ x.(girl(x)\\ \\to\\ \\forall\\ z_{3752}.(library(z_{3752})\\ \\to\\ \\forall\\ z_{3751}.(boy(z_{3751})\\ \\to\\ \\exists\\ z_{3750}.(book(z_{3750})\\ \\land\\ give(z_{3752},@x6,z_{3750})))))\\ \\land\\ \\forall\\ x.(girl(x)\\ \\to\\ \\forall\\ z_{3752}.(library(z_{3752})\\ \\to\\ \\forall\\ z_{3751}.(boy(z_{3751})\\ \\to\\ \\exists\\ z_{3750}.(book(z_{3750})\\ \\land\\ give(z_{3752},@x9,z_{3750}))))))$"
      ],
      "text/plain": [
       "<IPython.core.display.Markdown object>"
      ]
     },
     "metadata": {},
     "output_type": "display_data"
    },
    {
     "data": {
      "text/markdown": [
       "\"45\": $\\forall\\ x.(girl(x)\\ \\to\\ \\forall\\ z_{3756}.(library(z_{3756})\\ \\to\\ (\\forall\\ z_{3754}.(boy(z_{3754})\\ \\to\\ \\exists\\ z_{3753}.(book(z_{3753})\\ \\land\\ give(z_{3756},x,z_{3753})))\\ \\land\\ \\forall\\ z_{3755}.(boy(z_{3755})\\ \\to\\ \\exists\\ z_{3753}.(book(z_{3753})\\ \\land\\ give(z_{3756},@x9,z_{3753}))))))$"
      ],
      "text/plain": [
       "<IPython.core.display.Markdown object>"
      ]
     },
     "metadata": {},
     "output_type": "display_data"
    },
    {
     "data": {
      "text/markdown": [
       "\"46\": $\\forall\\ x.(library(x)\\ \\to\\ \\forall\\ z_{3760}.(girl(z_{3760})\\ \\to\\ (\\forall\\ z_{3758}.(boy(z_{3758})\\ \\to\\ \\exists\\ z_{3757}.(book(z_{3757})\\ \\land\\ give(x,z_{3760},z_{3757})))\\ \\land\\ \\forall\\ z_{3759}.(boy(z_{3759})\\ \\to\\ \\exists\\ z_{3757}.(book(z_{3757})\\ \\land\\ give(x,@x9,z_{3757}))))))$"
      ],
      "text/plain": [
       "<IPython.core.display.Markdown object>"
      ]
     },
     "metadata": {},
     "output_type": "display_data"
    },
    {
     "data": {
      "text/markdown": [
       "\"47\": $(\\forall\\ x.(library(x)\\ \\to\\ \\forall\\ z_{3763}.(girl(z_{3763})\\ \\to\\ \\forall\\ z_{3762}.(boy(z_{3762})\\ \\to\\ \\exists\\ z_{3761}.(book(z_{3761})\\ \\land\\ give(x,@x6,z_{3761})))))\\ \\land\\ \\forall\\ x.(library(x)\\ \\to\\ \\forall\\ z_{3763}.(girl(z_{3763})\\ \\to\\ \\forall\\ z_{3762}.(boy(z_{3762})\\ \\to\\ \\exists\\ z_{3761}.(book(z_{3761})\\ \\land\\ give(x,@x9,z_{3761}))))))$"
      ],
      "text/plain": [
       "<IPython.core.display.Markdown object>"
      ]
     },
     "metadata": {},
     "output_type": "display_data"
    },
    {
     "data": {
      "text/markdown": [
       "\"48\": $\\forall\\ x.(library(x)\\ \\to\\ (\\forall\\ z_{3766}.(girl(z_{3766})\\ \\to\\ \\forall\\ z_{3765}.(boy(z_{3765})\\ \\to\\ \\exists\\ z_{3764}.(book(z_{3764})\\ \\land\\ give(x,@x6,z_{3764}))))\\ \\land\\ \\forall\\ z_{3767}.(girl(z_{3767})\\ \\to\\ \\forall\\ z_{3765}.(boy(z_{3765})\\ \\to\\ \\exists\\ z_{3764}.(book(z_{3764})\\ \\land\\ give(x,@x9,z_{3764}))))))$"
      ],
      "text/plain": [
       "<IPython.core.display.Markdown object>"
      ]
     },
     "metadata": {},
     "output_type": "display_data"
    },
    {
     "data": {
      "text/markdown": [
       "\"49\": $\\forall\\ x.(boy(x)\\ \\to\\ \\forall\\ z_{3770}.(girl(z_{3770})\\ \\to\\ \\exists\\ z_{3769}.(book(z_{3769})\\ \\land\\ \\forall\\ z_{3768}.(library(z_{3768})\\ \\to\\ (give(z_{3768},z_{3770},z_{3769})\\ \\land\\ give(z_{3768},x,z_{3769}))))))$"
      ],
      "text/plain": [
       "<IPython.core.display.Markdown object>"
      ]
     },
     "metadata": {},
     "output_type": "display_data"
    },
    {
     "data": {
      "text/markdown": [
       "\"50\": $\\forall\\ x.(girl(x)\\ \\to\\ \\forall\\ z_{3773}.(boy(z_{3773})\\ \\to\\ \\exists\\ z_{3772}.(book(z_{3772})\\ \\land\\ \\forall\\ z_{3771}.(library(z_{3771})\\ \\to\\ (give(z_{3771},x,z_{3772})\\ \\land\\ give(z_{3771},z_{3773},z_{3772}))))))$"
      ],
      "text/plain": [
       "<IPython.core.display.Markdown object>"
      ]
     },
     "metadata": {},
     "output_type": "display_data"
    },
    {
     "data": {
      "text/markdown": [
       "\"51\": $\\forall\\ x.(boy(x)\\ \\to\\ \\exists\\ z_{3776}.(book(z_{3776})\\ \\land\\ \\forall\\ z_{3775}.(girl(z_{3775})\\ \\to\\ \\forall\\ z_{3774}.(library(z_{3774})\\ \\to\\ (give(z_{3774},z_{3775},z_{3776})\\ \\land\\ give(z_{3774},x,z_{3776}))))))$"
      ],
      "text/plain": [
       "<IPython.core.display.Markdown object>"
      ]
     },
     "metadata": {},
     "output_type": "display_data"
    },
    {
     "data": {
      "text/markdown": [
       "\"52\": $\\exists\\ x.(book(x)\\ \\land\\ \\forall\\ z_{3779}.(boy(z_{3779})\\ \\to\\ \\forall\\ z_{3778}.(girl(z_{3778})\\ \\to\\ \\forall\\ z_{3777}.(library(z_{3777})\\ \\to\\ (give(z_{3777},z_{3778},x)\\ \\land\\ give(z_{3777},z_{3779},x))))))$"
      ],
      "text/plain": [
       "<IPython.core.display.Markdown object>"
      ]
     },
     "metadata": {},
     "output_type": "display_data"
    },
    {
     "data": {
      "text/markdown": [
       "\"53\": $\\forall\\ x.(girl(x)\\ \\to\\ \\exists\\ z_{3782}.(book(z_{3782})\\ \\land\\ \\forall\\ z_{3781}.(boy(z_{3781})\\ \\to\\ \\forall\\ z_{3780}.(library(z_{3780})\\ \\to\\ (give(z_{3780},x,z_{3782})\\ \\land\\ give(z_{3780},z_{3781},z_{3782}))))))$"
      ],
      "text/plain": [
       "<IPython.core.display.Markdown object>"
      ]
     },
     "metadata": {},
     "output_type": "display_data"
    },
    {
     "data": {
      "text/markdown": [
       "\"54\": $\\exists\\ x.(book(x)\\ \\land\\ \\forall\\ z_{3785}.(girl(z_{3785})\\ \\to\\ \\forall\\ z_{3784}.(boy(z_{3784})\\ \\to\\ \\forall\\ z_{3783}.(library(z_{3783})\\ \\to\\ (give(z_{3783},z_{3785},x)\\ \\land\\ give(z_{3783},z_{3784},x))))))$"
      ],
      "text/plain": [
       "<IPython.core.display.Markdown object>"
      ]
     },
     "metadata": {},
     "output_type": "display_data"
    },
    {
     "data": {
      "text/markdown": [
       "\"55\": $\\forall\\ x.(boy(x)\\ \\to\\ \\forall\\ z_{3788}.(girl(z_{3788})\\ \\to\\ \\forall\\ z_{3787}.(library(z_{3787})\\ \\to\\ \\exists\\ z_{3786}.(book(z_{3786})\\ \\land\\ give(z_{3787},z_{3788},z_{3786})\\ \\land\\ give(z_{3787},x,z_{3786})))))$"
      ],
      "text/plain": [
       "<IPython.core.display.Markdown object>"
      ]
     },
     "metadata": {},
     "output_type": "display_data"
    },
    {
     "data": {
      "text/markdown": [
       "\"56\": $\\forall\\ x.(girl(x)\\ \\to\\ \\forall\\ z_{3791}.(boy(z_{3791})\\ \\to\\ \\forall\\ z_{3790}.(library(z_{3790})\\ \\to\\ \\exists\\ z_{3789}.(book(z_{3789})\\ \\land\\ give(z_{3790},x,z_{3789})\\ \\land\\ give(z_{3790},z_{3791},z_{3789})))))$"
      ],
      "text/plain": [
       "<IPython.core.display.Markdown object>"
      ]
     },
     "metadata": {},
     "output_type": "display_data"
    },
    {
     "data": {
      "text/markdown": [
       "\"57\": $\\forall\\ x.(boy(x)\\ \\to\\ \\forall\\ z_{3794}.(library(z_{3794})\\ \\to\\ \\forall\\ z_{3793}.(girl(z_{3793})\\ \\to\\ \\exists\\ z_{3792}.(book(z_{3792})\\ \\land\\ give(z_{3794},z_{3793},z_{3792})\\ \\land\\ give(z_{3794},x,z_{3792})))))$"
      ],
      "text/plain": [
       "<IPython.core.display.Markdown object>"
      ]
     },
     "metadata": {},
     "output_type": "display_data"
    },
    {
     "data": {
      "text/markdown": [
       "\"58\": $\\forall\\ x.(library(x)\\ \\to\\ \\forall\\ z_{3797}.(boy(z_{3797})\\ \\to\\ \\forall\\ z_{3796}.(girl(z_{3796})\\ \\to\\ \\exists\\ z_{3795}.(book(z_{3795})\\ \\land\\ give(x,z_{3796},z_{3795})\\ \\land\\ give(x,z_{3797},z_{3795})))))$"
      ],
      "text/plain": [
       "<IPython.core.display.Markdown object>"
      ]
     },
     "metadata": {},
     "output_type": "display_data"
    },
    {
     "data": {
      "text/markdown": [
       "\"59\": $\\forall\\ x.(girl(x)\\ \\to\\ \\forall\\ z_{3800}.(library(z_{3800})\\ \\to\\ \\forall\\ z_{3799}.(boy(z_{3799})\\ \\to\\ \\exists\\ z_{3798}.(book(z_{3798})\\ \\land\\ give(z_{3800},x,z_{3798})\\ \\land\\ give(z_{3800},z_{3799},z_{3798})))))$"
      ],
      "text/plain": [
       "<IPython.core.display.Markdown object>"
      ]
     },
     "metadata": {},
     "output_type": "display_data"
    },
    {
     "data": {
      "text/markdown": [
       "\"60\": $\\forall\\ x.(library(x)\\ \\to\\ \\forall\\ z_{3803}.(girl(z_{3803})\\ \\to\\ \\forall\\ z_{3802}.(boy(z_{3802})\\ \\to\\ \\exists\\ z_{3801}.(book(z_{3801})\\ \\land\\ give(x,z_{3803},z_{3801})\\ \\land\\ give(x,z_{3802},z_{3801})))))$"
      ],
      "text/plain": [
       "<IPython.core.display.Markdown object>"
      ]
     },
     "metadata": {},
     "output_type": "display_data"
    },
    {
     "data": {
      "text/markdown": [
       "\"61\": $\\forall\\ x.(boy(x)\\ \\to\\ \\exists\\ z_{3806}.(book(z_{3806})\\ \\land\\ \\forall\\ z_{3805}.(library(z_{3805})\\ \\to\\ \\forall\\ z_{3804}.(girl(z_{3804})\\ \\to\\ (give(z_{3805},z_{3804},z_{3806})\\ \\land\\ give(z_{3805},x,z_{3806}))))))$"
      ],
      "text/plain": [
       "<IPython.core.display.Markdown object>"
      ]
     },
     "metadata": {},
     "output_type": "display_data"
    },
    {
     "data": {
      "text/markdown": [
       "\"62\": $\\exists\\ x.(book(x)\\ \\land\\ \\forall\\ z_{3809}.(boy(z_{3809})\\ \\to\\ \\forall\\ z_{3808}.(library(z_{3808})\\ \\to\\ \\forall\\ z_{3807}.(girl(z_{3807})\\ \\to\\ (give(z_{3808},z_{3807},x)\\ \\land\\ give(z_{3808},z_{3809},x))))))$"
      ],
      "text/plain": [
       "<IPython.core.display.Markdown object>"
      ]
     },
     "metadata": {},
     "output_type": "display_data"
    },
    {
     "data": {
      "text/markdown": [
       "\"63\": $\\forall\\ x.(boy(x)\\ \\to\\ \\forall\\ z_{3812}.(library(z_{3812})\\ \\to\\ \\exists\\ z_{3811}.(book(z_{3811})\\ \\land\\ \\forall\\ z_{3810}.(girl(z_{3810})\\ \\to\\ (give(z_{3812},z_{3810},z_{3811})\\ \\land\\ give(z_{3812},x,z_{3811}))))))$"
      ],
      "text/plain": [
       "<IPython.core.display.Markdown object>"
      ]
     },
     "metadata": {},
     "output_type": "display_data"
    },
    {
     "data": {
      "text/markdown": [
       "\"64\": $\\forall\\ x.(library(x)\\ \\to\\ \\forall\\ z_{3815}.(boy(z_{3815})\\ \\to\\ \\exists\\ z_{3814}.(book(z_{3814})\\ \\land\\ \\forall\\ z_{3813}.(girl(z_{3813})\\ \\to\\ (give(x,z_{3813},z_{3814})\\ \\land\\ give(x,z_{3815},z_{3814}))))))$"
      ],
      "text/plain": [
       "<IPython.core.display.Markdown object>"
      ]
     },
     "metadata": {},
     "output_type": "display_data"
    },
    {
     "data": {
      "text/markdown": [
       "\"65\": $\\exists\\ x.(book(x)\\ \\land\\ \\forall\\ z_{3818}.(library(z_{3818})\\ \\to\\ \\forall\\ z_{3817}.(boy(z_{3817})\\ \\to\\ \\forall\\ z_{3816}.(girl(z_{3816})\\ \\to\\ (give(z_{3818},z_{3816},x)\\ \\land\\ give(z_{3818},z_{3817},x))))))$"
      ],
      "text/plain": [
       "<IPython.core.display.Markdown object>"
      ]
     },
     "metadata": {},
     "output_type": "display_data"
    },
    {
     "data": {
      "text/markdown": [
       "\"66\": $\\forall\\ x.(library(x)\\ \\to\\ \\exists\\ z_{3821}.(book(z_{3821})\\ \\land\\ \\forall\\ z_{3820}.(boy(z_{3820})\\ \\to\\ \\forall\\ z_{3819}.(girl(z_{3819})\\ \\to\\ (give(x,z_{3819},z_{3821})\\ \\land\\ give(x,z_{3820},z_{3821}))))))$"
      ],
      "text/plain": [
       "<IPython.core.display.Markdown object>"
      ]
     },
     "metadata": {},
     "output_type": "display_data"
    },
    {
     "data": {
      "text/markdown": [
       "\"67\": $\\forall\\ x.(girl(x)\\ \\to\\ \\exists\\ z_{3824}.(book(z_{3824})\\ \\land\\ \\forall\\ z_{3823}.(library(z_{3823})\\ \\to\\ \\forall\\ z_{3822}.(boy(z_{3822})\\ \\to\\ (give(z_{3823},x,z_{3824})\\ \\land\\ give(z_{3823},z_{3822},z_{3824}))))))$"
      ],
      "text/plain": [
       "<IPython.core.display.Markdown object>"
      ]
     },
     "metadata": {},
     "output_type": "display_data"
    },
    {
     "data": {
      "text/markdown": [
       "\"68\": $\\exists\\ x.(book(x)\\ \\land\\ \\forall\\ z_{3827}.(girl(z_{3827})\\ \\to\\ \\forall\\ z_{3826}.(library(z_{3826})\\ \\to\\ \\forall\\ z_{3825}.(boy(z_{3825})\\ \\to\\ (give(z_{3826},z_{3827},x)\\ \\land\\ give(z_{3826},z_{3825},x))))))$"
      ],
      "text/plain": [
       "<IPython.core.display.Markdown object>"
      ]
     },
     "metadata": {},
     "output_type": "display_data"
    },
    {
     "data": {
      "text/markdown": [
       "\"69\": $\\forall\\ x.(girl(x)\\ \\to\\ \\forall\\ z_{3830}.(library(z_{3830})\\ \\to\\ \\exists\\ z_{3829}.(book(z_{3829})\\ \\land\\ \\forall\\ z_{3828}.(boy(z_{3828})\\ \\to\\ (give(z_{3830},x,z_{3829})\\ \\land\\ give(z_{3830},z_{3828},z_{3829}))))))$"
      ],
      "text/plain": [
       "<IPython.core.display.Markdown object>"
      ]
     },
     "metadata": {},
     "output_type": "display_data"
    },
    {
     "data": {
      "text/markdown": [
       "\"70\": $\\forall\\ x.(library(x)\\ \\to\\ \\forall\\ z_{3833}.(girl(z_{3833})\\ \\to\\ \\exists\\ z_{3832}.(book(z_{3832})\\ \\land\\ \\forall\\ z_{3831}.(boy(z_{3831})\\ \\to\\ (give(x,z_{3833},z_{3832})\\ \\land\\ give(x,z_{3831},z_{3832}))))))$"
      ],
      "text/plain": [
       "<IPython.core.display.Markdown object>"
      ]
     },
     "metadata": {},
     "output_type": "display_data"
    },
    {
     "data": {
      "text/markdown": [
       "\"71\": $\\exists\\ x.(book(x)\\ \\land\\ \\forall\\ z_{3836}.(library(z_{3836})\\ \\to\\ \\forall\\ z_{3835}.(girl(z_{3835})\\ \\to\\ \\forall\\ z_{3834}.(boy(z_{3834})\\ \\to\\ (give(z_{3836},z_{3835},x)\\ \\land\\ give(z_{3836},z_{3834},x))))))$"
      ],
      "text/plain": [
       "<IPython.core.display.Markdown object>"
      ]
     },
     "metadata": {},
     "output_type": "display_data"
    },
    {
     "data": {
      "text/markdown": [
       "\"72\": $\\forall\\ x.(library(x)\\ \\to\\ \\exists\\ z_{3839}.(book(z_{3839})\\ \\land\\ \\forall\\ z_{3838}.(girl(z_{3838})\\ \\to\\ \\forall\\ z_{3837}.(boy(z_{3837})\\ \\to\\ (give(x,z_{3838},z_{3839})\\ \\land\\ give(x,z_{3837},z_{3839}))))))$"
      ],
      "text/plain": [
       "<IPython.core.display.Markdown object>"
      ]
     },
     "metadata": {},
     "output_type": "display_data"
    },
    {
     "data": {
      "text/markdown": [
       "\"73\": $\\forall\\ x.(boy(x)\\ \\to\\ (\\exists\\ z_{3842}.(book(z_{3842})\\ \\land\\ \\forall\\ z_{3841}.(library(z_{3841})\\ \\to\\ \\forall\\ z_{3840}.(girl(z_{3840})\\ \\to\\ give(z_{3841},@x6,z_{3842}))))\\ \\land\\ \\exists\\ z_{3843}.(book(z_{3843})\\ \\land\\ \\forall\\ z_{3841}.(library(z_{3841})\\ \\to\\ \\forall\\ z_{3840}.(girl(z_{3840})\\ \\to\\ give(z_{3841},x,z_{3843}))))))$"
      ],
      "text/plain": [
       "<IPython.core.display.Markdown object>"
      ]
     },
     "metadata": {},
     "output_type": "display_data"
    },
    {
     "data": {
      "text/markdown": [
       "\"74\": $(\\forall\\ x.(boy(x)\\ \\to\\ \\exists\\ z_{3846}.(book(z_{3846})\\ \\land\\ \\forall\\ z_{3845}.(library(z_{3845})\\ \\to\\ \\forall\\ z_{3844}.(girl(z_{3844})\\ \\to\\ give(z_{3845},@x6,z_{3846})))))\\ \\land\\ \\forall\\ x.(boy(x)\\ \\to\\ \\exists\\ z_{3846}.(book(z_{3846})\\ \\land\\ \\forall\\ z_{3845}.(library(z_{3845})\\ \\to\\ \\forall\\ z_{3844}.(girl(z_{3844})\\ \\to\\ give(z_{3845},@x9,z_{3846}))))))$"
      ],
      "text/plain": [
       "<IPython.core.display.Markdown object>"
      ]
     },
     "metadata": {},
     "output_type": "display_data"
    },
    {
     "data": {
      "text/markdown": [
       "\"75\": $\\forall\\ x.(boy(x)\\ \\to\\ \\exists\\ z_{3850}.(book(z_{3850})\\ \\land\\ \\forall\\ z_{3848}.(library(z_{3848})\\ \\to\\ \\forall\\ z_{3847}.(girl(z_{3847})\\ \\to\\ give(z_{3848},@x6,z_{3850})))\\ \\land\\ \\forall\\ z_{3849}.(library(z_{3849})\\ \\to\\ \\forall\\ z_{3847}.(girl(z_{3847})\\ \\to\\ give(z_{3849},x,z_{3850})))))$"
      ],
      "text/plain": [
       "<IPython.core.display.Markdown object>"
      ]
     },
     "metadata": {},
     "output_type": "display_data"
    },
    {
     "data": {
      "text/markdown": [
       "\"76\": $\\exists\\ x.(book(x)\\ \\land\\ \\forall\\ z_{3854}.(boy(z_{3854})\\ \\to\\ (\\forall\\ z_{3852}.(library(z_{3852})\\ \\to\\ \\forall\\ z_{3851}.(girl(z_{3851})\\ \\to\\ give(z_{3852},@x6,x)))\\ \\land\\ \\forall\\ z_{3853}.(library(z_{3853})\\ \\to\\ \\forall\\ z_{3851}.(girl(z_{3851})\\ \\to\\ give(z_{3853},z_{3854},x))))))$"
      ],
      "text/plain": [
       "<IPython.core.display.Markdown object>"
      ]
     },
     "metadata": {},
     "output_type": "display_data"
    },
    {
     "data": {
      "text/markdown": [
       "\"77\": $(\\exists\\ x.(book(x)\\ \\land\\ \\forall\\ z_{3857}.(boy(z_{3857})\\ \\to\\ \\forall\\ z_{3856}.(library(z_{3856})\\ \\to\\ \\forall\\ z_{3855}.(girl(z_{3855})\\ \\to\\ give(z_{3856},@x6,x)))))\\ \\land\\ \\exists\\ x.(book(x)\\ \\land\\ \\forall\\ z_{3857}.(boy(z_{3857})\\ \\to\\ \\forall\\ z_{3856}.(library(z_{3856})\\ \\to\\ \\forall\\ z_{3855}.(girl(z_{3855})\\ \\to\\ give(z_{3856},@x9,x))))))$"
      ],
      "text/plain": [
       "<IPython.core.display.Markdown object>"
      ]
     },
     "metadata": {},
     "output_type": "display_data"
    },
    {
     "data": {
      "text/markdown": [
       "\"78\": $\\exists\\ x.(book(x)\\ \\land\\ \\forall\\ z_{3860}.(boy(z_{3860})\\ \\to\\ \\forall\\ z_{3859}.(library(z_{3859})\\ \\to\\ \\forall\\ z_{3858}.(girl(z_{3858})\\ \\to\\ give(z_{3859},@x6,x))))\\ \\land\\ \\forall\\ z_{3861}.(boy(z_{3861})\\ \\to\\ \\forall\\ z_{3859}.(library(z_{3859})\\ \\to\\ \\forall\\ z_{3858}.(girl(z_{3858})\\ \\to\\ give(z_{3859},@x9,x)))))$"
      ],
      "text/plain": [
       "<IPython.core.display.Markdown object>"
      ]
     },
     "metadata": {},
     "output_type": "display_data"
    },
    {
     "data": {
      "text/markdown": [
       "\"79\": $\\forall\\ x.(boy(x)\\ \\to\\ (\\forall\\ z_{3864}.(library(z_{3864})\\ \\to\\ \\exists\\ z_{3863}.(book(z_{3863})\\ \\land\\ \\forall\\ z_{3862}.(girl(z_{3862})\\ \\to\\ give(z_{3864},@x6,z_{3863}))))\\ \\land\\ \\forall\\ z_{3865}.(library(z_{3865})\\ \\to\\ \\exists\\ z_{3863}.(book(z_{3863})\\ \\land\\ \\forall\\ z_{3862}.(girl(z_{3862})\\ \\to\\ give(z_{3865},x,z_{3863}))))))$"
      ],
      "text/plain": [
       "<IPython.core.display.Markdown object>"
      ]
     },
     "metadata": {},
     "output_type": "display_data"
    },
    {
     "data": {
      "text/markdown": [
       "\"80\": $(\\forall\\ x.(boy(x)\\ \\to\\ \\forall\\ z_{3868}.(library(z_{3868})\\ \\to\\ \\exists\\ z_{3867}.(book(z_{3867})\\ \\land\\ \\forall\\ z_{3866}.(girl(z_{3866})\\ \\to\\ give(z_{3868},@x6,z_{3867})))))\\ \\land\\ \\forall\\ x.(boy(x)\\ \\to\\ \\forall\\ z_{3868}.(library(z_{3868})\\ \\to\\ \\exists\\ z_{3867}.(book(z_{3867})\\ \\land\\ \\forall\\ z_{3866}.(girl(z_{3866})\\ \\to\\ give(z_{3868},@x9,z_{3867}))))))$"
      ],
      "text/plain": [
       "<IPython.core.display.Markdown object>"
      ]
     },
     "metadata": {},
     "output_type": "display_data"
    },
    {
     "data": {
      "text/markdown": [
       "\"81\": $\\forall\\ x.(boy(x)\\ \\to\\ \\forall\\ z_{3872}.(library(z_{3872})\\ \\to\\ (\\exists\\ z_{3870}.(book(z_{3870})\\ \\land\\ \\forall\\ z_{3869}.(girl(z_{3869})\\ \\to\\ give(z_{3872},@x6,z_{3870})))\\ \\land\\ \\exists\\ z_{3871}.(book(z_{3871})\\ \\land\\ \\forall\\ z_{3869}.(girl(z_{3869})\\ \\to\\ give(z_{3872},x,z_{3871}))))))$"
      ],
      "text/plain": [
       "<IPython.core.display.Markdown object>"
      ]
     },
     "metadata": {},
     "output_type": "display_data"
    },
    {
     "data": {
      "text/markdown": [
       "\"82\": $\\forall\\ x.(library(x)\\ \\to\\ \\forall\\ z_{3876}.(boy(z_{3876})\\ \\to\\ (\\exists\\ z_{3874}.(book(z_{3874})\\ \\land\\ \\forall\\ z_{3873}.(girl(z_{3873})\\ \\to\\ give(x,@x6,z_{3874})))\\ \\land\\ \\exists\\ z_{3875}.(book(z_{3875})\\ \\land\\ \\forall\\ z_{3873}.(girl(z_{3873})\\ \\to\\ give(x,z_{3876},z_{3875}))))))$"
      ],
      "text/plain": [
       "<IPython.core.display.Markdown object>"
      ]
     },
     "metadata": {},
     "output_type": "display_data"
    },
    {
     "data": {
      "text/markdown": [
       "\"83\": $(\\forall\\ x.(library(x)\\ \\to\\ \\forall\\ z_{3879}.(boy(z_{3879})\\ \\to\\ \\exists\\ z_{3878}.(book(z_{3878})\\ \\land\\ \\forall\\ z_{3877}.(girl(z_{3877})\\ \\to\\ give(x,@x6,z_{3878})))))\\ \\land\\ \\forall\\ x.(library(x)\\ \\to\\ \\forall\\ z_{3879}.(boy(z_{3879})\\ \\to\\ \\exists\\ z_{3878}.(book(z_{3878})\\ \\land\\ \\forall\\ z_{3877}.(girl(z_{3877})\\ \\to\\ give(x,@x9,z_{3878}))))))$"
      ],
      "text/plain": [
       "<IPython.core.display.Markdown object>"
      ]
     },
     "metadata": {},
     "output_type": "display_data"
    },
    {
     "data": {
      "text/markdown": [
       "\"84\": $\\forall\\ x.(library(x)\\ \\to\\ (\\forall\\ z_{3882}.(boy(z_{3882})\\ \\to\\ \\exists\\ z_{3881}.(book(z_{3881})\\ \\land\\ \\forall\\ z_{3880}.(girl(z_{3880})\\ \\to\\ give(x,@x6,z_{3881}))))\\ \\land\\ \\forall\\ z_{3883}.(boy(z_{3883})\\ \\to\\ \\exists\\ z_{3881}.(book(z_{3881})\\ \\land\\ \\forall\\ z_{3880}.(girl(z_{3880})\\ \\to\\ give(x,@x9,z_{3881}))))))$"
      ],
      "text/plain": [
       "<IPython.core.display.Markdown object>"
      ]
     },
     "metadata": {},
     "output_type": "display_data"
    },
    {
     "data": {
      "text/markdown": [
       "\"85\": $\\forall\\ x.(boy(x)\\ \\to\\ \\exists\\ z_{3887}.(book(z_{3887})\\ \\land\\ \\forall\\ z_{3886}.(library(z_{3886})\\ \\to\\ (\\forall\\ z_{3884}.(girl(z_{3884})\\ \\to\\ give(z_{3886},@x6,z_{3887}))\\ \\land\\ \\forall\\ z_{3885}.(girl(z_{3885})\\ \\to\\ give(z_{3886},x,z_{3887}))))))$"
      ],
      "text/plain": [
       "<IPython.core.display.Markdown object>"
      ]
     },
     "metadata": {},
     "output_type": "display_data"
    },
    {
     "data": {
      "text/markdown": [
       "\"86\": $\\exists\\ x.(book(x)\\ \\land\\ \\forall\\ z_{3891}.(boy(z_{3891})\\ \\to\\ \\forall\\ z_{3890}.(library(z_{3890})\\ \\to\\ (\\forall\\ z_{3888}.(girl(z_{3888})\\ \\to\\ give(z_{3890},@x6,x))\\ \\land\\ \\forall\\ z_{3889}.(girl(z_{3889})\\ \\to\\ give(z_{3890},z_{3891},x))))))$"
      ],
      "text/plain": [
       "<IPython.core.display.Markdown object>"
      ]
     },
     "metadata": {},
     "output_type": "display_data"
    },
    {
     "data": {
      "text/markdown": [
       "\"87\": $\\forall\\ x.(boy(x)\\ \\to\\ \\forall\\ z_{3895}.(library(z_{3895})\\ \\to\\ \\exists\\ z_{3894}.(book(z_{3894})\\ \\land\\ \\forall\\ z_{3892}.(girl(z_{3892})\\ \\to\\ give(z_{3895},@x6,z_{3894}))\\ \\land\\ \\forall\\ z_{3893}.(girl(z_{3893})\\ \\to\\ give(z_{3895},x,z_{3894})))))$"
      ],
      "text/plain": [
       "<IPython.core.display.Markdown object>"
      ]
     },
     "metadata": {},
     "output_type": "display_data"
    },
    {
     "data": {
      "text/markdown": [
       "\"88\": $\\forall\\ x.(library(x)\\ \\to\\ \\forall\\ z_{3899}.(boy(z_{3899})\\ \\to\\ \\exists\\ z_{3898}.(book(z_{3898})\\ \\land\\ \\forall\\ z_{3896}.(girl(z_{3896})\\ \\to\\ give(x,@x6,z_{3898}))\\ \\land\\ \\forall\\ z_{3897}.(girl(z_{3897})\\ \\to\\ give(x,z_{3899},z_{3898})))))$"
      ],
      "text/plain": [
       "<IPython.core.display.Markdown object>"
      ]
     },
     "metadata": {},
     "output_type": "display_data"
    },
    {
     "data": {
      "text/markdown": [
       "\"89\": $\\exists\\ x.(book(x)\\ \\land\\ \\forall\\ z_{3903}.(library(z_{3903})\\ \\to\\ \\forall\\ z_{3902}.(boy(z_{3902})\\ \\to\\ (\\forall\\ z_{3900}.(girl(z_{3900})\\ \\to\\ give(z_{3903},@x6,x))\\ \\land\\ \\forall\\ z_{3901}.(girl(z_{3901})\\ \\to\\ give(z_{3903},z_{3902},x))))))$"
      ],
      "text/plain": [
       "<IPython.core.display.Markdown object>"
      ]
     },
     "metadata": {},
     "output_type": "display_data"
    },
    {
     "data": {
      "text/markdown": [
       "\"90\": $\\forall\\ x.(library(x)\\ \\to\\ \\exists\\ z_{3907}.(book(z_{3907})\\ \\land\\ \\forall\\ z_{3906}.(boy(z_{3906})\\ \\to\\ (\\forall\\ z_{3904}.(girl(z_{3904})\\ \\to\\ give(x,@x6,z_{3907}))\\ \\land\\ \\forall\\ z_{3905}.(girl(z_{3905})\\ \\to\\ give(x,z_{3906},z_{3907}))))))$"
      ],
      "text/plain": [
       "<IPython.core.display.Markdown object>"
      ]
     },
     "metadata": {},
     "output_type": "display_data"
    },
    {
     "data": {
      "text/markdown": [
       "\"91\": $(\\exists\\ x.(book(x)\\ \\land\\ \\forall\\ z_{3910}.(library(z_{3910})\\ \\to\\ \\forall\\ z_{3909}.(boy(z_{3909})\\ \\to\\ \\forall\\ z_{3908}.(girl(z_{3908})\\ \\to\\ give(z_{3910},@x6,x)))))\\ \\land\\ \\exists\\ x.(book(x)\\ \\land\\ \\forall\\ z_{3910}.(library(z_{3910})\\ \\to\\ \\forall\\ z_{3909}.(boy(z_{3909})\\ \\to\\ \\forall\\ z_{3908}.(girl(z_{3908})\\ \\to\\ give(z_{3910},@x9,x))))))$"
      ],
      "text/plain": [
       "<IPython.core.display.Markdown object>"
      ]
     },
     "metadata": {},
     "output_type": "display_data"
    },
    {
     "data": {
      "text/markdown": [
       "\"92\": $\\exists\\ x.(book(x)\\ \\land\\ \\forall\\ z_{3913}.(library(z_{3913})\\ \\to\\ \\forall\\ z_{3912}.(boy(z_{3912})\\ \\to\\ \\forall\\ z_{3911}.(girl(z_{3911})\\ \\to\\ give(z_{3913},@x6,x))))\\ \\land\\ \\forall\\ z_{3914}.(library(z_{3914})\\ \\to\\ \\forall\\ z_{3912}.(boy(z_{3912})\\ \\to\\ \\forall\\ z_{3911}.(girl(z_{3911})\\ \\to\\ give(z_{3914},@x9,x)))))$"
      ],
      "text/plain": [
       "<IPython.core.display.Markdown object>"
      ]
     },
     "metadata": {},
     "output_type": "display_data"
    },
    {
     "data": {
      "text/markdown": [
       "\"93\": $(\\forall\\ x.(library(x)\\ \\to\\ \\exists\\ z_{3917}.(book(z_{3917})\\ \\land\\ \\forall\\ z_{3916}.(boy(z_{3916})\\ \\to\\ \\forall\\ z_{3915}.(girl(z_{3915})\\ \\to\\ give(x,@x6,z_{3917})))))\\ \\land\\ \\forall\\ x.(library(x)\\ \\to\\ \\exists\\ z_{3917}.(book(z_{3917})\\ \\land\\ \\forall\\ z_{3916}.(boy(z_{3916})\\ \\to\\ \\forall\\ z_{3915}.(girl(z_{3915})\\ \\to\\ give(x,@x9,z_{3917}))))))$"
      ],
      "text/plain": [
       "<IPython.core.display.Markdown object>"
      ]
     },
     "metadata": {},
     "output_type": "display_data"
    },
    {
     "data": {
      "text/markdown": [
       "\"94\": $\\forall\\ x.(library(x)\\ \\to\\ (\\exists\\ z_{3920}.(book(z_{3920})\\ \\land\\ \\forall\\ z_{3919}.(boy(z_{3919})\\ \\to\\ \\forall\\ z_{3918}.(girl(z_{3918})\\ \\to\\ give(x,@x6,z_{3920}))))\\ \\land\\ \\exists\\ z_{3921}.(book(z_{3921})\\ \\land\\ \\forall\\ z_{3919}.(boy(z_{3919})\\ \\to\\ \\forall\\ z_{3918}.(girl(z_{3918})\\ \\to\\ give(x,@x9,z_{3921}))))))$"
      ],
      "text/plain": [
       "<IPython.core.display.Markdown object>"
      ]
     },
     "metadata": {},
     "output_type": "display_data"
    },
    {
     "data": {
      "text/markdown": [
       "\"95\": $\\exists\\ x.(book(x)\\ \\land\\ \\forall\\ z_{3925}.(library(z_{3925})\\ \\to\\ (\\forall\\ z_{3923}.(boy(z_{3923})\\ \\to\\ \\forall\\ z_{3922}.(girl(z_{3922})\\ \\to\\ give(z_{3925},@x6,x)))\\ \\land\\ \\forall\\ z_{3924}.(boy(z_{3924})\\ \\to\\ \\forall\\ z_{3922}.(girl(z_{3922})\\ \\to\\ give(z_{3925},@x9,x))))))$"
      ],
      "text/plain": [
       "<IPython.core.display.Markdown object>"
      ]
     },
     "metadata": {},
     "output_type": "display_data"
    },
    {
     "data": {
      "text/markdown": [
       "\"96\": $\\forall\\ x.(library(x)\\ \\to\\ \\exists\\ z_{3929}.(book(z_{3929})\\ \\land\\ \\forall\\ z_{3927}.(boy(z_{3927})\\ \\to\\ \\forall\\ z_{3926}.(girl(z_{3926})\\ \\to\\ give(x,@x6,z_{3929})))\\ \\land\\ \\forall\\ z_{3928}.(boy(z_{3928})\\ \\to\\ \\forall\\ z_{3926}.(girl(z_{3926})\\ \\to\\ give(x,@x9,z_{3929})))))$"
      ],
      "text/plain": [
       "<IPython.core.display.Markdown object>"
      ]
     },
     "metadata": {},
     "output_type": "display_data"
    },
    {
     "data": {
      "text/markdown": [
       "\"97\": $\\forall\\ x.(girl(x)\\ \\to\\ (\\exists\\ z_{3932}.(book(z_{3932})\\ \\land\\ \\forall\\ z_{3931}.(library(z_{3931})\\ \\to\\ \\forall\\ z_{3930}.(boy(z_{3930})\\ \\to\\ give(z_{3931},x,z_{3932}))))\\ \\land\\ \\exists\\ z_{3933}.(book(z_{3933})\\ \\land\\ \\forall\\ z_{3931}.(library(z_{3931})\\ \\to\\ \\forall\\ z_{3930}.(boy(z_{3930})\\ \\to\\ give(z_{3931},@x9,z_{3933}))))))$"
      ],
      "text/plain": [
       "<IPython.core.display.Markdown object>"
      ]
     },
     "metadata": {},
     "output_type": "display_data"
    },
    {
     "data": {
      "text/markdown": [
       "\"98\": $(\\forall\\ x.(girl(x)\\ \\to\\ \\exists\\ z_{3936}.(book(z_{3936})\\ \\land\\ \\forall\\ z_{3935}.(library(z_{3935})\\ \\to\\ \\forall\\ z_{3934}.(boy(z_{3934})\\ \\to\\ give(z_{3935},@x6,z_{3936})))))\\ \\land\\ \\forall\\ x.(girl(x)\\ \\to\\ \\exists\\ z_{3936}.(book(z_{3936})\\ \\land\\ \\forall\\ z_{3935}.(library(z_{3935})\\ \\to\\ \\forall\\ z_{3934}.(boy(z_{3934})\\ \\to\\ give(z_{3935},@x9,z_{3936}))))))$"
      ],
      "text/plain": [
       "<IPython.core.display.Markdown object>"
      ]
     },
     "metadata": {},
     "output_type": "display_data"
    },
    {
     "data": {
      "text/markdown": [
       "\"99\": $\\forall\\ x.(girl(x)\\ \\to\\ \\exists\\ z_{3940}.(book(z_{3940})\\ \\land\\ \\forall\\ z_{3938}.(library(z_{3938})\\ \\to\\ \\forall\\ z_{3937}.(boy(z_{3937})\\ \\to\\ give(z_{3938},x,z_{3940})))\\ \\land\\ \\forall\\ z_{3939}.(library(z_{3939})\\ \\to\\ \\forall\\ z_{3937}.(boy(z_{3937})\\ \\to\\ give(z_{3939},@x9,z_{3940})))))$"
      ],
      "text/plain": [
       "<IPython.core.display.Markdown object>"
      ]
     },
     "metadata": {},
     "output_type": "display_data"
    },
    {
     "data": {
      "text/markdown": [
       "\"100\": $\\exists\\ x.(book(x)\\ \\land\\ \\forall\\ z_{3944}.(girl(z_{3944})\\ \\to\\ (\\forall\\ z_{3942}.(library(z_{3942})\\ \\to\\ \\forall\\ z_{3941}.(boy(z_{3941})\\ \\to\\ give(z_{3942},z_{3944},x)))\\ \\land\\ \\forall\\ z_{3943}.(library(z_{3943})\\ \\to\\ \\forall\\ z_{3941}.(boy(z_{3941})\\ \\to\\ give(z_{3943},@x9,x))))))$"
      ],
      "text/plain": [
       "<IPython.core.display.Markdown object>"
      ]
     },
     "metadata": {},
     "output_type": "display_data"
    },
    {
     "data": {
      "text/markdown": [
       "\"101\": $(\\exists\\ x.(book(x)\\ \\land\\ \\forall\\ z_{3947}.(girl(z_{3947})\\ \\to\\ \\forall\\ z_{3946}.(library(z_{3946})\\ \\to\\ \\forall\\ z_{3945}.(boy(z_{3945})\\ \\to\\ give(z_{3946},@x6,x)))))\\ \\land\\ \\exists\\ x.(book(x)\\ \\land\\ \\forall\\ z_{3947}.(girl(z_{3947})\\ \\to\\ \\forall\\ z_{3946}.(library(z_{3946})\\ \\to\\ \\forall\\ z_{3945}.(boy(z_{3945})\\ \\to\\ give(z_{3946},@x9,x))))))$"
      ],
      "text/plain": [
       "<IPython.core.display.Markdown object>"
      ]
     },
     "metadata": {},
     "output_type": "display_data"
    },
    {
     "data": {
      "text/markdown": [
       "\"102\": $\\exists\\ x.(book(x)\\ \\land\\ \\forall\\ z_{3950}.(girl(z_{3950})\\ \\to\\ \\forall\\ z_{3949}.(library(z_{3949})\\ \\to\\ \\forall\\ z_{3948}.(boy(z_{3948})\\ \\to\\ give(z_{3949},@x6,x))))\\ \\land\\ \\forall\\ z_{3951}.(girl(z_{3951})\\ \\to\\ \\forall\\ z_{3949}.(library(z_{3949})\\ \\to\\ \\forall\\ z_{3948}.(boy(z_{3948})\\ \\to\\ give(z_{3949},@x9,x)))))$"
      ],
      "text/plain": [
       "<IPython.core.display.Markdown object>"
      ]
     },
     "metadata": {},
     "output_type": "display_data"
    },
    {
     "data": {
      "text/markdown": [
       "\"103\": $\\forall\\ x.(girl(x)\\ \\to\\ (\\forall\\ z_{3954}.(library(z_{3954})\\ \\to\\ \\exists\\ z_{3953}.(book(z_{3953})\\ \\land\\ \\forall\\ z_{3952}.(boy(z_{3952})\\ \\to\\ give(z_{3954},x,z_{3953}))))\\ \\land\\ \\forall\\ z_{3955}.(library(z_{3955})\\ \\to\\ \\exists\\ z_{3953}.(book(z_{3953})\\ \\land\\ \\forall\\ z_{3952}.(boy(z_{3952})\\ \\to\\ give(z_{3955},@x9,z_{3953}))))))$"
      ],
      "text/plain": [
       "<IPython.core.display.Markdown object>"
      ]
     },
     "metadata": {},
     "output_type": "display_data"
    },
    {
     "data": {
      "text/markdown": [
       "\"104\": $(\\forall\\ x.(girl(x)\\ \\to\\ \\forall\\ z_{3958}.(library(z_{3958})\\ \\to\\ \\exists\\ z_{3957}.(book(z_{3957})\\ \\land\\ \\forall\\ z_{3956}.(boy(z_{3956})\\ \\to\\ give(z_{3958},@x6,z_{3957})))))\\ \\land\\ \\forall\\ x.(girl(x)\\ \\to\\ \\forall\\ z_{3958}.(library(z_{3958})\\ \\to\\ \\exists\\ z_{3957}.(book(z_{3957})\\ \\land\\ \\forall\\ z_{3956}.(boy(z_{3956})\\ \\to\\ give(z_{3958},@x9,z_{3957}))))))$"
      ],
      "text/plain": [
       "<IPython.core.display.Markdown object>"
      ]
     },
     "metadata": {},
     "output_type": "display_data"
    },
    {
     "data": {
      "text/markdown": [
       "\"105\": $\\forall\\ x.(girl(x)\\ \\to\\ \\forall\\ z_{3962}.(library(z_{3962})\\ \\to\\ (\\exists\\ z_{3960}.(book(z_{3960})\\ \\land\\ \\forall\\ z_{3959}.(boy(z_{3959})\\ \\to\\ give(z_{3962},x,z_{3960})))\\ \\land\\ \\exists\\ z_{3961}.(book(z_{3961})\\ \\land\\ \\forall\\ z_{3959}.(boy(z_{3959})\\ \\to\\ give(z_{3962},@x9,z_{3961}))))))$"
      ],
      "text/plain": [
       "<IPython.core.display.Markdown object>"
      ]
     },
     "metadata": {},
     "output_type": "display_data"
    },
    {
     "data": {
      "text/markdown": [
       "\"106\": $\\forall\\ x.(library(x)\\ \\to\\ \\forall\\ z_{3966}.(girl(z_{3966})\\ \\to\\ (\\exists\\ z_{3964}.(book(z_{3964})\\ \\land\\ \\forall\\ z_{3963}.(boy(z_{3963})\\ \\to\\ give(x,z_{3966},z_{3964})))\\ \\land\\ \\exists\\ z_{3965}.(book(z_{3965})\\ \\land\\ \\forall\\ z_{3963}.(boy(z_{3963})\\ \\to\\ give(x,@x9,z_{3965}))))))$"
      ],
      "text/plain": [
       "<IPython.core.display.Markdown object>"
      ]
     },
     "metadata": {},
     "output_type": "display_data"
    },
    {
     "data": {
      "text/markdown": [
       "\"107\": $(\\forall\\ x.(library(x)\\ \\to\\ \\forall\\ z_{3969}.(girl(z_{3969})\\ \\to\\ \\exists\\ z_{3968}.(book(z_{3968})\\ \\land\\ \\forall\\ z_{3967}.(boy(z_{3967})\\ \\to\\ give(x,@x6,z_{3968})))))\\ \\land\\ \\forall\\ x.(library(x)\\ \\to\\ \\forall\\ z_{3969}.(girl(z_{3969})\\ \\to\\ \\exists\\ z_{3968}.(book(z_{3968})\\ \\land\\ \\forall\\ z_{3967}.(boy(z_{3967})\\ \\to\\ give(x,@x9,z_{3968}))))))$"
      ],
      "text/plain": [
       "<IPython.core.display.Markdown object>"
      ]
     },
     "metadata": {},
     "output_type": "display_data"
    },
    {
     "data": {
      "text/markdown": [
       "\"108\": $\\forall\\ x.(library(x)\\ \\to\\ (\\forall\\ z_{3972}.(girl(z_{3972})\\ \\to\\ \\exists\\ z_{3971}.(book(z_{3971})\\ \\land\\ \\forall\\ z_{3970}.(boy(z_{3970})\\ \\to\\ give(x,@x6,z_{3971}))))\\ \\land\\ \\forall\\ z_{3973}.(girl(z_{3973})\\ \\to\\ \\exists\\ z_{3971}.(book(z_{3971})\\ \\land\\ \\forall\\ z_{3970}.(boy(z_{3970})\\ \\to\\ give(x,@x9,z_{3971}))))))$"
      ],
      "text/plain": [
       "<IPython.core.display.Markdown object>"
      ]
     },
     "metadata": {},
     "output_type": "display_data"
    },
    {
     "data": {
      "text/markdown": [
       "\"109\": $\\forall\\ x.(girl(x)\\ \\to\\ \\exists\\ z_{3977}.(book(z_{3977})\\ \\land\\ \\forall\\ z_{3976}.(library(z_{3976})\\ \\to\\ (\\forall\\ z_{3974}.(boy(z_{3974})\\ \\to\\ give(z_{3976},x,z_{3977}))\\ \\land\\ \\forall\\ z_{3975}.(boy(z_{3975})\\ \\to\\ give(z_{3976},@x9,z_{3977}))))))$"
      ],
      "text/plain": [
       "<IPython.core.display.Markdown object>"
      ]
     },
     "metadata": {},
     "output_type": "display_data"
    },
    {
     "data": {
      "text/markdown": [
       "\"110\": $\\exists\\ x.(book(x)\\ \\land\\ \\forall\\ z_{3981}.(girl(z_{3981})\\ \\to\\ \\forall\\ z_{3980}.(library(z_{3980})\\ \\to\\ (\\forall\\ z_{3978}.(boy(z_{3978})\\ \\to\\ give(z_{3980},z_{3981},x))\\ \\land\\ \\forall\\ z_{3979}.(boy(z_{3979})\\ \\to\\ give(z_{3980},@x9,x))))))$"
      ],
      "text/plain": [
       "<IPython.core.display.Markdown object>"
      ]
     },
     "metadata": {},
     "output_type": "display_data"
    },
    {
     "data": {
      "text/markdown": [
       "\"111\": $\\forall\\ x.(girl(x)\\ \\to\\ \\forall\\ z_{3985}.(library(z_{3985})\\ \\to\\ \\exists\\ z_{3984}.(book(z_{3984})\\ \\land\\ \\forall\\ z_{3982}.(boy(z_{3982})\\ \\to\\ give(z_{3985},x,z_{3984}))\\ \\land\\ \\forall\\ z_{3983}.(boy(z_{3983})\\ \\to\\ give(z_{3985},@x9,z_{3984})))))$"
      ],
      "text/plain": [
       "<IPython.core.display.Markdown object>"
      ]
     },
     "metadata": {},
     "output_type": "display_data"
    },
    {
     "data": {
      "text/markdown": [
       "\"112\": $\\forall\\ x.(library(x)\\ \\to\\ \\forall\\ z_{3989}.(girl(z_{3989})\\ \\to\\ \\exists\\ z_{3988}.(book(z_{3988})\\ \\land\\ \\forall\\ z_{3986}.(boy(z_{3986})\\ \\to\\ give(x,z_{3989},z_{3988}))\\ \\land\\ \\forall\\ z_{3987}.(boy(z_{3987})\\ \\to\\ give(x,@x9,z_{3988})))))$"
      ],
      "text/plain": [
       "<IPython.core.display.Markdown object>"
      ]
     },
     "metadata": {},
     "output_type": "display_data"
    },
    {
     "data": {
      "text/markdown": [
       "\"113\": $\\exists\\ x.(book(x)\\ \\land\\ \\forall\\ z_{3993}.(library(z_{3993})\\ \\to\\ \\forall\\ z_{3992}.(girl(z_{3992})\\ \\to\\ (\\forall\\ z_{3990}.(boy(z_{3990})\\ \\to\\ give(z_{3993},z_{3992},x))\\ \\land\\ \\forall\\ z_{3991}.(boy(z_{3991})\\ \\to\\ give(z_{3993},@x9,x))))))$"
      ],
      "text/plain": [
       "<IPython.core.display.Markdown object>"
      ]
     },
     "metadata": {},
     "output_type": "display_data"
    },
    {
     "data": {
      "text/markdown": [
       "\"114\": $\\forall\\ x.(library(x)\\ \\to\\ \\exists\\ z_{3997}.(book(z_{3997})\\ \\land\\ \\forall\\ z_{3996}.(girl(z_{3996})\\ \\to\\ (\\forall\\ z_{3994}.(boy(z_{3994})\\ \\to\\ give(x,z_{3996},z_{3997}))\\ \\land\\ \\forall\\ z_{3995}.(boy(z_{3995})\\ \\to\\ give(x,@x9,z_{3997}))))))$"
      ],
      "text/plain": [
       "<IPython.core.display.Markdown object>"
      ]
     },
     "metadata": {},
     "output_type": "display_data"
    },
    {
     "data": {
      "text/markdown": [
       "\"115\": $(\\exists\\ x.(book(x)\\ \\land\\ \\forall\\ z_{4000}.(library(z_{4000})\\ \\to\\ \\forall\\ z_{3999}.(girl(z_{3999})\\ \\to\\ \\forall\\ z_{3998}.(boy(z_{3998})\\ \\to\\ give(z_{4000},@x6,x)))))\\ \\land\\ \\exists\\ x.(book(x)\\ \\land\\ \\forall\\ z_{4000}.(library(z_{4000})\\ \\to\\ \\forall\\ z_{3999}.(girl(z_{3999})\\ \\to\\ \\forall\\ z_{3998}.(boy(z_{3998})\\ \\to\\ give(z_{4000},@x9,x))))))$"
      ],
      "text/plain": [
       "<IPython.core.display.Markdown object>"
      ]
     },
     "metadata": {},
     "output_type": "display_data"
    },
    {
     "data": {
      "text/markdown": [
       "\"116\": $\\exists\\ x.(book(x)\\ \\land\\ \\forall\\ z_{4003}.(library(z_{4003})\\ \\to\\ \\forall\\ z_{4002}.(girl(z_{4002})\\ \\to\\ \\forall\\ z_{4001}.(boy(z_{4001})\\ \\to\\ give(z_{4003},@x6,x))))\\ \\land\\ \\forall\\ z_{4004}.(library(z_{4004})\\ \\to\\ \\forall\\ z_{4002}.(girl(z_{4002})\\ \\to\\ \\forall\\ z_{4001}.(boy(z_{4001})\\ \\to\\ give(z_{4004},@x9,x)))))$"
      ],
      "text/plain": [
       "<IPython.core.display.Markdown object>"
      ]
     },
     "metadata": {},
     "output_type": "display_data"
    },
    {
     "data": {
      "text/markdown": [
       "\"117\": $(\\forall\\ x.(library(x)\\ \\to\\ \\exists\\ z_{4007}.(book(z_{4007})\\ \\land\\ \\forall\\ z_{4006}.(girl(z_{4006})\\ \\to\\ \\forall\\ z_{4005}.(boy(z_{4005})\\ \\to\\ give(x,@x6,z_{4007})))))\\ \\land\\ \\forall\\ x.(library(x)\\ \\to\\ \\exists\\ z_{4007}.(book(z_{4007})\\ \\land\\ \\forall\\ z_{4006}.(girl(z_{4006})\\ \\to\\ \\forall\\ z_{4005}.(boy(z_{4005})\\ \\to\\ give(x,@x9,z_{4007}))))))$"
      ],
      "text/plain": [
       "<IPython.core.display.Markdown object>"
      ]
     },
     "metadata": {},
     "output_type": "display_data"
    },
    {
     "data": {
      "text/markdown": [
       "\"118\": $\\forall\\ x.(library(x)\\ \\to\\ (\\exists\\ z_{4010}.(book(z_{4010})\\ \\land\\ \\forall\\ z_{4009}.(girl(z_{4009})\\ \\to\\ \\forall\\ z_{4008}.(boy(z_{4008})\\ \\to\\ give(x,@x6,z_{4010}))))\\ \\land\\ \\exists\\ z_{4011}.(book(z_{4011})\\ \\land\\ \\forall\\ z_{4009}.(girl(z_{4009})\\ \\to\\ \\forall\\ z_{4008}.(boy(z_{4008})\\ \\to\\ give(x,@x9,z_{4011}))))))$"
      ],
      "text/plain": [
       "<IPython.core.display.Markdown object>"
      ]
     },
     "metadata": {},
     "output_type": "display_data"
    },
    {
     "data": {
      "text/markdown": [
       "\"119\": $\\exists\\ x.(book(x)\\ \\land\\ \\forall\\ z_{4015}.(library(z_{4015})\\ \\to\\ (\\forall\\ z_{4013}.(girl(z_{4013})\\ \\to\\ \\forall\\ z_{4012}.(boy(z_{4012})\\ \\to\\ give(z_{4015},@x6,x)))\\ \\land\\ \\forall\\ z_{4014}.(girl(z_{4014})\\ \\to\\ \\forall\\ z_{4012}.(boy(z_{4012})\\ \\to\\ give(z_{4015},@x9,x))))))$"
      ],
      "text/plain": [
       "<IPython.core.display.Markdown object>"
      ]
     },
     "metadata": {},
     "output_type": "display_data"
    },
    {
     "data": {
      "text/markdown": [
       "\"120\": $\\forall\\ x.(library(x)\\ \\to\\ \\exists\\ z_{4019}.(book(z_{4019})\\ \\land\\ \\forall\\ z_{4017}.(girl(z_{4017})\\ \\to\\ \\forall\\ z_{4016}.(boy(z_{4016})\\ \\to\\ give(x,@x6,z_{4019})))\\ \\land\\ \\forall\\ z_{4018}.(girl(z_{4018})\\ \\to\\ \\forall\\ z_{4016}.(boy(z_{4016})\\ \\to\\ give(x,@x9,z_{4019})))))$"
      ],
      "text/plain": [
       "<IPython.core.display.Markdown object>"
      ]
     },
     "metadata": {},
     "output_type": "display_data"
    }
   ],
   "source": [
    "sentences = [\n",
    "    'every library gives a book to every girl and every boy',\n",
    "]\n",
    "\n",
    "fcfg_storage_answers_2 = r\"\"\"\n",
    "### Correct the conjunction rule here. Replace xxx and ??? with the correct answer:\n",
    "NP[NUM=pl, SEM=[CORE=<\\P.P(@x)>, STORE=((<bo(\\Q.(?n1(Q) & ?n2(Q)), @x)>)+(?b1+?b2))]] -> NP[NUM=?num1, SEM=[CORE=?n1, STORE=?b1]] CONJ NP[NUM=?num2, SEM=[CORE=?n2, STORE=?b2]]\n",
    "CONJ -> 'and'\n",
    "\"\"\"\n",
    "\n",
    "\n",
    "fcfg_storage = fcfg_storage_base + fcfg_storage_np + fcfg_storage_lexicon + fcfg_storage_answers_1 + fcfg_storage_answers_2\n",
    "cs_syntax = FeatureGrammar.fromstring(fcfg_storage)\n",
    "sents_reps = sem_parser(sentences, cs_syntax, verbose=False, is_cs=True)\n",
    "\n",
    "for i, (sent, semreps) in enumerate(sents_reps.items()):\n",
    "    counter = 0\n",
    "    print(f\"{i+1}. {sent}\")\n",
    "    for semrep in semreps:\n",
    "        counter += 1\n",
    "        display_translation(counter, semrep)"
   ]
  },
  {
   "cell_type": "markdown",
   "metadata": {},
   "source": [
    "## Marks\n",
    "\n",
    "This part of the assignment has a total of 14 marks."
   ]
  }
 ],
 "metadata": {
  "kernelspec": {
   "display_name": "Python 3.7.6 64-bit",
   "language": "python",
   "name": "python37664bit930056e920eb45feb6a4b83126f4785b"
  },
  "language_info": {
   "codemirror_mode": {
    "name": "ipython",
    "version": 3
   },
   "file_extension": ".py",
   "mimetype": "text/x-python",
   "name": "python",
   "nbconvert_exporter": "python",
   "pygments_lexer": "ipython3",
   "version": "3.7.6"
  }
 },
 "nbformat": 4,
 "nbformat_minor": 1
}
