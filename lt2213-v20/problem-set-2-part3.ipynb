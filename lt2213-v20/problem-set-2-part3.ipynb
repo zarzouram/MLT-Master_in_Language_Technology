{
 "cells": [
  {
   "cell_type": "markdown",
   "metadata": {},
   "source": [
    "# Problem Set 2 - Part 3 (VG): Ambiguity and Inference\n",
    "\n",
    "This lab should be completed individually.\n",
    "\n",
    "It extend the topics in the previous two parts with additional questions.\n",
    "\n",
    "This assignment has 27 marks in total.\n",
    "\n",
    "### Pre-requisite knowledge\n",
    "\n",
    "From `problem-set-1`:\n",
    "- First order logic\n",
    "- Lambda calculus\n",
    "- Feature unification context free grammar\n",
    "\n",
    "From `problem-set-2-part1.ipynb`:\n",
    "- Cooper storage\n",
    "\n",
    "From `problem-set-2-part2.ipynb`:\n",
    "- Using Prover9\n",
    "- Model building with `mace4`\n"
   ]
  },
  {
   "cell_type": "code",
   "execution_count": 1,
   "metadata": {},
   "outputs": [],
   "source": [
    "# This task needs NLTK and Jupyter Notebook (IPython package).\n",
    "\n",
    "import nltk\n",
    "from nltk.grammar import FeatureGrammar\n",
    "from nltk.sem import cooper_storage as cs\n",
    "\n",
    "from utils import display_latex, display_translation, display_tree, display, Markdown\n",
    "from itertools import zip_longest\n",
    "\n",
    "read_expr = nltk.sem.Expression.fromstring\n",
    "\n",
    "from utils2 import sem_parser, evaluate_sentences, syntax, syntax_notv, compare_synsem, syntax_storage\n",
    "\n",
    "import re"
   ]
  },
  {
   "cell_type": "markdown",
   "metadata": {},
   "source": [
    "## Types in Cooper Storage [12 marks in total]"
   ]
  },
  {
   "cell_type": "markdown",
   "metadata": {},
   "source": [
    "### 1. Types of syntactic categories [5 marks in total]\n",
    "\n",
    "In this question we are going to look at alternative representations for transitive verbs and verb phrases from what you saw in `problem-set-2-part1`. \n",
    "If you look carefully you see that the `TV`, `DTV` categories have simpler representations.\n",
    "That means that `VP`s have to have more complex representations as shown below.\n",
    "If you run the code below you will see that it produces the same readings that you saw earlier with a different grammar."
   ]
  },
  {
   "cell_type": "code",
   "execution_count": 2,
   "metadata": {},
   "outputs": [
    {
     "output_type": "display_data",
     "data": {
      "text/plain": "<IPython.core.display.Markdown object>",
      "text/markdown": "\"0. all dogs bite a bone\": $\\forall\\ x.(dog(x)\\ \\to\\ \\exists\\ z_{1}.(bone(z_{1})\\ \\land\\ bite(x,z_{1})))$"
     },
     "metadata": {}
    },
    {
     "output_type": "display_data",
     "data": {
      "text/plain": "<IPython.core.display.Markdown object>",
      "text/markdown": "\"1. a man gives a bone to every dog\": $\\exists\\ x.(man(x)\\ \\land\\ \\exists\\ z_{7}.(bone(z_{7})\\ \\land\\ \\forall\\ z_{6}.(dog(z_{6})\\ \\to\\ give(x,z_{7},z_{6}))))$"
     },
     "metadata": {}
    },
    {
     "output_type": "display_data",
     "data": {
      "text/plain": "<IPython.core.display.Markdown object>",
      "text/markdown": "\"1. a man gives a bone to every dog\": $\\exists\\ x.(man(x)\\ \\land\\ \\forall\\ z_{4}.(dog(z_{4})\\ \\to\\ \\exists\\ z_{3}.(bone(z_{3})\\ \\land\\ give(x,z_{3},z_{4}))))$"
     },
     "metadata": {}
    },
    {
     "output_type": "display_data",
     "data": {
      "text/plain": "<IPython.core.display.Markdown object>",
      "text/markdown": "\"2. Russia gives Moscow to Napoleon\": $give(russia,moscow,napoleon)$"
     },
     "metadata": {}
    }
   ],
   "source": [
    "fcfg_string = r\"\"\"\n",
    "VP[NUM=?n,SEM=<\\x.(?obj(?v(x)))>] -> TV[NUM=?n,SEM=?v] NP[SEM=?obj]\n",
    "VP[NUM=?n,SEM=<\\x.(?pp(\\y.?obj(?v(x, y))))>] -> DTV[NUM=?n,SEM=?v] NP[SEM=?obj] PP[+TO,SEM=?pp]\n",
    "VP[NUM=?n,SEM=<\\x.(?obj(\\z.?pp(\\y.?v(x, y, z))))>] -> DTV[NUM=?n,SEM=?v] NP[SEM=?obj] PP[+TO,SEM=?pp]\n",
    "\n",
    "TV[NUM=sg,SEM=<\\x y.bite(x,y)>,TNS=pres] -> 'bites'\n",
    "TV[NUM=pl,SEM=<\\x y.bite(x,y)>,TNS=pres] -> 'bite'\n",
    "DTV[NUM=sg,SEM=<\\x z y.give(x,y,z)>,TNS=pres] -> 'gives'\n",
    "DTV[NUM=pl,SEM=<\\x z y.give(x,y,z)>,TNS=pres] -> 'give'\n",
    "\"\"\"\n",
    "\n",
    "# this is going to add new rules to the syntax:\n",
    "new_syntax = FeatureGrammar(\n",
    "    syntax_notv.start(),\n",
    "    syntax_notv.productions() + FeatureGrammar.fromstring(fcfg_string).productions()\n",
    ")\n",
    "\n",
    "sentences = [\n",
    "    'all dogs bite a bone',\n",
    "    'a man gives a bone to every dog',\n",
    "    'Russia gives Moscow to Napoleon',\n",
    "]\n",
    "\n",
    "# change `verbose` to see the trees\n",
    "sents_reps = sem_parser(sentences, new_syntax, verbose=False)\n",
    "\n",
    "for i, (sent, semreps) in enumerate(sents_reps.items()):\n",
    "    for semrep in semreps:\n",
    "        display_translation(f\"{i}. {sent}\", semrep)"
   ]
  },
  {
   "cell_type": "markdown",
   "metadata": {},
   "source": [
    "The aim of this question is to inspect and compare two sets of grammar rules from `syntax`, `new_syntax`:"
   ]
  },
  {
   "cell_type": "code",
   "execution_count": 3,
   "metadata": {
    "tags": []
   },
   "outputs": [
    {
     "output_type": "display_data",
     "data": {
      "text/plain": "<IPython.core.display.Markdown object>",
      "text/markdown": "\n| Category | Grammar 1 | Grammar 2 \n|----------|-----------|----------\n| DTV -> {{STR}} | \\Y X x.X(\\z.Y(\\y.give(x,y,z))) | \\x z y.give(x,y,z)\n| N -> {{STR}} | \\x.bone(x) | \\x.bone(x)\n| N -> {{STR}} | \\x.man(x) | \\x.man(x)\n| N -> {{STR}} | \\x.dog(x) | \\x.dog(x)\n| NP -> Det Nom | ?det(?nom) | ?det(?nom)\n| NP -> PropN | ?np | ?np\n| S -> NP VP | ?subj(?vp) | ?subj(?vp)\n| TV -> {{STR}} | \\X x.X(\\y.bite(x,y)) | \\x y.bite(x,y)\n| VP -> DTV NP PP | ?v(?obj,?pp) | \\x.?pp(\\y.?obj(?v(x,y)))\n| VP -> DTV NP PP | - | \\x.?obj(\\z.?pp(\\y.?v(x,y,z)))\n| VP -> IV | ?v | ?v\n| VP -> TV NP | ?v(?obj) | \\x.?obj(?v(x))\n"
     },
     "metadata": {}
    }
   ],
   "source": [
    "# display the comparison\n",
    "table = \"\"\"\n",
    "| Category | Grammar 1 | Grammar 2 \n",
    "|----------|-----------|----------\n",
    "\"\"\"\n",
    "for cat, sem1, sem2 in compare_synsem(syntax, new_syntax):\n",
    "    if cat[0] in ['VP', 'DTV', 'TV', 'IV','NP', 'S', 'N']:\n",
    "        table += f\"| {cat[0]} -> {cat[1]} | {'-' if sem1 is None else sem1} | {'-' if sem2 is None else sem2}\\n\"\n",
    "\n",
    "display(Markdown(table))"
   ]
  },
  {
   "cell_type": "markdown",
   "metadata": {},
   "source": [
    "**1a.** What are the semantic types of each syntactic category?\n",
    "Compare `new_syntax` with `syntax` imported form `util2.py`. \n",
    "\n",
    "Write types in `???`. **[4 marks]**"
   ]
  },
  {
   "cell_type": "markdown",
   "metadata": {},
   "source": [
    "|\tSyntactic Type\t|\tGrammar 1\t\t\t        |\tGrammar 2\t\t\t      | \n",
    "|-------------------|:------------------------------|:----------------------------| \n",
    "| S\t\t\t\t\t| `t`\t\t\t\t\t        | `t`\t\t\t\t\t      |\n",
    "| DET\t\t\t\t| `<<e,t>,<<e,t>,t>>`\t        | `<<e,t>,e>`\t      |\n",
    "| N\t\t\t\t\t| `<e,t>`\t\t\t\t        | `<e,t>`\t\t\t\t      |\n",
    "| IV\t\t\t\t| `<e,t>`\t\t\t\t\t    | `<e,t>`\t\t\t\t      |\n",
    "| TV\t\t\t\t| `<<<e,t>,t>,<e,t>>`\t\t    | `<e,<e,t>>`\t\t\t\t  |\n",
    "| DTV\t\t\t\t| `<<<e,t>,t>,<<<e,t>,t>,<e,t>>>`| `<e,<e,<e,t>>>`\t\t\t  |\n",
    "| NP\t\t\t\t| `<<e,t>,t>`\t\t\t\t\t| `<e>`\t\t\t  |\n",
    "| PP\t\t\t\t| `<<e,t>,t>`\t\t\t\t\t| `\t<e>`\t\t\t      |\n",
    "| VP\t\t\t\t| `<e,t>`\t\t\t\t\t    | `<e,t>`\t\t\t\t\t  |\n"
   ]
  },
  {
   "cell_type": "markdown",
   "metadata": {},
   "source": [
    "**1b.** There are two simple ways to construct lambda terms in lambda calculus:\n",
    "\n",
    "|\tLambda Syntax\t|\tName\t\t\t\t|\tDescription\t\t\t|\n",
    "|-------------------|-----------------------|-----------------------|\n",
    "|\tP(X)\t\t\t|\tapplication (app)\t|\tapplying P on X.\t|\n",
    "|\t\\x.P\t\t\t|\tabstraction (abs)\t|\tfunction definition.|\n",
    "\n",
    "Compare the composition of non-terminal nodes as implemented in two grammars **[1 mark]**:"
   ]
  },
  {
   "cell_type": "markdown",
   "metadata": {},
   "source": [
    "|\tSyntactic Type\t\t|\tGrammar 1\t\t|\tGrammar 2\t\t| \n",
    "|-----------------------|-------------------|-------------------| \n",
    "|\t`S  -> NP VP`\t\t|\tapp\t\t\t\t|\tapp\t\t\t\t|\n",
    "|\t`VP -> IV`\t\t\t|\tnone\t\t\t|\tnone\t\t\t|\n",
    "|\t`NP -> DET Nom`\t\t|\t`abs`\t\t    |\t`app`\t        |\n",
    "|\t`VP -> TV NP`\t\t|\t`app`\t        |\tabs,app\t\t\t|\n",
    "|\t`VP -> DTV NP PP`\t|\t`app, app`\t\t\t|\t`abs, app, app`\t\t|\n"
   ]
  },
  {
   "cell_type": "markdown",
   "metadata": {},
   "source": [
    "### 2. A new conjunction rule [7 marks in total]\n",
    "\n",
    "The grammar below implements Cooper Storage - in fact this version is included as `storage.fcfg` with NLTK. In the lecture and in the previous part of this assignment we used our modified version. The goal of this question is to examine why we had to modify this version of the grammar. In this grammar the lexical representations of verbs are basic but their compositions with NPs are not complex as in Question 1 of this notebook. Therefore, this grammar also requires a different conjunction rule from the one in `problem-set-2-part1`.\n",
    "\n",
    "Run the code below and answer questions:"
   ]
  },
  {
   "cell_type": "code",
   "execution_count": 4,
   "metadata": {
    "scrolled": true
   },
   "outputs": [],
   "source": [
    "fcfg_storage = r\"\"\"\n",
    "%start S\n",
    "\n",
    "S[SEM=[CORE=<?vp(?subj)>, STORE=(?b1+?b2)]] -> NP[SEM=[CORE=?subj, STORE=?b1]] VP[SEM=[CORE=?vp, STORE=?b2]]\n",
    "\n",
    "VP[SEM=?v] -> IV[SEM=?v]\n",
    "VP[SEM=[CORE=<?v(?obj)>, STORE=(?b1+?b2)]] -> TV[SEM=[CORE=?v, STORE=?b1]] NP[SEM=[CORE=?obj, STORE=?b2]]\n",
    "VP[SEM=[CORE=<?v(?pp)(?obj)>, STORE=(?b1+?b2+?b3)]] -> DTV[SEM=[CORE=?v, STORE=?b1]] NP[SEM=[CORE=?obj, STORE=?b2]] PP[+TO, SEM=[CORE=?pp, STORE=?b3]]  \n",
    "\n",
    "NP[SEM=[CORE=<@x>, STORE=((<bo(?det(?nom),@x)>)+?b1+?b2)]] -> Det[SEM=[CORE=?det, STORE=?b1]] Nom[SEM=[CORE=?nom, STORE=?b2]]\n",
    "Nom[SEM=?n] -> N[SEM=?n]\n",
    "NP[SEM=?np] -> PropN[SEM=?np]\n",
    "\n",
    "PP[+TO, SEM=[CORE=?np, STORE=?b1]] -> P NP[SEM=[CORE=?np, STORE=?b1]]\n",
    "\n",
    "# Lexical items:\n",
    "Det[SEM=[CORE=<\\Q P.exists x.(Q(x) & P(x))>, STORE=(/)]] -> 'a'\n",
    "Det[SEM=[CORE=<\\Q P.all x.(Q(x) implies P(x))>, STORE=(/)]] -> 'every'\n",
    "\n",
    "N[SEM=[CORE=<\\x.library(x)>, STORE=(/)]] -> 'library' \n",
    "N[SEM=[CORE=<\\x.book(x)>, STORE=(/)]] -> 'book' \n",
    "N[SEM=[CORE=<\\x.girl(x)>, STORE=(/)]] -> 'girl'\n",
    "N[SEM=[CORE=<\\x.boy(x)>, STORE=(/)]] -> 'boy'\n",
    "\n",
    "IV[SEM=[CORE=<\\x.smile(x)>, STORE=(/)]] -> 'smiles' \n",
    "IV[SEM=[CORE=<\\x.walk(x)>, STORE=(/)]] -> 'walks'\n",
    "\n",
    "TV[SEM=[CORE=<\\y x.read(x,y)>, STORE=(/)]] -> 'reads' \n",
    "\n",
    "DTV[SEM=[CORE=<\\z y x.give(x,y,z)>, STORE=(/)]] -> 'gives' \n",
    "\n",
    "PropN[SEM=[CORE=<@x>, STORE=(<bo(\\P.P(angus),@x)>)]] -> 'Angus' \n",
    "PropN[SEM=[CORE=<@x>, STORE=(<bo(\\P.P(cyril),@x)>)]] -> 'Cyril'\n",
    "\n",
    "P[+TO] -> 'to'\n",
    "\"\"\""
   ]
  },
  {
   "cell_type": "markdown",
   "metadata": {},
   "source": [
    "Let us compare the construction of representations in `SEM.CORE` with the grammar in Question 1:"
   ]
  },
  {
   "cell_type": "code",
   "execution_count": 5,
   "metadata": {},
   "outputs": [
    {
     "output_type": "display_data",
     "data": {
      "text/plain": "<IPython.core.display.Markdown object>",
      "text/markdown": "\n| Category | Grammar 2 | Grammar 3 - CORE | Grammar 3 - STORE\n|----------|-----------|------------------|-------------------\n| `DTV -> {{STR}}` | `\\x z y.give(x,y,z)` | `-` | `-` \n| `DTV -> {{STR}}` | `\\x z y.give(x,y,z)` | `\\z y x.give(x,y,z)` | `-` \n| `NP -> Det Nom` | `?det(?nom)` | `@x` | `@x --> ?det(?nom)` \n| `NP -> PropN` | `?np` | `?np` | `-` \n| `PP -> P NP` | `?np` | `?np` | `-` \n| `S -> NP VP` | `?subj(?vp)` | `?vp(?subj)` | `-` \n| `TV -> {{STR}}` | `\\x y.bite(x,y)` | `-` | `-` \n| `TV -> {{STR}}` | `\\x y.bite(x,y)` | `\\y x.read(x,y)` | `-` \n| `VP -> DTV NP PP` | `\\x.?pp(\\y.?obj(?v(x,y)))` | `?v(?pp,?obj)` | `-` \n| `VP -> DTV NP PP` | `\\x.?obj(\\z.?pp(\\y.?v(x,y,z)))` | `-` | `-` \n| `VP -> IV` | `?v` | `?v` | `-` \n| `VP -> TV NP` | `\\x.?obj(?v(x))` | `?v(?obj)` | `-` \n"
     },
     "metadata": {}
    }
   ],
   "source": [
    "cs_syntax = FeatureGrammar.fromstring(fcfg_storage)\n",
    "\n",
    "# display the comparison\n",
    "table = \"\"\"\n",
    "| Category | Grammar 2 | Grammar 3 - CORE | Grammar 3 - STORE\n",
    "|----------|-----------|------------------|-------------------\n",
    "\"\"\"\n",
    "for cat, sem1, sem2 in compare_synsem(cs_syntax, new_syntax):\n",
    "    if cat[0] in ['VP', 'DTV', 'TV', 'NP', 'S', 'PP']:\n",
    "        if sem1 is not None and type(sem1)!=nltk.grammar.FeatStructNonterminal:\n",
    "             # then there is a semantic representation, but its not structured:\n",
    "            core = sem1\n",
    "            store = '-'\n",
    "        elif type(sem1)==nltk.grammar.FeatStructNonterminal:\n",
    "            # then the semantic representation is structured:\n",
    "            core = str(sem1['CORE'])\n",
    "            store = \"\"\n",
    "            # find the binding operations introduced here:\n",
    "            for bo in re.findall(r'\\(bo\\((.+)\\)\\)', str(sem1['STORE'])):\n",
    "                rep, ref = tuple(bo.split(','))\n",
    "                store += f\"{ref} --> {rep}\" \n",
    "                \n",
    "            # if there is no new binding then ignore the store:\n",
    "            if store == \"\":\n",
    "                store = '-'\n",
    "        else:\n",
    "            # then there is no semantic representation:\n",
    "            core = '-'\n",
    "            store = '-'\n",
    "            \n",
    "        if sem2 is None:\n",
    "            sem2 = '-'\n",
    "            \n",
    "        table += f\"| `{cat[0]} -> {cat[1]}` \" +\\\n",
    "                 f\"| `{sem2}` \" +\\\n",
    "                 f\"| `{core}` \" +\\\n",
    "                 f\"| `{store}` \" +\\\n",
    "                  \"\\n\"\n",
    "\n",
    "display(Markdown(table))"
   ]
  },
  {
   "cell_type": "markdown",
   "metadata": {},
   "source": [
    "**2a.** What are the types of representations in `SEM.CORE` for each syntactic category? **[2 marks]**"
   ]
  },
  {
   "cell_type": "markdown",
   "metadata": {},
   "source": [
    "|\tSyntactic Type\t|\tGrammar 3 -\tCORE\t\n",
    "|-------------------|-----------------------\n",
    "| S\t\t\t\t\t| `t`\t\t\t\t\t\n",
    "| Det\t\t\t\t| `<<e,t>,e>`\t\t\t\t\t\n",
    "| N\t\t\t\t\t| `<e,t>`\t\t\t\t\t\n",
    "| IV\t\t\t\t| `<e,t>`\t\t\t\t\t\n",
    "| TV\t\t\t\t| `<e,<e,t>>`\t\t\t\t\t\n",
    "| DTV\t\t\t\t| `<e,<e,<e,t>>>`\t\t\t\t\t\n",
    "| NP\t\t\t\t| `<e>`\t\t\t\t\t\n",
    "| PP\t\t\t\t| `<e>`\t\t\t\t\t\n",
    "| VP\t\t\t\t| `<e,t>`\t\t\t\t\t\n"
   ]
  },
  {
   "cell_type": "markdown",
   "metadata": {},
   "source": [
    "**2b.** Compare the composition of non-terminal nodes in Cooper Storage and the grammar from the previous question. Fill in `???`. **[1 mark]**"
   ]
  },
  {
   "cell_type": "markdown",
   "metadata": {},
   "source": [
    "|\tSyntactic Type\t\t|\tGrammar Basic-CS\t|\tGrammar 2\t\t| \n",
    "|-----------------------|-----------------------|-------------------| \n",
    "|\t`S  -> NP VP`\t\t|\t`app`\t\t\t\t|\tapp\t\t\t\t|\n",
    "|\t`VP -> IV`\t\t\t|\tnone\t\t\t\t|\tnone\t\t\t|\n",
    "|\t`NP -> DET Nom`\t\t|\t`store: app`\t\t\t\t|\t`app`\t\t\t|\n",
    "|\t`VP -> TV NP`\t\t|\t`app`\t\t\t\t|\tabs/app\t\t\t|\n",
    "|\t`VP -> DTV NP PP`\t|\t`app`\t\t\t\t|\t`abs/app/app`\t\t\t|\n"
   ]
  },
  {
   "cell_type": "markdown",
   "metadata": {},
   "source": [
    "**2c.** What are other differences between two representations?. **[1 mark]**"
   ]
  },
  {
   "cell_type": "raw",
   "metadata": {},
   "source": [
    "** Write answers here **\n",
    "\n",
    "..."
   ]
  },
  {
   "cell_type": "markdown",
   "metadata": {},
   "source": [
    "**2d.** Finish the rule where the conjunction is handled in the  `STORE` by replacing `xxx` with an appropriate lambda function and then uncomment the rule. **[2 marks]**"
   ]
  },
  {
   "cell_type": "code",
   "execution_count": 29,
   "metadata": {},
   "outputs": [
    {
     "output_type": "display_data",
     "data": {
      "text/plain": "<IPython.core.display.Markdown object>",
      "text/markdown": "\"1\": $\\exists\\ x.(boy(x)\\ \\land\\ \\exists\\ z_{3973}.(girl(z_{3973})\\ \\land\\ \\exists\\ z_{3971}.(book(z_{3971})\\ \\land\\ \\forall\\ z_{3970}.(library(z_{3970})\\ \\to\\ give(z_{3970},z_{3971},z_{3973})))\\ \\land\\ \\exists\\ z_{3972}.(book(z_{3972})\\ \\land\\ \\forall\\ z_{3970}.(library(z_{3970})\\ \\to\\ give(z_{3970},z_{3972},x)))))$"
     },
     "metadata": {}
    },
    {
     "output_type": "display_data",
     "data": {
      "text/plain": "<IPython.core.display.Markdown object>",
      "text/markdown": "\"2\": $\\exists\\ x.(girl(x)\\ \\land\\ \\exists\\ z_{3977}.(boy(z_{3977})\\ \\land\\ \\exists\\ z_{3975}.(book(z_{3975})\\ \\land\\ \\forall\\ z_{3974}.(library(z_{3974})\\ \\to\\ give(z_{3974},z_{3975},x)))\\ \\land\\ \\exists\\ z_{3976}.(book(z_{3976})\\ \\land\\ \\forall\\ z_{3974}.(library(z_{3974})\\ \\to\\ give(z_{3974},z_{3976},z_{3977})))))$"
     },
     "metadata": {}
    },
    {
     "output_type": "display_data",
     "data": {
      "text/plain": "<IPython.core.display.Markdown object>",
      "text/markdown": "\"3\": $\\exists\\ x.(boy(x)\\ \\land\\ \\exists\\ z_{3995}.(girl(z_{3995})\\ \\land\\ \\exists\\ z_{3994}.(book(z_{3994})\\ \\land\\ \\forall\\ z_{3992}.(library(z_{3992})\\ \\to\\ give(z_{3992},z_{3994},z_{3995}))\\ \\land\\ \\forall\\ z_{3993}.(library(z_{3993})\\ \\to\\ give(z_{3993},z_{3994},x)))))$"
     },
     "metadata": {}
    },
    {
     "output_type": "display_data",
     "data": {
      "text/plain": "<IPython.core.display.Markdown object>",
      "text/markdown": "\"4\": $\\exists\\ x.(girl(x)\\ \\land\\ \\exists\\ z_{3999}.(boy(z_{3999})\\ \\land\\ \\exists\\ z_{3998}.(book(z_{3998})\\ \\land\\ \\forall\\ z_{3996}.(library(z_{3996})\\ \\to\\ give(z_{3996},z_{3998},x))\\ \\land\\ \\forall\\ z_{3997}.(library(z_{3997})\\ \\to\\ give(z_{3997},z_{3998},z_{3999})))))$"
     },
     "metadata": {}
    },
    {
     "output_type": "display_data",
     "data": {
      "text/plain": "<IPython.core.display.Markdown object>",
      "text/markdown": "\"5\": $\\exists\\ x.(boy(x)\\ \\land\\ \\exists\\ z_{4003}.(book(z_{4003})\\ \\land\\ \\exists\\ z_{4002}.(girl(z_{4002})\\ \\land\\ \\forall\\ z_{4000}.(library(z_{4000})\\ \\to\\ give(z_{4000},z_{4003},z_{4002}))\\ \\land\\ \\forall\\ z_{4001}.(library(z_{4001})\\ \\to\\ give(z_{4001},z_{4003},x)))))$"
     },
     "metadata": {}
    },
    {
     "output_type": "display_data",
     "data": {
      "text/plain": "<IPython.core.display.Markdown object>",
      "text/markdown": "\"6\": $\\exists\\ x.(book(x)\\ \\land\\ \\exists\\ z_{4007}.(boy(z_{4007})\\ \\land\\ \\exists\\ z_{4006}.(girl(z_{4006})\\ \\land\\ \\forall\\ z_{4004}.(library(z_{4004})\\ \\to\\ give(z_{4004},x,z_{4006}))\\ \\land\\ \\forall\\ z_{4005}.(library(z_{4005})\\ \\to\\ give(z_{4005},x,z_{4007})))))$"
     },
     "metadata": {}
    },
    {
     "output_type": "display_data",
     "data": {
      "text/plain": "<IPython.core.display.Markdown object>",
      "text/markdown": "\"7\": $\\exists\\ x.(girl(x)\\ \\land\\ \\exists\\ z_{4011}.(book(z_{4011})\\ \\land\\ \\exists\\ z_{4010}.(boy(z_{4010})\\ \\land\\ \\forall\\ z_{4008}.(library(z_{4008})\\ \\to\\ give(z_{4008},z_{4011},x))\\ \\land\\ \\forall\\ z_{4009}.(library(z_{4009})\\ \\to\\ give(z_{4009},z_{4011},z_{4010})))))$"
     },
     "metadata": {}
    },
    {
     "output_type": "display_data",
     "data": {
      "text/plain": "<IPython.core.display.Markdown object>",
      "text/markdown": "\"8\": $\\exists\\ x.(book(x)\\ \\land\\ \\exists\\ z_{4015}.(girl(z_{4015})\\ \\land\\ \\exists\\ z_{4014}.(boy(z_{4014})\\ \\land\\ \\forall\\ z_{4012}.(library(z_{4012})\\ \\to\\ give(z_{4012},x,z_{4015}))\\ \\land\\ \\forall\\ z_{4013}.(library(z_{4013})\\ \\to\\ give(z_{4013},x,z_{4014})))))$"
     },
     "metadata": {}
    },
    {
     "output_type": "display_data",
     "data": {
      "text/plain": "<IPython.core.display.Markdown object>",
      "text/markdown": "\"9\": $\\exists\\ x.(boy(x)\\ \\land\\ \\exists\\ z_{4063}.(girl(z_{4063})\\ \\land\\ \\forall\\ z_{4061}.(library(z_{4061})\\ \\to\\ \\exists\\ z_{4060}.(book(z_{4060})\\ \\land\\ give(z_{4061},z_{4060},z_{4063})))\\ \\land\\ \\forall\\ z_{4062}.(library(z_{4062})\\ \\to\\ \\exists\\ z_{4060}.(book(z_{4060})\\ \\land\\ give(z_{4062},z_{4060},x)))))$"
     },
     "metadata": {}
    },
    {
     "output_type": "display_data",
     "data": {
      "text/plain": "<IPython.core.display.Markdown object>",
      "text/markdown": "\"10\": $\\exists\\ x.(girl(x)\\ \\land\\ \\exists\\ z_{4067}.(boy(z_{4067})\\ \\land\\ \\forall\\ z_{4065}.(library(z_{4065})\\ \\to\\ \\exists\\ z_{4064}.(book(z_{4064})\\ \\land\\ give(z_{4065},z_{4064},x)))\\ \\land\\ \\forall\\ z_{4066}.(library(z_{4066})\\ \\to\\ \\exists\\ z_{4064}.(book(z_{4064})\\ \\land\\ give(z_{4066},z_{4064},z_{4067})))))$"
     },
     "metadata": {}
    },
    {
     "output_type": "display_data",
     "data": {
      "text/plain": "<IPython.core.display.Markdown object>",
      "text/markdown": "\"11\": $\\exists\\ x.(boy(x)\\ \\land\\ \\exists\\ z_{4085}.(girl(z_{4085})\\ \\land\\ \\forall\\ z_{4084}.(library(z_{4084})\\ \\to\\ (\\exists\\ z_{4082}.(book(z_{4082})\\ \\land\\ give(z_{4084},z_{4082},z_{4085}))\\ \\land\\ \\exists\\ z_{4083}.(book(z_{4083})\\ \\land\\ give(z_{4084},z_{4083},x))))))$"
     },
     "metadata": {}
    },
    {
     "output_type": "display_data",
     "data": {
      "text/plain": "<IPython.core.display.Markdown object>",
      "text/markdown": "\"12\": $\\exists\\ x.(girl(x)\\ \\land\\ \\exists\\ z_{4089}.(boy(z_{4089})\\ \\land\\ \\forall\\ z_{4088}.(library(z_{4088})\\ \\to\\ (\\exists\\ z_{4086}.(book(z_{4086})\\ \\land\\ give(z_{4088},z_{4086},x))\\ \\land\\ \\exists\\ z_{4087}.(book(z_{4087})\\ \\land\\ give(z_{4088},z_{4087},z_{4089}))))))$"
     },
     "metadata": {}
    },
    {
     "output_type": "display_data",
     "data": {
      "text/plain": "<IPython.core.display.Markdown object>",
      "text/markdown": "\"13\": $\\exists\\ x.(boy(x)\\ \\land\\ \\forall\\ z_{4093}.(library(z_{4093})\\ \\to\\ \\exists\\ z_{4092}.(girl(z_{4092})\\ \\land\\ \\exists\\ z_{4090}.(book(z_{4090})\\ \\land\\ give(z_{4093},z_{4090},z_{4092}))\\ \\land\\ \\exists\\ z_{4091}.(book(z_{4091})\\ \\land\\ give(z_{4093},z_{4091},x)))))$"
     },
     "metadata": {}
    },
    {
     "output_type": "display_data",
     "data": {
      "text/plain": "<IPython.core.display.Markdown object>",
      "text/markdown": "\"14\": $\\forall\\ x.(library(x)\\ \\to\\ \\exists\\ z_{4097}.(boy(z_{4097})\\ \\land\\ \\exists\\ z_{4096}.(girl(z_{4096})\\ \\land\\ \\exists\\ z_{4094}.(book(z_{4094})\\ \\land\\ give(x,z_{4094},z_{4096}))\\ \\land\\ \\exists\\ z_{4095}.(book(z_{4095})\\ \\land\\ give(x,z_{4095},z_{4097})))))$"
     },
     "metadata": {}
    },
    {
     "output_type": "display_data",
     "data": {
      "text/plain": "<IPython.core.display.Markdown object>",
      "text/markdown": "\"15\": $\\exists\\ x.(girl(x)\\ \\land\\ \\forall\\ z_{4101}.(library(z_{4101})\\ \\to\\ \\exists\\ z_{4100}.(boy(z_{4100})\\ \\land\\ \\exists\\ z_{4098}.(book(z_{4098})\\ \\land\\ give(z_{4101},z_{4098},x))\\ \\land\\ \\exists\\ z_{4099}.(book(z_{4099})\\ \\land\\ give(z_{4101},z_{4099},z_{4100})))))$"
     },
     "metadata": {}
    },
    {
     "output_type": "display_data",
     "data": {
      "text/plain": "<IPython.core.display.Markdown object>",
      "text/markdown": "\"16\": $\\forall\\ x.(library(x)\\ \\to\\ \\exists\\ z_{4105}.(girl(z_{4105})\\ \\land\\ \\exists\\ z_{4104}.(boy(z_{4104})\\ \\land\\ \\exists\\ z_{4102}.(book(z_{4102})\\ \\land\\ give(x,z_{4102},z_{4105}))\\ \\land\\ \\exists\\ z_{4103}.(book(z_{4103})\\ \\land\\ give(x,z_{4103},z_{4104})))))$"
     },
     "metadata": {}
    },
    {
     "output_type": "display_data",
     "data": {
      "text/plain": "<IPython.core.display.Markdown object>",
      "text/markdown": "\"17\": $\\exists\\ x.(boy(x)\\ \\land\\ \\exists\\ z_{4152}.(girl(z_{4152})\\ \\land\\ \\exists\\ z_{4151}.(book(z_{4151})\\ \\land\\ \\forall\\ z_{4150}.(library(z_{4150})\\ \\to\\ (give(z_{4150},z_{4151},z_{4152})\\ \\land\\ give(z_{4150},z_{4151},x))))))$"
     },
     "metadata": {}
    },
    {
     "output_type": "display_data",
     "data": {
      "text/plain": "<IPython.core.display.Markdown object>",
      "text/markdown": "\"18\": $\\exists\\ x.(girl(x)\\ \\land\\ \\exists\\ z_{4155}.(boy(z_{4155})\\ \\land\\ \\exists\\ z_{4154}.(book(z_{4154})\\ \\land\\ \\forall\\ z_{4153}.(library(z_{4153})\\ \\to\\ (give(z_{4153},z_{4154},x)\\ \\land\\ give(z_{4153},z_{4154},z_{4155}))))))$"
     },
     "metadata": {}
    },
    {
     "output_type": "display_data",
     "data": {
      "text/plain": "<IPython.core.display.Markdown object>",
      "text/markdown": "\"19\": $\\exists\\ x.(boy(x)\\ \\land\\ \\exists\\ z_{4158}.(book(z_{4158})\\ \\land\\ \\exists\\ z_{4157}.(girl(z_{4157})\\ \\land\\ \\forall\\ z_{4156}.(library(z_{4156})\\ \\to\\ (give(z_{4156},z_{4158},z_{4157})\\ \\land\\ give(z_{4156},z_{4158},x))))))$"
     },
     "metadata": {}
    },
    {
     "output_type": "display_data",
     "data": {
      "text/plain": "<IPython.core.display.Markdown object>",
      "text/markdown": "\"20\": $\\exists\\ x.(book(x)\\ \\land\\ \\exists\\ z_{4161}.(boy(z_{4161})\\ \\land\\ \\exists\\ z_{4160}.(girl(z_{4160})\\ \\land\\ \\forall\\ z_{4159}.(library(z_{4159})\\ \\to\\ (give(z_{4159},x,z_{4160})\\ \\land\\ give(z_{4159},x,z_{4161}))))))$"
     },
     "metadata": {}
    },
    {
     "output_type": "display_data",
     "data": {
      "text/plain": "<IPython.core.display.Markdown object>",
      "text/markdown": "\"21\": $\\exists\\ x.(girl(x)\\ \\land\\ \\exists\\ z_{4164}.(book(z_{4164})\\ \\land\\ \\exists\\ z_{4163}.(boy(z_{4163})\\ \\land\\ \\forall\\ z_{4162}.(library(z_{4162})\\ \\to\\ (give(z_{4162},z_{4164},x)\\ \\land\\ give(z_{4162},z_{4164},z_{4163}))))))$"
     },
     "metadata": {}
    },
    {
     "output_type": "display_data",
     "data": {
      "text/plain": "<IPython.core.display.Markdown object>",
      "text/markdown": "\"22\": $\\exists\\ x.(book(x)\\ \\land\\ \\exists\\ z_{4167}.(girl(z_{4167})\\ \\land\\ \\exists\\ z_{4166}.(boy(z_{4166})\\ \\land\\ \\forall\\ z_{4165}.(library(z_{4165})\\ \\to\\ (give(z_{4165},x,z_{4167})\\ \\land\\ give(z_{4165},x,z_{4166}))))))$"
     },
     "metadata": {}
    },
    {
     "output_type": "display_data",
     "data": {
      "text/plain": "<IPython.core.display.Markdown object>",
      "text/markdown": "\"23\": $\\exists\\ x.(boy(x)\\ \\land\\ \\exists\\ z_{4170}.(girl(z_{4170})\\ \\land\\ \\forall\\ z_{4169}.(library(z_{4169})\\ \\to\\ \\exists\\ z_{4168}.(book(z_{4168})\\ \\land\\ give(z_{4169},z_{4168},z_{4170})\\ \\land\\ give(z_{4169},z_{4168},x)))))$"
     },
     "metadata": {}
    },
    {
     "output_type": "display_data",
     "data": {
      "text/plain": "<IPython.core.display.Markdown object>",
      "text/markdown": "\"24\": $\\exists\\ x.(girl(x)\\ \\land\\ \\exists\\ z_{4173}.(boy(z_{4173})\\ \\land\\ \\forall\\ z_{4172}.(library(z_{4172})\\ \\to\\ \\exists\\ z_{4171}.(book(z_{4171})\\ \\land\\ give(z_{4172},z_{4171},x)\\ \\land\\ give(z_{4172},z_{4171},z_{4173})))))$"
     },
     "metadata": {}
    },
    {
     "output_type": "display_data",
     "data": {
      "text/plain": "<IPython.core.display.Markdown object>",
      "text/markdown": "\"25\": $\\exists\\ x.(boy(x)\\ \\land\\ \\forall\\ z_{4176}.(library(z_{4176})\\ \\to\\ \\exists\\ z_{4175}.(girl(z_{4175})\\ \\land\\ \\exists\\ z_{4174}.(book(z_{4174})\\ \\land\\ give(z_{4176},z_{4174},z_{4175})\\ \\land\\ give(z_{4176},z_{4174},x)))))$"
     },
     "metadata": {}
    },
    {
     "output_type": "display_data",
     "data": {
      "text/plain": "<IPython.core.display.Markdown object>",
      "text/markdown": "\"26\": $\\forall\\ x.(library(x)\\ \\to\\ \\exists\\ z_{4179}.(boy(z_{4179})\\ \\land\\ \\exists\\ z_{4178}.(girl(z_{4178})\\ \\land\\ \\exists\\ z_{4177}.(book(z_{4177})\\ \\land\\ give(x,z_{4177},z_{4178})\\ \\land\\ give(x,z_{4177},z_{4179})))))$"
     },
     "metadata": {}
    },
    {
     "output_type": "display_data",
     "data": {
      "text/plain": "<IPython.core.display.Markdown object>",
      "text/markdown": "\"27\": $\\exists\\ x.(girl(x)\\ \\land\\ \\forall\\ z_{4182}.(library(z_{4182})\\ \\to\\ \\exists\\ z_{4181}.(boy(z_{4181})\\ \\land\\ \\exists\\ z_{4180}.(book(z_{4180})\\ \\land\\ give(z_{4182},z_{4180},x)\\ \\land\\ give(z_{4182},z_{4180},z_{4181})))))$"
     },
     "metadata": {}
    },
    {
     "output_type": "display_data",
     "data": {
      "text/plain": "<IPython.core.display.Markdown object>",
      "text/markdown": "\"28\": $\\forall\\ x.(library(x)\\ \\to\\ \\exists\\ z_{4185}.(girl(z_{4185})\\ \\land\\ \\exists\\ z_{4184}.(boy(z_{4184})\\ \\land\\ \\exists\\ z_{4183}.(book(z_{4183})\\ \\land\\ give(x,z_{4183},z_{4185})\\ \\land\\ give(x,z_{4183},z_{4184})))))$"
     },
     "metadata": {}
    },
    {
     "output_type": "display_data",
     "data": {
      "text/plain": "<IPython.core.display.Markdown object>",
      "text/markdown": "\"29\": $\\exists\\ x.(boy(x)\\ \\land\\ \\exists\\ z_{4188}.(book(z_{4188})\\ \\land\\ \\forall\\ z_{4187}.(library(z_{4187})\\ \\to\\ \\exists\\ z_{4186}.(girl(z_{4186})\\ \\land\\ give(z_{4187},z_{4188},z_{4186})\\ \\land\\ give(z_{4187},z_{4188},x)))))$"
     },
     "metadata": {}
    },
    {
     "output_type": "display_data",
     "data": {
      "text/plain": "<IPython.core.display.Markdown object>",
      "text/markdown": "\"30\": $\\exists\\ x.(book(x)\\ \\land\\ \\exists\\ z_{4191}.(boy(z_{4191})\\ \\land\\ \\forall\\ z_{4190}.(library(z_{4190})\\ \\to\\ \\exists\\ z_{4189}.(girl(z_{4189})\\ \\land\\ give(z_{4190},x,z_{4189})\\ \\land\\ give(z_{4190},x,z_{4191})))))$"
     },
     "metadata": {}
    },
    {
     "output_type": "display_data",
     "data": {
      "text/plain": "<IPython.core.display.Markdown object>",
      "text/markdown": "\"31\": $\\exists\\ x.(boy(x)\\ \\land\\ \\forall\\ z_{4194}.(library(z_{4194})\\ \\to\\ \\exists\\ z_{4193}.(book(z_{4193})\\ \\land\\ \\exists\\ z_{4192}.(girl(z_{4192})\\ \\land\\ give(z_{4194},z_{4193},z_{4192})\\ \\land\\ give(z_{4194},z_{4193},x)))))$"
     },
     "metadata": {}
    },
    {
     "output_type": "display_data",
     "data": {
      "text/plain": "<IPython.core.display.Markdown object>",
      "text/markdown": "\"32\": $\\forall\\ x.(library(x)\\ \\to\\ \\exists\\ z_{4197}.(boy(z_{4197})\\ \\land\\ \\exists\\ z_{4196}.(book(z_{4196})\\ \\land\\ \\exists\\ z_{4195}.(girl(z_{4195})\\ \\land\\ give(x,z_{4196},z_{4195})\\ \\land\\ give(x,z_{4196},z_{4197})))))$"
     },
     "metadata": {}
    },
    {
     "output_type": "display_data",
     "data": {
      "text/plain": "<IPython.core.display.Markdown object>",
      "text/markdown": "\"33\": $\\exists\\ x.(book(x)\\ \\land\\ \\forall\\ z_{4200}.(library(z_{4200})\\ \\to\\ \\exists\\ z_{4199}.(boy(z_{4199})\\ \\land\\ \\exists\\ z_{4198}.(girl(z_{4198})\\ \\land\\ give(z_{4200},x,z_{4198})\\ \\land\\ give(z_{4200},x,z_{4199})))))$"
     },
     "metadata": {}
    },
    {
     "output_type": "display_data",
     "data": {
      "text/plain": "<IPython.core.display.Markdown object>",
      "text/markdown": "\"34\": $\\forall\\ x.(library(x)\\ \\to\\ \\exists\\ z_{4203}.(book(z_{4203})\\ \\land\\ \\exists\\ z_{4202}.(boy(z_{4202})\\ \\land\\ \\exists\\ z_{4201}.(girl(z_{4201})\\ \\land\\ give(x,z_{4203},z_{4201})\\ \\land\\ give(x,z_{4203},z_{4202})))))$"
     },
     "metadata": {}
    },
    {
     "output_type": "display_data",
     "data": {
      "text/plain": "<IPython.core.display.Markdown object>",
      "text/markdown": "\"35\": $\\exists\\ x.(girl(x)\\ \\land\\ \\exists\\ z_{4206}.(book(z_{4206})\\ \\land\\ \\forall\\ z_{4205}.(library(z_{4205})\\ \\to\\ \\exists\\ z_{4204}.(boy(z_{4204})\\ \\land\\ give(z_{4205},z_{4206},x)\\ \\land\\ give(z_{4205},z_{4206},z_{4204})))))$"
     },
     "metadata": {}
    },
    {
     "output_type": "display_data",
     "data": {
      "text/plain": "<IPython.core.display.Markdown object>",
      "text/markdown": "\"36\": $\\exists\\ x.(book(x)\\ \\land\\ \\exists\\ z_{4209}.(girl(z_{4209})\\ \\land\\ \\forall\\ z_{4208}.(library(z_{4208})\\ \\to\\ \\exists\\ z_{4207}.(boy(z_{4207})\\ \\land\\ give(z_{4208},x,z_{4209})\\ \\land\\ give(z_{4208},x,z_{4207})))))$"
     },
     "metadata": {}
    },
    {
     "output_type": "display_data",
     "data": {
      "text/plain": "<IPython.core.display.Markdown object>",
      "text/markdown": "\"37\": $\\exists\\ x.(girl(x)\\ \\land\\ \\forall\\ z_{4212}.(library(z_{4212})\\ \\to\\ \\exists\\ z_{4211}.(book(z_{4211})\\ \\land\\ \\exists\\ z_{4210}.(boy(z_{4210})\\ \\land\\ give(z_{4212},z_{4211},x)\\ \\land\\ give(z_{4212},z_{4211},z_{4210})))))$"
     },
     "metadata": {}
    },
    {
     "output_type": "display_data",
     "data": {
      "text/plain": "<IPython.core.display.Markdown object>",
      "text/markdown": "\"38\": $\\forall\\ x.(library(x)\\ \\to\\ \\exists\\ z_{4215}.(girl(z_{4215})\\ \\land\\ \\exists\\ z_{4214}.(book(z_{4214})\\ \\land\\ \\exists\\ z_{4213}.(boy(z_{4213})\\ \\land\\ give(x,z_{4214},z_{4215})\\ \\land\\ give(x,z_{4214},z_{4213})))))$"
     },
     "metadata": {}
    },
    {
     "output_type": "display_data",
     "data": {
      "text/plain": "<IPython.core.display.Markdown object>",
      "text/markdown": "\"39\": $\\exists\\ x.(book(x)\\ \\land\\ \\forall\\ z_{4218}.(library(z_{4218})\\ \\to\\ \\exists\\ z_{4217}.(girl(z_{4217})\\ \\land\\ \\exists\\ z_{4216}.(boy(z_{4216})\\ \\land\\ give(z_{4218},x,z_{4217})\\ \\land\\ give(z_{4218},x,z_{4216})))))$"
     },
     "metadata": {}
    },
    {
     "output_type": "display_data",
     "data": {
      "text/plain": "<IPython.core.display.Markdown object>",
      "text/markdown": "\"40\": $\\forall\\ x.(library(x)\\ \\to\\ \\exists\\ z_{4221}.(book(z_{4221})\\ \\land\\ \\exists\\ z_{4220}.(girl(z_{4220})\\ \\land\\ \\exists\\ z_{4219}.(boy(z_{4219})\\ \\land\\ give(x,z_{4221},z_{4220})\\ \\land\\ give(x,z_{4221},z_{4219})))))$"
     },
     "metadata": {}
    }
   ],
   "source": [
    "fcfg_conj = r\"\"\"\n",
    "# Conjunction rule:\n",
    "CONJ -> 'and'\n",
    "NP[SEM=[CORE=<@x>, STORE=((<bo(\\Q.(Q(?n1) & Q(?n2)), @x)>)+?b1+?b2)]] -> NP[SEM=[CORE=?n1, STORE=?b1]] CONJ NP[SEM=[CORE=?n2, STORE=?b2]]\n",
    "#NP[SEM=[CORE=<yyy>, STORE=(?b1+?b2)]] -> NP[SEM=[CORE=?n1, STORE=?b1]] CONJ NP[SEM=[CORE=?n2, STORE=?b2]]\n",
    "\"\"\"\n",
    "\n",
    "cs_syntax = FeatureGrammar.fromstring(fcfg_storage+fcfg_conj)\n",
    "\n",
    "sentences = [\n",
    "    'every library gives a book to a girl and a boy',\n",
    "]\n",
    "\n",
    "sents_reps = sem_parser(sentences, cs_syntax, verbose=False, is_cs=True)\n",
    "\n",
    "counter = 0\n",
    "for i, (sent, semreps) in enumerate(sents_reps.items()):\n",
    "    for semrep in semreps:\n",
    "        # check if it is valid\n",
    "        if str(semrep).find(\"@\") == -1:\n",
    "            counter+=1\n",
    "            display_translation(f\"{counter}\", semrep)"
   ]
  },
  {
   "cell_type": "markdown",
   "metadata": {},
   "source": [
    "**2b.** Is it possible to write a conjunction rule in `yyy` in the `CORE`? Why? **[1 marks]**"
   ]
  },
  {
   "cell_type": "raw",
   "metadata": {},
   "source": [
    "** Write your explanation here **\n",
    "\n",
    "..."
   ]
  },
  {
   "cell_type": "markdown",
   "metadata": {},
   "source": [
    "## Inference [15 marks in total]\n",
    "\n",
    "### 3. Ambiguous syntax and semantics and inference [15 marks in total]\n",
    "\n",
    "Extend the grammar in `problem-set-2-part2` to cover two sentences below that are similar to FraCaS problem 024. \n",
    "\n",
    "- no delegate obtained interesting results from the survey\n",
    "- no delegate obtained results from the survey"
   ]
  },
  {
   "cell_type": "markdown",
   "metadata": {},
   "source": [
    "**3a.** Extend the grammar with a lexical entry for `obtained` as a `TV` category where it is combined with only one object. **[6 marks]**  \n",
    "Hint: Add a rule that attaches the `PP` to a bare plural `NP` without a `DET`."
   ]
  },
  {
   "cell_type": "markdown",
   "metadata": {},
   "source": [
    "**3b.** Also add another rule for `obtained` where this is a `DTV` category. **[3 marks]**"
   ]
  },
  {
   "cell_type": "code",
   "execution_count": 67,
   "metadata": {
    "tags": []
   },
   "outputs": [
    {
     "output_type": "stream",
     "name": "stdout",
     "text": [
      "1. no delegate obtained interesting results from the survey\n"
     ]
    },
    {
     "output_type": "display_data",
     "data": {
      "text/plain": "<IPython.core.display.Markdown object>",
      "text/markdown": "\"1\": $\\exists\\ x.(survey(x)\\ \\land\\ -\\exists\\ z_{4472}.(delegate(z_{4472})\\ \\land\\ \\exists\\ z_{4470}.(result(z_{4470})\\ \\land\\ interesting(z_{4470})\\ \\land\\ obtaine(z_{4472},z_{4470})\\ \\land\\ from(z_{4470},x)))\\ \\land\\ \\forall\\ y.(survey(y)\\ \\to\\ (x\\ =\\ y)))$"
     },
     "metadata": {}
    },
    {
     "output_type": "display_data",
     "data": {
      "text/plain": "<IPython.core.display.Markdown object>",
      "text/markdown": "\"2\": $-\\exists\\ x.(delegate(x)\\ \\land\\ \\exists\\ z_{4473}.(survey(z_{4473})\\ \\land\\ \\exists\\ z_{4470}.(result(z_{4470})\\ \\land\\ interesting(z_{4470})\\ \\land\\ obtaine(x,z_{4470})\\ \\land\\ from(z_{4470},z_{4473}))\\ \\land\\ \\forall\\ y.(survey(y)\\ \\to\\ (z_{4473}\\ =\\ y))))$"
     },
     "metadata": {}
    },
    {
     "output_type": "stream",
     "name": "stdout",
     "text": [
      "2. no delegate obtained results from the survey\n"
     ]
    },
    {
     "output_type": "display_data",
     "data": {
      "text/plain": "<IPython.core.display.Markdown object>",
      "text/markdown": "\"1\": $\\exists\\ x.(survey(x)\\ \\land\\ -\\exists\\ z_{4474}.(delegate(z_{4474})\\ \\land\\ \\exists\\ z_{4471}.(result(z_{4471})\\ \\land\\ obtaine(z_{4474},z_{4471})\\ \\land\\ from(z_{4471},x)))\\ \\land\\ \\forall\\ y.(survey(y)\\ \\to\\ (x\\ =\\ y)))$"
     },
     "metadata": {}
    },
    {
     "output_type": "display_data",
     "data": {
      "text/plain": "<IPython.core.display.Markdown object>",
      "text/markdown": "\"2\": $-\\exists\\ x.(delegate(x)\\ \\land\\ \\exists\\ z_{4475}.(survey(z_{4475})\\ \\land\\ \\exists\\ z_{4471}.(result(z_{4471})\\ \\land\\ obtaine(x,z_{4471})\\ \\land\\ from(z_{4471},z_{4475}))\\ \\land\\ \\forall\\ y.(survey(y)\\ \\to\\ (z_{4475}\\ =\\ y))))$"
     },
     "metadata": {}
    }
   ],
   "source": [
    "# your answers\n",
    "fcfg_storage_answers_a = r\"\"\"\n",
    "## Cover lexicon:\n",
    "Det[NUM=?n, SEM=[CORE=<\\P.\\Q. (- exists x.(P(x) & Q(x)))>, STORE=(/)]] -> 'no'\n",
    "Det[NUM=?n, SEM=[CORE=<\\P.\\Q. exists x.((P(x) & Q(x)) & all y.(P(y) -> (x = y)))>, STORE=(/)]] -> 'the'\n",
    "\n",
    "N[NUM=sg, SEM=[CORE=<\\x.delegate(x)>, STORE=(/)]] -> 'delegate'\n",
    "N[NUM=pl, SEM=[CORE=<\\x.result(x)>, STORE=(/)]] -> 'results'\n",
    "N[NUM=sg, SEM=[CORE=<\\x.survey(x)>, STORE=(/)]] -> 'survey'\n",
    "              \n",
    "P1[SEM=[CORE=<\\X.\\P.\\Q. exists x.(X(\\y.(P(x) & Q(x) & from(x,y))))>, STORE=(/)]] -> 'from'\n",
    "P2[SEM=[CORE=<\\X.\\Y.\\Q. (Y(\\x.(X(\\y.(Q(x) & from(x,y))))))>, STORE=(/)]] -> 'from'\n",
    "\n",
    "# Adj[SEM=[CORE=<\\x.interesting(x)>, STORE=(/)]] -> 'interesting'\n",
    "Adj[SEM=[CORE=<\\P.\\Q. exists x.(P(x) & interesting(x) & Q(x))>, STORE=(/)]] -> 'interesting'\n",
    "\n",
    "PP1[SEM=[CORE=<?p(?np)>, STORE=(?b1+?b2)]] -> P1[SEM=[CORE=?p, STORE=?b1]] NP[Num=?n, SEM=[CORE=?np, STORE=?b2]]\n",
    "PP2[SEM=[CORE=<?p(?np)>, STORE=(?b1+?b2)]] -> P2[SEM=[CORE=?p, STORE=?b1]] NP[Num=?n, SEM=[CORE=?np, STORE=?b2]]\n",
    "# PP2[SEM=<?p(?det(?nom))>] -> P2[SEM=?p] Det[SEM=?det] Nom[SEM=?nom]\n",
    "\n",
    "# add any missing rules\n",
    "AP[SEM=[CORE=<?adj(?nom)>, STORE=(?b1+?b2)]] -> Adj[SEM=[CORE=?adj, STORE=?b1]] Nom[NUM=?n,SEM=[CORE=?nom, STORE=?b2]]\n",
    "# AP[SEM=<\\Q.Q(x)(\\P.(?adj(P) & ?nom(P)))>] -> Adj[SEM=?adj] Nom[SEM=?nom]\n",
    "# NP[SEM=?n] -> AP[SEM=?n]\n",
    "\n",
    "NP[NUM=?n, SEM=[CORE=<?pp(?nom)>, STORE=(?b1+?b2)]] -> Nom[NUM=?n, SEM=[CORE=?nom, STORE=?b1]] PP1[SEM=[CORE=?pp, STORE=?b2]]\n",
    "NP[NUM=?n,SEM=[CORE=<?pp(?ap)>, STORE=(?b1+?b2)]] -> AP[NUM=?n,SEM=[CORE=?ap, STORE=?b1]] PP2[NUM=?n,SEM=[CORE=?pp, STORE=?b2]]\n",
    "\n",
    "TV[SEM=[CORE=<\\X.\\x. X(\\y.obtaine(x,y))>, STORE=(/)], TNS=past] -> 'obtained'\n",
    "# VP[SEM=[CORE=<?v(?np,?pp)>, STORE=(?b1+?b2+?b3)]] -> DTV[NUM=?n, SEM=[CORE=?v, STORE=?b1]] PP3[NUM=?n, SEM=[CORE=?pp, STORE=?b2]] NP[SEM=[CORE=?np, STORE=?b3]] \n",
    "# VP[SEM=<?v(?obj,?pp)>] -> DTV[SEM=?v] NP2[SEM=?obj] PP2[SEM=?pp]\n",
    "\n",
    "\"\"\"\n",
    "\n",
    "fcfg_storage_answers_b = r\"\"\"\n",
    "## Cover lexicon:\n",
    "DTV[SEM=[CORE=<\\Y.\\X.\\x. X(\\z.Y(\\y.obtaine(x,y,z)))>, STORE=(/)],TNS=past] -> 'obtained'\n",
    "# add any missing rules\n",
    "\"\"\"\n",
    "\n",
    "sentences = [\n",
    "    \"no delegate obtained interesting results from the survey\",\n",
    "    \"no delegate obtained results from the survey\",\n",
    "]\n",
    "\n",
    "# this is going to add new rules to the syntax:\n",
    "grammar = FeatureGrammar(\n",
    "    syntax_storage.start(),\n",
    "    syntax_storage.productions() + \\\n",
    "    FeatureGrammar.fromstring(fcfg_storage_answers_a).productions() + \\\n",
    "    FeatureGrammar.fromstring(fcfg_storage_answers_b).productions()\n",
    ")\n",
    "\n",
    "# change `verbose` to see the trees\n",
    "sentence_readings = sem_parser(sentences, grammar, is_cs=True, verbose=False)\n",
    "\n",
    "for i, (sent, semreps) in enumerate(sentence_readings.items()):\n",
    "    counter = 0\n",
    "    print(f\"{i+1}. {sent}\")\n",
    "    for semrep in semreps:\n",
    "        counter += 1\n",
    "        display_translation(counter, semrep)\n"
   ]
  },
  {
   "cell_type": "code",
   "execution_count": null,
   "metadata": {},
   "outputs": [],
   "source": [
    "**3c.** Use Mace to show whether any of the readings of the first sentence entail any of the readings of the second sentence. **[1 mark]**"
   ]
  },
  {
   "cell_type": "code",
   "execution_count": null,
   "metadata": {},
   "outputs": [],
   "source": [
    "# Use apply_model_builder from problem-set-2-part2\n",
    "\n",
    "# There is something missing in this code.\n",
    "#apply_model_builder(...,...)"
   ]
  },
  {
   "cell_type": "markdown",
   "metadata": {},
   "source": [
    "**3d.** Use Prover9 to show which readings of the second sentence entail a reading of the first sentence. **[1 mark]**"
   ]
  },
  {
   "cell_type": "code",
   "execution_count": null,
   "metadata": {},
   "outputs": [],
   "source": [
    "# Use apply_theorem_prover from problem-set-2-part2\n",
    "\n",
    "# There is something missing in this code.\n",
    "#apply_theorem_prover(...,...)"
   ]
  },
  {
   "cell_type": "markdown",
   "metadata": {},
   "source": [
    "**3e.** Possibly there is a reading of the second sentence that does not entail the first sentence.\n",
    "Which is it? \n",
    "Explain why the entailment does not hold? Does this reading agree with our intuitions about the meaning of the sentence? **[1 + 2 + 1 = 4 marks]**"
   ]
  },
  {
   "cell_type": "raw",
   "metadata": {},
   "source": [
    "** Your answer **"
   ]
  }
 ],
 "metadata": {
  "kernelspec": {
   "display_name": "Python 3.7.4 64-bit",
   "language": "python",
   "name": "python37464bitce0f77e3bbe84990b2c44b198a8c7020"
  },
  "language_info": {
   "codemirror_mode": {
    "name": "ipython",
    "version": 3
   },
   "file_extension": ".py",
   "mimetype": "text/x-python",
   "name": "python",
   "nbconvert_exporter": "python",
   "pygments_lexer": "ipython3",
   "version": "3.7.4-final"
  }
 },
 "nbformat": 4,
 "nbformat_minor": 4
}