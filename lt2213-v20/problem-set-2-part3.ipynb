{
 "cells": [
  {
   "cell_type": "markdown",
   "metadata": {},
   "source": [
    "# Problem Set 2 - Part 3 (VG): Ambiguity and Inference\n",
    "\n",
    "This lab should be completed individually.\n",
    "\n",
    "It extend the topics in the previous two parts with additional questions.\n",
    "\n",
    "This assignment has 27 marks in total.\n",
    "\n",
    "### Pre-requisite knowledge\n",
    "\n",
    "From `problem-set-1`:\n",
    "- First order logic\n",
    "- Lambda calculus\n",
    "- Feature unification context free grammar\n",
    "\n",
    "From `problem-set-2-part1.ipynb`:\n",
    "- Cooper storage\n",
    "\n",
    "From `problem-set-2-part2.ipynb`:\n",
    "- Using Prover9\n",
    "- Model building with `mace4`\n"
   ]
  },
  {
   "cell_type": "code",
   "execution_count": 16,
   "metadata": {},
   "outputs": [],
   "source": [
    "# This task needs NLTK and Jupyter Notebook (IPython package).\n",
    "\n",
    "import nltk\n",
    "from nltk.grammar import FeatureGrammar\n",
    "from nltk.sem import cooper_storage as cs\n",
    "\n",
    "from utils import display_latex, display_translation, display_tree, display, Markdown\n",
    "from itertools import zip_longest\n",
    "\n",
    "read_expr = nltk.sem.Expression.fromstring\n",
    "\n",
    "from utils2 import sem_parser, evaluate_sentences, syntax, syntax_notv, compare_synsem\n",
    "\n",
    "import re"
   ]
  },
  {
   "cell_type": "markdown",
   "metadata": {},
   "source": [
    "## Types in Cooper Storage [12 marks in total]"
   ]
  },
  {
   "cell_type": "markdown",
   "metadata": {},
   "source": [
    "### 1. Types of syntactic categories [5 marks in total]\n",
    "\n",
    "In this question we are going to look at alternative representations for transitive verbs and verb phrases from what you saw in `problem-set-2-part1`. \n",
    "If you look carefully you see that the `TV`, `DTV` categories have simpler representations.\n",
    "That means that `VP`s have to have more complex representations as shown below.\n",
    "If you run the code below you will see that it produces the same readings that you saw earlier with a different grammar."
   ]
  },
  {
   "cell_type": "code",
   "execution_count": 2,
   "metadata": {},
   "outputs": [
    {
     "output_type": "display_data",
     "data": {
      "text/plain": "<IPython.core.display.Markdown object>",
      "text/markdown": "\"0. all dogs bite a bone\": $\\forall\\ x.(dog(x)\\ \\to\\ \\exists\\ z_{1}.(bone(z_{1})\\ \\land\\ bite(x,z_{1})))$"
     },
     "metadata": {}
    },
    {
     "output_type": "display_data",
     "data": {
      "text/plain": "<IPython.core.display.Markdown object>",
      "text/markdown": "\"1. a man gives a bone to every dog\": $\\exists\\ x.(man(x)\\ \\land\\ \\exists\\ z_{7}.(bone(z_{7})\\ \\land\\ \\forall\\ z_{6}.(dog(z_{6})\\ \\to\\ give(x,z_{7},z_{6}))))$"
     },
     "metadata": {}
    },
    {
     "output_type": "display_data",
     "data": {
      "text/plain": "<IPython.core.display.Markdown object>",
      "text/markdown": "\"1. a man gives a bone to every dog\": $\\exists\\ x.(man(x)\\ \\land\\ \\forall\\ z_{4}.(dog(z_{4})\\ \\to\\ \\exists\\ z_{3}.(bone(z_{3})\\ \\land\\ give(x,z_{3},z_{4}))))$"
     },
     "metadata": {}
    },
    {
     "output_type": "display_data",
     "data": {
      "text/plain": "<IPython.core.display.Markdown object>",
      "text/markdown": "\"2. Russia gives Moscow to Napoleon\": $give(russia,moscow,napoleon)$"
     },
     "metadata": {}
    }
   ],
   "source": [
    "fcfg_string = r\"\"\"\n",
    "VP[NUM=?n,SEM=<\\x.(?obj(?v(x)))>] -> TV[NUM=?n,SEM=?v] NP[SEM=?obj]\n",
    "VP[NUM=?n,SEM=<\\x.(?pp(\\y.?obj(?v(x, y))))>] -> DTV[NUM=?n,SEM=?v] NP[SEM=?obj] PP[+TO,SEM=?pp]\n",
    "VP[NUM=?n,SEM=<\\x.(?obj(\\z.?pp(\\y.?v(x, y, z))))>] -> DTV[NUM=?n,SEM=?v] NP[SEM=?obj] PP[+TO,SEM=?pp]\n",
    "\n",
    "TV[NUM=sg,SEM=<\\x y.bite(x,y)>,TNS=pres] -> 'bites'\n",
    "TV[NUM=pl,SEM=<\\x y.bite(x,y)>,TNS=pres] -> 'bite'\n",
    "DTV[NUM=sg,SEM=<\\x z y.give(x,y,z)>,TNS=pres] -> 'gives'\n",
    "DTV[NUM=pl,SEM=<\\x z y.give(x,y,z)>,TNS=pres] -> 'give'\n",
    "\"\"\"\n",
    "\n",
    "# this is going to add new rules to the syntax:\n",
    "new_syntax = FeatureGrammar(\n",
    "    syntax_notv.start(),\n",
    "    syntax_notv.productions() + FeatureGrammar.fromstring(fcfg_string).productions()\n",
    ")\n",
    "\n",
    "sentences = [\n",
    "    'all dogs bite a bone',\n",
    "    'a man gives a bone to every dog',\n",
    "    'Russia gives Moscow to Napoleon',\n",
    "]\n",
    "\n",
    "# change `verbose` to see the trees\n",
    "sents_reps = sem_parser(sentences, new_syntax, verbose=False)\n",
    "\n",
    "for i, (sent, semreps) in enumerate(sents_reps.items()):\n",
    "    for semrep in semreps:\n",
    "        display_translation(f\"{i}. {sent}\", semrep)"
   ]
  },
  {
   "cell_type": "markdown",
   "metadata": {},
   "source": [
    "The aim of this question is to inspect and compare two sets of grammar rules from `syntax`, `new_syntax`:"
   ]
  },
  {
   "cell_type": "code",
   "execution_count": 3,
   "metadata": {
    "tags": []
   },
   "outputs": [
    {
     "output_type": "display_data",
     "data": {
      "text/plain": "<IPython.core.display.Markdown object>",
      "text/markdown": "\n| Category | Grammar 1 | Grammar 2 \n|----------|-----------|----------\n| DTV -> {{STR}} | \\Y X x.X(\\z.Y(\\y.give(x,y,z))) | \\x z y.give(x,y,z)\n| N -> {{STR}} | \\x.dog(x) | \\x.dog(x)\n| N -> {{STR}} | \\x.bone(x) | \\x.bone(x)\n| N -> {{STR}} | \\x.man(x) | \\x.man(x)\n| NP -> Det Nom | ?det(?nom) | ?det(?nom)\n| NP -> PropN | ?np | ?np\n| S -> NP VP | ?subj(?vp) | ?subj(?vp)\n| TV -> {{STR}} | \\X x.X(\\y.bite(x,y)) | \\x y.bite(x,y)\n| VP -> DTV NP PP | - | \\x.?obj(\\z.?pp(\\y.?v(x,y,z)))\n| VP -> DTV NP PP | ?v(?obj,?pp) | \\x.?pp(\\y.?obj(?v(x,y)))\n| VP -> IV | ?v | ?v\n| VP -> TV NP | ?v(?obj) | \\x.?obj(?v(x))\n"
     },
     "metadata": {}
    }
   ],
   "source": [
    "# display the comparison\n",
    "table = \"\"\"\n",
    "| Category | Grammar 1 | Grammar 2 \n",
    "|----------|-----------|----------\n",
    "\"\"\"\n",
    "for cat, sem1, sem2 in compare_synsem(syntax, new_syntax):\n",
    "    if cat[0] in ['VP', 'DTV', 'TV', 'IV','NP', 'S', 'N']:\n",
    "        table += f\"| {cat[0]} -> {cat[1]} | {'-' if sem1 is None else sem1} | {'-' if sem2 is None else sem2}\\n\"\n",
    "\n",
    "display(Markdown(table))"
   ]
  },
  {
   "cell_type": "code",
   "execution_count": 4,
   "metadata": {},
   "outputs": [
    {
     "output_type": "display_data",
     "data": {
      "text/plain": "<IPython.core.display.Markdown object>",
      "text/markdown": "$\\lambda\\ X\\ x.X(\\lambda\\ y.bite(x,y))$"
     },
     "metadata": {}
    },
    {
     "output_type": "display_data",
     "data": {
      "text/plain": "<IPython.core.display.Markdown object>",
      "text/markdown": "$\\lambda\\ x\\ y.bite(x,y)$"
     },
     "metadata": {}
    },
    {
     "output_type": "display_data",
     "data": {
      "text/plain": "<IPython.core.display.Markdown object>",
      "text/markdown": "$\\lambda\\ x.\\exists\\ z_{10}.(dog(z_{10})\\ \\land\\ bite(x,z_{10}))$"
     },
     "metadata": {}
    },
    {
     "output_type": "display_data",
     "data": {
      "text/plain": "<IPython.core.display.Markdown object>",
      "text/markdown": "$\\lambda\\ y.bite(\\lambda\\ Q.\\exists\\ x.(dog(x)\\ \\land\\ Q(x)),y)$"
     },
     "metadata": {}
    },
    {
     "output_type": "display_data",
     "data": {
      "text/plain": "<IPython.core.display.Markdown object>",
      "text/markdown": "$<?,<e,?>>$"
     },
     "metadata": {}
    },
    {
     "output_type": "display_data",
     "data": {
      "text/plain": "<IPython.core.display.Markdown object>",
      "text/markdown": "$<e,<e,?>>$"
     },
     "metadata": {}
    },
    {
     "output_type": "display_data",
     "data": {
      "text/plain": "<IPython.core.display.Markdown object>",
      "text/markdown": "$<e,t>$"
     },
     "metadata": {}
    },
    {
     "output_type": "display_data",
     "data": {
      "text/plain": "<IPython.core.display.Markdown object>",
      "text/markdown": "$<e,?>$"
     },
     "metadata": {}
    }
   ],
   "source": [
    "# sig = {'P': '<e, t>'}\n",
    "# tlp = nltk.sem.logic.LogicParser(type_check=True)\n",
    "# expr = tlp.parse(r'\\P Q.all x.(P(x) -> Q(x))')\n",
    "det = read_expr(r'\\P Q.exists x.(P(x) & Q(x))')\n",
    "n = read_expr(r'\\x.dog(x)')\n",
    "np = nltk.sem.ApplicationExpression(det,n)\n",
    "np_e = np.simplify()\n",
    "\n",
    "np2 = read_expr(r'\\P.P(x)')\n",
    "\n",
    "tv1 = read_expr(r'\\X x.X(\\y.bite(x,y))')\n",
    "tv2 = read_expr(r'\\x y.bite(x,y)')\n",
    "vp1 = nltk.sem.ApplicationExpression(tv1,np_e)\n",
    "vp2 = nltk.sem.ApplicationExpression(tv2,np_e)\n",
    "vp1_e = vp1.simplify()\n",
    "vp2_e = vp2.simplify()\n",
    "\n",
    "# s = nltk.sem.ApplicationExpression(np_e,vp_e)\n",
    "# s_e = s.simplify()\n",
    "\n",
    "display_latex(tv1)\n",
    "display_latex(tv2)\n",
    "display_latex(vp1_e)\n",
    "display_latex(vp2_e)\n",
    "# display_latex(s_e)\n",
    "\n",
    "# display_latex(np_e.type)\n",
    "display_latex(tv1.type)\n",
    "display_latex(tv2.type)\n",
    "display_latex(vp1_e.type)\n",
    "display_latex(vp2_e.type)\n",
    "# display_latex(s_e.type)"
   ]
  },
  {
   "cell_type": "markdown",
   "metadata": {},
   "source": [
    "**1a.** What are the semantic types of each syntactic category?\n",
    "Compare `new_syntax` with `syntax` imported form `util2.py`. \n",
    "\n",
    "Write types in `???`. **[4 marks]**"
   ]
  },
  {
   "cell_type": "markdown",
   "metadata": {},
   "source": [
    "|\tSyntactic Type\t|\tGrammar 1\t\t\t        |\tGrammar 2\t\t\t      | \n",
    "|-------------------|:------------------------------|:----------------------------| \n",
    "| S\t\t\t\t\t| `t`\t\t\t\t\t        | `t`\t\t\t\t\t      |\n",
    "| DET\t\t\t\t| `<<e,t>,<<e,t>,t>>`\t        | `<<e,t>,<<e,t>,t>>`\t      |\n",
    "| N\t\t\t\t\t| `<e,t>`\t\t\t\t        | `<e,t>`\t\t\t\t      |\n",
    "| IV\t\t\t\t| `<e,t>`\t\t\t\t\t    | `<e,t>`\t\t\t\t      |\n",
    "| TV\t\t\t\t| `<<<e,t>,t>,<e,t>>`\t\t    | `<e,<e,t>>`\t\t\t\t  |\n",
    "| DTV\t\t\t\t| `<<<e,t>,t>,<<<e,t>,t>,<e,t>>>`| `<e,<e,<e,t>>>`\t\t\t  |\n",
    "| NP\t\t\t\t| `<<e,t>,t>`\t\t\t\t\t| `\t<<e,t>,t>`\t\t\t\t  |\n",
    "| PP\t\t\t\t| `<<e,t>,t>`\t\t\t\t\t| `\t<<e,t>,t>`\t\t\t      |\n",
    "| VP\t\t\t\t| `<e,t>`\t\t\t\t\t    | `<e,t>`\t\t\t\t\t  |\n"
   ]
  },
  {
   "cell_type": "markdown",
   "metadata": {},
   "source": [
    "**1b.** There are two simple ways to construct lambda terms in lambda calculus:\n",
    "\n",
    "|\tLambda Syntax\t|\tName\t\t\t\t|\tDescription\t\t\t|\n",
    "|-------------------|-----------------------|-----------------------|\n",
    "|\tP(X)\t\t\t|\tapplication (app)\t|\tapplying P on X.\t|\n",
    "|\t\\x.P\t\t\t|\tabstraction (abs)\t|\tfunction definition.|\n",
    "\n",
    "Compare the composition of non-terminal nodes as implemented in two grammars **[1 mark]**:"
   ]
  },
  {
   "cell_type": "markdown",
   "metadata": {},
   "source": [
    "|\tSyntactic Type\t\t|\tGrammar 1\t\t|\tGrammar 2\t\t| \n",
    "|-----------------------|-------------------|-------------------| \n",
    "|\t`S  -> NP VP`\t\t|\tapp\t\t\t\t|\tapp\t\t\t\t|\n",
    "|\t`VP -> IV`\t\t\t|\tnone\t\t\t|\tnone\t\t\t|\n",
    "|\t`NP -> DET Nom`\t\t|\t`app`\t\t    |\t`app`\t        |\n",
    "|\t`VP -> TV NP`\t\t|\t`app`\t        |\tabs,app\t\t\t|\n",
    "|\t`VP -> DTV NP PP`\t|\t`app`\t\t\t|\t`abs,app`\t\t|\n"
   ]
  },
  {
   "cell_type": "markdown",
   "metadata": {},
   "source": [
    "### 2. A new conjunction rule [7 marks in total]\n",
    "\n",
    "The grammar below implements Cooper Storage - in fact this version is included as `storage.fcfg` with NLTK. In the lecture and in the previous part of this assignment we used our modified version. The goal of this question is to examine why we had to modify this version of the grammar. In this grammar the lexical representations of verbs are basic but their compositions with NPs are not complex as in Question 1 of this notebook. Therefore, this grammar also requires a different conjunction rule from the one in `problem-set-2-part1`.\n",
    "\n",
    "Run the code below and answer questions:"
   ]
  },
  {
   "cell_type": "code",
   "execution_count": 5,
   "metadata": {
    "scrolled": true
   },
   "outputs": [],
   "source": [
    "fcfg_storage = r\"\"\"\n",
    "%start S\n",
    "\n",
    "S[SEM=[CORE=<?vp(?subj)>, STORE=(?b1+?b2)]] -> NP[SEM=[CORE=?subj, STORE=?b1]] VP[SEM=[CORE=?vp, STORE=?b2]]\n",
    "\n",
    "VP[SEM=?v] -> IV[SEM=?v]\n",
    "VP[SEM=[CORE=<?v(?obj)>, STORE=(?b1+?b2)]] -> TV[SEM=[CORE=?v, STORE=?b1]] NP[SEM=[CORE=?obj, STORE=?b2]]\n",
    "VP[SEM=[CORE=<?v(?pp)(?obj)>, STORE=(?b1+?b2+?b3)]] -> DTV[SEM=[CORE=?v, STORE=?b1]] NP[SEM=[CORE=?obj, STORE=?b2]] PP[+TO, SEM=[CORE=?pp, STORE=?b3]]  \n",
    "\n",
    "NP[SEM=[CORE=<@x>, STORE=((<bo(?det(?nom),@x)>)+?b1+?b2)]] -> Det[SEM=[CORE=?det, STORE=?b1]] Nom[SEM=[CORE=?nom, STORE=?b2]]\n",
    "Nom[SEM=?n] -> N[SEM=?n]\n",
    "NP[SEM=?np] -> PropN[SEM=?np]\n",
    "\n",
    "PP[+TO, SEM=[CORE=?np, STORE=?b1]] -> P NP[SEM=[CORE=?np, STORE=?b1]]\n",
    "\n",
    "# Lexical items:\n",
    "Det[SEM=[CORE=<\\Q P.exists x.(Q(x) & P(x))>, STORE=(/)]] -> 'a'\n",
    "Det[SEM=[CORE=<\\Q P.all x.(Q(x) implies P(x))>, STORE=(/)]] -> 'every'\n",
    "\n",
    "N[SEM=[CORE=<\\x.library(x)>, STORE=(/)]] -> 'library' \n",
    "N[SEM=[CORE=<\\x.book(x)>, STORE=(/)]] -> 'book' \n",
    "N[SEM=[CORE=<\\x.girl(x)>, STORE=(/)]] -> 'girl'\n",
    "N[SEM=[CORE=<\\x.boy(x)>, STORE=(/)]] -> 'boy'\n",
    "\n",
    "IV[SEM=[CORE=<\\x.smile(x)>, STORE=(/)]] -> 'smiles' \n",
    "IV[SEM=[CORE=<\\x.walk(x)>, STORE=(/)]] -> 'walks'\n",
    "\n",
    "TV[SEM=[CORE=<\\y x.read(x,y)>, STORE=(/)]] -> 'reads' \n",
    "\n",
    "DTV[SEM=[CORE=<\\z y x.give(x,y,z)>, STORE=(/)]] -> 'gives' \n",
    "\n",
    "PropN[SEM=[CORE=<@x>, STORE=(<bo(\\P.P(angus),@x)>)]] -> 'Angus' \n",
    "PropN[SEM=[CORE=<@x>, STORE=(<bo(\\P.P(cyril),@x)>)]] -> 'Cyril'\n",
    "\n",
    "P[+TO] -> 'to'\n",
    "\"\"\""
   ]
  },
  {
   "cell_type": "markdown",
   "metadata": {},
   "source": [
    "Let us compare the construction of representations in `SEM.CORE` with the grammar in Question 1:"
   ]
  },
  {
   "cell_type": "code",
   "execution_count": 6,
   "metadata": {},
   "outputs": [
    {
     "output_type": "display_data",
     "data": {
      "text/plain": "<IPython.core.display.Markdown object>",
      "text/markdown": "\n| Category | Grammar 2 | Grammar 3 - CORE | Grammar 3 - STORE\n|----------|-----------|------------------|-------------------\n| `DTV -> {{STR}}` | `\\x z y.give(x,y,z)` | `-` | `-` \n| `DTV -> {{STR}}` | `\\x z y.give(x,y,z)` | `\\z y x.give(x,y,z)` | `-` \n| `NP -> Det Nom` | `?det(?nom)` | `@x` | `@x --> ?det(?nom)` \n| `NP -> PropN` | `?np` | `?np` | `-` \n| `PP -> P NP` | `?np` | `?np` | `-` \n| `S -> NP VP` | `?subj(?vp)` | `?vp(?subj)` | `-` \n| `TV -> {{STR}}` | `\\x y.bite(x,y)` | `\\y x.read(x,y)` | `-` \n| `TV -> {{STR}}` | `\\x y.bite(x,y)` | `-` | `-` \n| `VP -> DTV NP PP` | `\\x.?obj(\\z.?pp(\\y.?v(x,y,z)))` | `-` | `-` \n| `VP -> DTV NP PP` | `\\x.?pp(\\y.?obj(?v(x,y)))` | `?v(?pp,?obj)` | `-` \n| `VP -> IV` | `?v` | `?v` | `-` \n| `VP -> TV NP` | `\\x.?obj(?v(x))` | `?v(?obj)` | `-` \n"
     },
     "metadata": {}
    }
   ],
   "source": [
    "cs_syntax = FeatureGrammar.fromstring(fcfg_storage)\n",
    "\n",
    "# display the comparison\n",
    "table = \"\"\"\n",
    "| Category | Grammar 2 | Grammar 3 - CORE | Grammar 3 - STORE\n",
    "|----------|-----------|------------------|-------------------\n",
    "\"\"\"\n",
    "for cat, sem1, sem2 in compare_synsem(cs_syntax, new_syntax):\n",
    "    if cat[0] in ['VP', 'DTV', 'TV', 'NP', 'S', 'PP']:\n",
    "        if sem1 is not None and type(sem1)!=nltk.grammar.FeatStructNonterminal:\n",
    "             # then there is a semantic representation, but its not structured:\n",
    "            core = sem1\n",
    "            store = '-'\n",
    "        elif type(sem1)==nltk.grammar.FeatStructNonterminal:\n",
    "            # then the semantic representation is structured:\n",
    "            core = str(sem1['CORE'])\n",
    "            store = \"\"\n",
    "            # find the binding operations introduced here:\n",
    "            for bo in re.findall(r'\\(bo\\((.+)\\)\\)', str(sem1['STORE'])):\n",
    "                rep, ref = tuple(bo.split(','))\n",
    "                store += f\"{ref} --> {rep}\" \n",
    "                \n",
    "            # if there is no new binding then ignore the store:\n",
    "            if store == \"\":\n",
    "                store = '-'\n",
    "        else:\n",
    "            # then there is no semantic representation:\n",
    "            core = '-'\n",
    "            store = '-'\n",
    "            \n",
    "        if sem2 is None:\n",
    "            sem2 = '-'\n",
    "            \n",
    "        table += f\"| `{cat[0]} -> {cat[1]}` \" +\\\n",
    "                 f\"| `{sem2}` \" +\\\n",
    "                 f\"| `{core}` \" +\\\n",
    "                 f\"| `{store}` \" +\\\n",
    "                  \"\\n\"\n",
    "\n",
    "display(Markdown(table))"
   ]
  },
  {
   "cell_type": "markdown",
   "metadata": {},
   "source": [
    "**2a.** What are the types of representations in `SEM.CORE` for each syntactic category? **[2 marks]**"
   ]
  },
  {
   "cell_type": "markdown",
   "metadata": {},
   "source": [
    "|\tSyntactic Type\t|\tGrammar 3 -\tCORE\t\n",
    "|-------------------|-----------------------\n",
    "| S\t\t\t\t\t| `t`\t\t\t\t\t\n",
    "| Det\t\t\t\t| `<<e,t>,<<e,t>,t>>`\t\t\t\t\t\n",
    "| N\t\t\t\t\t| `<e,t>`\t\t\t\t\t\n",
    "| IV\t\t\t\t| `<e,t>`\t\t\t\t\t\n",
    "| TV\t\t\t\t| `<e,<e,t>>`\t\t\t\t\t\n",
    "| DTV\t\t\t\t| `<e,<e,<e,t>>>`\t\t\t\t\t\n",
    "| NP\t\t\t\t| `<<e,t>,t>`\t\t\t\t\t\n",
    "| PP\t\t\t\t| `<<e,t>,t>`\t\t\t\t\t\n",
    "| VP\t\t\t\t| `<e,t>`\t\t\t\t\t\n"
   ]
  },
  {
   "cell_type": "markdown",
   "metadata": {},
   "source": [
    "**2b.** Compare the composition of non-terminal nodes in Cooper Storage and the grammar from the previous question. Fill in `???`. **[1 mark]**"
   ]
  },
  {
   "cell_type": "markdown",
   "metadata": {},
   "source": [
    "|\tSyntactic Type\t\t|\tGrammar Basic-CS\t|\tGrammar 2\t\t| \n",
    "|-----------------------|-----------------------|-------------------| \n",
    "|\t`S  -> NP VP`\t\t|\t`app`\t\t\t\t|\tapp\t\t\t\t|\n",
    "|\t`VP -> IV`\t\t\t|\tnone\t\t\t\t|\tnone\t\t\t|\n",
    "|\t`NP -> DET Nom`\t\t|\t`app`\t\t\t\t|\t`app`\t\t\t|\n",
    "|\t`VP -> TV NP`\t\t|\t`app`\t\t\t\t|\tabs/app\t\t\t|\n",
    "|\t`VP -> DTV NP PP`\t|\t`app`\t\t\t\t|\t`abs/app`\t\t\t|\n"
   ]
  },
  {
   "cell_type": "markdown",
   "metadata": {},
   "source": [
    "**2c.** What are other differences between two representations?. **[1 mark]**"
   ]
  },
  {
   "cell_type": "raw",
   "metadata": {},
   "source": [
    "** Write answers here **\n",
    "\n",
    "..."
   ]
  },
  {
   "cell_type": "markdown",
   "metadata": {},
   "source": [
    "**2d.** Finish the rule where the conjunction is handled in the  `STORE` by replacing `xxx` with an appropriate lambda function and then uncomment the rule. **[2 marks]**"
   ]
  },
  {
   "cell_type": "code",
   "execution_count": 121,
   "metadata": {},
   "outputs": [
    {
     "output_type": "display_data",
     "data": {
      "text/plain": "<IPython.core.display.Markdown object>",
      "text/markdown": "\"1\": $\\exists\\ x.(boy(x)\\ \\land\\ \\exists\\ z_{5293}.(girl(z_{5293})\\ \\land\\ \\exists\\ z_{5291}.(book(z_{5291})\\ \\land\\ \\forall\\ z_{5290}.(library(z_{5290})\\ \\to\\ give(z_{5290},z_{5291},z_{5293})))\\ \\land\\ \\exists\\ z_{5292}.(book(z_{5292})\\ \\land\\ \\forall\\ z_{5290}.(library(z_{5290})\\ \\to\\ give(z_{5290},z_{5292},x)))))$"
     },
     "metadata": {}
    },
    {
     "output_type": "display_data",
     "data": {
      "text/plain": "<IPython.core.display.Markdown object>",
      "text/markdown": "\"2\": $\\exists\\ x.(girl(x)\\ \\land\\ \\exists\\ z_{5297}.(boy(z_{5297})\\ \\land\\ \\exists\\ z_{5295}.(book(z_{5295})\\ \\land\\ \\forall\\ z_{5294}.(library(z_{5294})\\ \\to\\ give(z_{5294},z_{5295},x)))\\ \\land\\ \\exists\\ z_{5296}.(book(z_{5296})\\ \\land\\ \\forall\\ z_{5294}.(library(z_{5294})\\ \\to\\ give(z_{5294},z_{5296},z_{5297})))))$"
     },
     "metadata": {}
    },
    {
     "output_type": "display_data",
     "data": {
      "text/plain": "<IPython.core.display.Markdown object>",
      "text/markdown": "\"3\": $\\exists\\ x.(boy(x)\\ \\land\\ \\exists\\ z_{5315}.(girl(z_{5315})\\ \\land\\ \\exists\\ z_{5314}.(book(z_{5314})\\ \\land\\ \\forall\\ z_{5312}.(library(z_{5312})\\ \\to\\ give(z_{5312},z_{5314},z_{5315}))\\ \\land\\ \\forall\\ z_{5313}.(library(z_{5313})\\ \\to\\ give(z_{5313},z_{5314},x)))))$"
     },
     "metadata": {}
    },
    {
     "output_type": "display_data",
     "data": {
      "text/plain": "<IPython.core.display.Markdown object>",
      "text/markdown": "\"4\": $\\exists\\ x.(girl(x)\\ \\land\\ \\exists\\ z_{5319}.(boy(z_{5319})\\ \\land\\ \\exists\\ z_{5318}.(book(z_{5318})\\ \\land\\ \\forall\\ z_{5316}.(library(z_{5316})\\ \\to\\ give(z_{5316},z_{5318},x))\\ \\land\\ \\forall\\ z_{5317}.(library(z_{5317})\\ \\to\\ give(z_{5317},z_{5318},z_{5319})))))$"
     },
     "metadata": {}
    },
    {
     "output_type": "display_data",
     "data": {
      "text/plain": "<IPython.core.display.Markdown object>",
      "text/markdown": "\"5\": $\\exists\\ x.(boy(x)\\ \\land\\ \\exists\\ z_{5323}.(book(z_{5323})\\ \\land\\ \\exists\\ z_{5322}.(girl(z_{5322})\\ \\land\\ \\forall\\ z_{5320}.(library(z_{5320})\\ \\to\\ give(z_{5320},z_{5323},z_{5322}))\\ \\land\\ \\forall\\ z_{5321}.(library(z_{5321})\\ \\to\\ give(z_{5321},z_{5323},x)))))$"
     },
     "metadata": {}
    },
    {
     "output_type": "display_data",
     "data": {
      "text/plain": "<IPython.core.display.Markdown object>",
      "text/markdown": "\"6\": $\\exists\\ x.(book(x)\\ \\land\\ \\exists\\ z_{5327}.(boy(z_{5327})\\ \\land\\ \\exists\\ z_{5326}.(girl(z_{5326})\\ \\land\\ \\forall\\ z_{5324}.(library(z_{5324})\\ \\to\\ give(z_{5324},x,z_{5326}))\\ \\land\\ \\forall\\ z_{5325}.(library(z_{5325})\\ \\to\\ give(z_{5325},x,z_{5327})))))$"
     },
     "metadata": {}
    },
    {
     "output_type": "display_data",
     "data": {
      "text/plain": "<IPython.core.display.Markdown object>",
      "text/markdown": "\"7\": $\\exists\\ x.(girl(x)\\ \\land\\ \\exists\\ z_{5331}.(book(z_{5331})\\ \\land\\ \\exists\\ z_{5330}.(boy(z_{5330})\\ \\land\\ \\forall\\ z_{5328}.(library(z_{5328})\\ \\to\\ give(z_{5328},z_{5331},x))\\ \\land\\ \\forall\\ z_{5329}.(library(z_{5329})\\ \\to\\ give(z_{5329},z_{5331},z_{5330})))))$"
     },
     "metadata": {}
    },
    {
     "output_type": "display_data",
     "data": {
      "text/plain": "<IPython.core.display.Markdown object>",
      "text/markdown": "\"8\": $\\exists\\ x.(book(x)\\ \\land\\ \\exists\\ z_{5335}.(girl(z_{5335})\\ \\land\\ \\exists\\ z_{5334}.(boy(z_{5334})\\ \\land\\ \\forall\\ z_{5332}.(library(z_{5332})\\ \\to\\ give(z_{5332},x,z_{5335}))\\ \\land\\ \\forall\\ z_{5333}.(library(z_{5333})\\ \\to\\ give(z_{5333},x,z_{5334})))))$"
     },
     "metadata": {}
    },
    {
     "output_type": "display_data",
     "data": {
      "text/plain": "<IPython.core.display.Markdown object>",
      "text/markdown": "\"9\": $\\exists\\ x.(boy(x)\\ \\land\\ \\exists\\ z_{5383}.(girl(z_{5383})\\ \\land\\ \\forall\\ z_{5381}.(library(z_{5381})\\ \\to\\ \\exists\\ z_{5380}.(book(z_{5380})\\ \\land\\ give(z_{5381},z_{5380},z_{5383})))\\ \\land\\ \\forall\\ z_{5382}.(library(z_{5382})\\ \\to\\ \\exists\\ z_{5380}.(book(z_{5380})\\ \\land\\ give(z_{5382},z_{5380},x)))))$"
     },
     "metadata": {}
    },
    {
     "output_type": "display_data",
     "data": {
      "text/plain": "<IPython.core.display.Markdown object>",
      "text/markdown": "\"10\": $\\exists\\ x.(girl(x)\\ \\land\\ \\exists\\ z_{5387}.(boy(z_{5387})\\ \\land\\ \\forall\\ z_{5385}.(library(z_{5385})\\ \\to\\ \\exists\\ z_{5384}.(book(z_{5384})\\ \\land\\ give(z_{5385},z_{5384},x)))\\ \\land\\ \\forall\\ z_{5386}.(library(z_{5386})\\ \\to\\ \\exists\\ z_{5384}.(book(z_{5384})\\ \\land\\ give(z_{5386},z_{5384},z_{5387})))))$"
     },
     "metadata": {}
    },
    {
     "output_type": "display_data",
     "data": {
      "text/plain": "<IPython.core.display.Markdown object>",
      "text/markdown": "\"11\": $\\exists\\ x.(boy(x)\\ \\land\\ \\exists\\ z_{5405}.(girl(z_{5405})\\ \\land\\ \\forall\\ z_{5404}.(library(z_{5404})\\ \\to\\ (\\exists\\ z_{5402}.(book(z_{5402})\\ \\land\\ give(z_{5404},z_{5402},z_{5405}))\\ \\land\\ \\exists\\ z_{5403}.(book(z_{5403})\\ \\land\\ give(z_{5404},z_{5403},x))))))$"
     },
     "metadata": {}
    },
    {
     "output_type": "display_data",
     "data": {
      "text/plain": "<IPython.core.display.Markdown object>",
      "text/markdown": "\"12\": $\\exists\\ x.(girl(x)\\ \\land\\ \\exists\\ z_{5409}.(boy(z_{5409})\\ \\land\\ \\forall\\ z_{5408}.(library(z_{5408})\\ \\to\\ (\\exists\\ z_{5406}.(book(z_{5406})\\ \\land\\ give(z_{5408},z_{5406},x))\\ \\land\\ \\exists\\ z_{5407}.(book(z_{5407})\\ \\land\\ give(z_{5408},z_{5407},z_{5409}))))))$"
     },
     "metadata": {}
    },
    {
     "output_type": "display_data",
     "data": {
      "text/plain": "<IPython.core.display.Markdown object>",
      "text/markdown": "\"13\": $\\exists\\ x.(boy(x)\\ \\land\\ \\forall\\ z_{5413}.(library(z_{5413})\\ \\to\\ \\exists\\ z_{5412}.(girl(z_{5412})\\ \\land\\ \\exists\\ z_{5410}.(book(z_{5410})\\ \\land\\ give(z_{5413},z_{5410},z_{5412}))\\ \\land\\ \\exists\\ z_{5411}.(book(z_{5411})\\ \\land\\ give(z_{5413},z_{5411},x)))))$"
     },
     "metadata": {}
    },
    {
     "output_type": "display_data",
     "data": {
      "text/plain": "<IPython.core.display.Markdown object>",
      "text/markdown": "\"14\": $\\forall\\ x.(library(x)\\ \\to\\ \\exists\\ z_{5417}.(boy(z_{5417})\\ \\land\\ \\exists\\ z_{5416}.(girl(z_{5416})\\ \\land\\ \\exists\\ z_{5414}.(book(z_{5414})\\ \\land\\ give(x,z_{5414},z_{5416}))\\ \\land\\ \\exists\\ z_{5415}.(book(z_{5415})\\ \\land\\ give(x,z_{5415},z_{5417})))))$"
     },
     "metadata": {}
    },
    {
     "output_type": "display_data",
     "data": {
      "text/plain": "<IPython.core.display.Markdown object>",
      "text/markdown": "\"15\": $\\exists\\ x.(girl(x)\\ \\land\\ \\forall\\ z_{5421}.(library(z_{5421})\\ \\to\\ \\exists\\ z_{5420}.(boy(z_{5420})\\ \\land\\ \\exists\\ z_{5418}.(book(z_{5418})\\ \\land\\ give(z_{5421},z_{5418},x))\\ \\land\\ \\exists\\ z_{5419}.(book(z_{5419})\\ \\land\\ give(z_{5421},z_{5419},z_{5420})))))$"
     },
     "metadata": {}
    },
    {
     "output_type": "display_data",
     "data": {
      "text/plain": "<IPython.core.display.Markdown object>",
      "text/markdown": "\"16\": $\\forall\\ x.(library(x)\\ \\to\\ \\exists\\ z_{5425}.(girl(z_{5425})\\ \\land\\ \\exists\\ z_{5424}.(boy(z_{5424})\\ \\land\\ \\exists\\ z_{5422}.(book(z_{5422})\\ \\land\\ give(x,z_{5422},z_{5425}))\\ \\land\\ \\exists\\ z_{5423}.(book(z_{5423})\\ \\land\\ give(x,z_{5423},z_{5424})))))$"
     },
     "metadata": {}
    },
    {
     "output_type": "display_data",
     "data": {
      "text/plain": "<IPython.core.display.Markdown object>",
      "text/markdown": "\"17\": $\\exists\\ x.(boy(x)\\ \\land\\ \\exists\\ z_{5472}.(girl(z_{5472})\\ \\land\\ \\exists\\ z_{5471}.(book(z_{5471})\\ \\land\\ \\forall\\ z_{5470}.(library(z_{5470})\\ \\to\\ (give(z_{5470},z_{5471},z_{5472})\\ \\land\\ give(z_{5470},z_{5471},x))))))$"
     },
     "metadata": {}
    },
    {
     "output_type": "display_data",
     "data": {
      "text/plain": "<IPython.core.display.Markdown object>",
      "text/markdown": "\"18\": $\\exists\\ x.(girl(x)\\ \\land\\ \\exists\\ z_{5475}.(boy(z_{5475})\\ \\land\\ \\exists\\ z_{5474}.(book(z_{5474})\\ \\land\\ \\forall\\ z_{5473}.(library(z_{5473})\\ \\to\\ (give(z_{5473},z_{5474},x)\\ \\land\\ give(z_{5473},z_{5474},z_{5475}))))))$"
     },
     "metadata": {}
    },
    {
     "output_type": "display_data",
     "data": {
      "text/plain": "<IPython.core.display.Markdown object>",
      "text/markdown": "\"19\": $\\exists\\ x.(boy(x)\\ \\land\\ \\exists\\ z_{5478}.(book(z_{5478})\\ \\land\\ \\exists\\ z_{5477}.(girl(z_{5477})\\ \\land\\ \\forall\\ z_{5476}.(library(z_{5476})\\ \\to\\ (give(z_{5476},z_{5478},z_{5477})\\ \\land\\ give(z_{5476},z_{5478},x))))))$"
     },
     "metadata": {}
    },
    {
     "output_type": "display_data",
     "data": {
      "text/plain": "<IPython.core.display.Markdown object>",
      "text/markdown": "\"20\": $\\exists\\ x.(book(x)\\ \\land\\ \\exists\\ z_{5481}.(boy(z_{5481})\\ \\land\\ \\exists\\ z_{5480}.(girl(z_{5480})\\ \\land\\ \\forall\\ z_{5479}.(library(z_{5479})\\ \\to\\ (give(z_{5479},x,z_{5480})\\ \\land\\ give(z_{5479},x,z_{5481}))))))$"
     },
     "metadata": {}
    },
    {
     "output_type": "display_data",
     "data": {
      "text/plain": "<IPython.core.display.Markdown object>",
      "text/markdown": "\"21\": $\\exists\\ x.(girl(x)\\ \\land\\ \\exists\\ z_{5484}.(book(z_{5484})\\ \\land\\ \\exists\\ z_{5483}.(boy(z_{5483})\\ \\land\\ \\forall\\ z_{5482}.(library(z_{5482})\\ \\to\\ (give(z_{5482},z_{5484},x)\\ \\land\\ give(z_{5482},z_{5484},z_{5483}))))))$"
     },
     "metadata": {}
    },
    {
     "output_type": "display_data",
     "data": {
      "text/plain": "<IPython.core.display.Markdown object>",
      "text/markdown": "\"22\": $\\exists\\ x.(book(x)\\ \\land\\ \\exists\\ z_{5487}.(girl(z_{5487})\\ \\land\\ \\exists\\ z_{5486}.(boy(z_{5486})\\ \\land\\ \\forall\\ z_{5485}.(library(z_{5485})\\ \\to\\ (give(z_{5485},x,z_{5487})\\ \\land\\ give(z_{5485},x,z_{5486}))))))$"
     },
     "metadata": {}
    },
    {
     "output_type": "display_data",
     "data": {
      "text/plain": "<IPython.core.display.Markdown object>",
      "text/markdown": "\"23\": $\\exists\\ x.(boy(x)\\ \\land\\ \\exists\\ z_{5490}.(girl(z_{5490})\\ \\land\\ \\forall\\ z_{5489}.(library(z_{5489})\\ \\to\\ \\exists\\ z_{5488}.(book(z_{5488})\\ \\land\\ give(z_{5489},z_{5488},z_{5490})\\ \\land\\ give(z_{5489},z_{5488},x)))))$"
     },
     "metadata": {}
    },
    {
     "output_type": "display_data",
     "data": {
      "text/plain": "<IPython.core.display.Markdown object>",
      "text/markdown": "\"24\": $\\exists\\ x.(girl(x)\\ \\land\\ \\exists\\ z_{5493}.(boy(z_{5493})\\ \\land\\ \\forall\\ z_{5492}.(library(z_{5492})\\ \\to\\ \\exists\\ z_{5491}.(book(z_{5491})\\ \\land\\ give(z_{5492},z_{5491},x)\\ \\land\\ give(z_{5492},z_{5491},z_{5493})))))$"
     },
     "metadata": {}
    },
    {
     "output_type": "display_data",
     "data": {
      "text/plain": "<IPython.core.display.Markdown object>",
      "text/markdown": "\"25\": $\\exists\\ x.(boy(x)\\ \\land\\ \\forall\\ z_{5496}.(library(z_{5496})\\ \\to\\ \\exists\\ z_{5495}.(girl(z_{5495})\\ \\land\\ \\exists\\ z_{5494}.(book(z_{5494})\\ \\land\\ give(z_{5496},z_{5494},z_{5495})\\ \\land\\ give(z_{5496},z_{5494},x)))))$"
     },
     "metadata": {}
    },
    {
     "output_type": "display_data",
     "data": {
      "text/plain": "<IPython.core.display.Markdown object>",
      "text/markdown": "\"26\": $\\forall\\ x.(library(x)\\ \\to\\ \\exists\\ z_{5499}.(boy(z_{5499})\\ \\land\\ \\exists\\ z_{5498}.(girl(z_{5498})\\ \\land\\ \\exists\\ z_{5497}.(book(z_{5497})\\ \\land\\ give(x,z_{5497},z_{5498})\\ \\land\\ give(x,z_{5497},z_{5499})))))$"
     },
     "metadata": {}
    },
    {
     "output_type": "display_data",
     "data": {
      "text/plain": "<IPython.core.display.Markdown object>",
      "text/markdown": "\"27\": $\\exists\\ x.(girl(x)\\ \\land\\ \\forall\\ z_{5502}.(library(z_{5502})\\ \\to\\ \\exists\\ z_{5501}.(boy(z_{5501})\\ \\land\\ \\exists\\ z_{5500}.(book(z_{5500})\\ \\land\\ give(z_{5502},z_{5500},x)\\ \\land\\ give(z_{5502},z_{5500},z_{5501})))))$"
     },
     "metadata": {}
    },
    {
     "output_type": "display_data",
     "data": {
      "text/plain": "<IPython.core.display.Markdown object>",
      "text/markdown": "\"28\": $\\forall\\ x.(library(x)\\ \\to\\ \\exists\\ z_{5505}.(girl(z_{5505})\\ \\land\\ \\exists\\ z_{5504}.(boy(z_{5504})\\ \\land\\ \\exists\\ z_{5503}.(book(z_{5503})\\ \\land\\ give(x,z_{5503},z_{5505})\\ \\land\\ give(x,z_{5503},z_{5504})))))$"
     },
     "metadata": {}
    },
    {
     "output_type": "display_data",
     "data": {
      "text/plain": "<IPython.core.display.Markdown object>",
      "text/markdown": "\"29\": $\\exists\\ x.(boy(x)\\ \\land\\ \\exists\\ z_{5508}.(book(z_{5508})\\ \\land\\ \\forall\\ z_{5507}.(library(z_{5507})\\ \\to\\ \\exists\\ z_{5506}.(girl(z_{5506})\\ \\land\\ give(z_{5507},z_{5508},z_{5506})\\ \\land\\ give(z_{5507},z_{5508},x)))))$"
     },
     "metadata": {}
    },
    {
     "output_type": "display_data",
     "data": {
      "text/plain": "<IPython.core.display.Markdown object>",
      "text/markdown": "\"30\": $\\exists\\ x.(book(x)\\ \\land\\ \\exists\\ z_{5511}.(boy(z_{5511})\\ \\land\\ \\forall\\ z_{5510}.(library(z_{5510})\\ \\to\\ \\exists\\ z_{5509}.(girl(z_{5509})\\ \\land\\ give(z_{5510},x,z_{5509})\\ \\land\\ give(z_{5510},x,z_{5511})))))$"
     },
     "metadata": {}
    },
    {
     "output_type": "display_data",
     "data": {
      "text/plain": "<IPython.core.display.Markdown object>",
      "text/markdown": "\"31\": $\\exists\\ x.(boy(x)\\ \\land\\ \\forall\\ z_{5514}.(library(z_{5514})\\ \\to\\ \\exists\\ z_{5513}.(book(z_{5513})\\ \\land\\ \\exists\\ z_{5512}.(girl(z_{5512})\\ \\land\\ give(z_{5514},z_{5513},z_{5512})\\ \\land\\ give(z_{5514},z_{5513},x)))))$"
     },
     "metadata": {}
    },
    {
     "output_type": "display_data",
     "data": {
      "text/plain": "<IPython.core.display.Markdown object>",
      "text/markdown": "\"32\": $\\forall\\ x.(library(x)\\ \\to\\ \\exists\\ z_{5517}.(boy(z_{5517})\\ \\land\\ \\exists\\ z_{5516}.(book(z_{5516})\\ \\land\\ \\exists\\ z_{5515}.(girl(z_{5515})\\ \\land\\ give(x,z_{5516},z_{5515})\\ \\land\\ give(x,z_{5516},z_{5517})))))$"
     },
     "metadata": {}
    },
    {
     "output_type": "display_data",
     "data": {
      "text/plain": "<IPython.core.display.Markdown object>",
      "text/markdown": "\"33\": $\\exists\\ x.(book(x)\\ \\land\\ \\forall\\ z_{5520}.(library(z_{5520})\\ \\to\\ \\exists\\ z_{5519}.(boy(z_{5519})\\ \\land\\ \\exists\\ z_{5518}.(girl(z_{5518})\\ \\land\\ give(z_{5520},x,z_{5518})\\ \\land\\ give(z_{5520},x,z_{5519})))))$"
     },
     "metadata": {}
    },
    {
     "output_type": "display_data",
     "data": {
      "text/plain": "<IPython.core.display.Markdown object>",
      "text/markdown": "\"34\": $\\forall\\ x.(library(x)\\ \\to\\ \\exists\\ z_{5523}.(book(z_{5523})\\ \\land\\ \\exists\\ z_{5522}.(boy(z_{5522})\\ \\land\\ \\exists\\ z_{5521}.(girl(z_{5521})\\ \\land\\ give(x,z_{5523},z_{5521})\\ \\land\\ give(x,z_{5523},z_{5522})))))$"
     },
     "metadata": {}
    },
    {
     "output_type": "display_data",
     "data": {
      "text/plain": "<IPython.core.display.Markdown object>",
      "text/markdown": "\"35\": $\\exists\\ x.(girl(x)\\ \\land\\ \\exists\\ z_{5526}.(book(z_{5526})\\ \\land\\ \\forall\\ z_{5525}.(library(z_{5525})\\ \\to\\ \\exists\\ z_{5524}.(boy(z_{5524})\\ \\land\\ give(z_{5525},z_{5526},x)\\ \\land\\ give(z_{5525},z_{5526},z_{5524})))))$"
     },
     "metadata": {}
    },
    {
     "output_type": "display_data",
     "data": {
      "text/plain": "<IPython.core.display.Markdown object>",
      "text/markdown": "\"36\": $\\exists\\ x.(book(x)\\ \\land\\ \\exists\\ z_{5529}.(girl(z_{5529})\\ \\land\\ \\forall\\ z_{5528}.(library(z_{5528})\\ \\to\\ \\exists\\ z_{5527}.(boy(z_{5527})\\ \\land\\ give(z_{5528},x,z_{5529})\\ \\land\\ give(z_{5528},x,z_{5527})))))$"
     },
     "metadata": {}
    },
    {
     "output_type": "display_data",
     "data": {
      "text/plain": "<IPython.core.display.Markdown object>",
      "text/markdown": "\"37\": $\\exists\\ x.(girl(x)\\ \\land\\ \\forall\\ z_{5532}.(library(z_{5532})\\ \\to\\ \\exists\\ z_{5531}.(book(z_{5531})\\ \\land\\ \\exists\\ z_{5530}.(boy(z_{5530})\\ \\land\\ give(z_{5532},z_{5531},x)\\ \\land\\ give(z_{5532},z_{5531},z_{5530})))))$"
     },
     "metadata": {}
    },
    {
     "output_type": "display_data",
     "data": {
      "text/plain": "<IPython.core.display.Markdown object>",
      "text/markdown": "\"38\": $\\forall\\ x.(library(x)\\ \\to\\ \\exists\\ z_{5535}.(girl(z_{5535})\\ \\land\\ \\exists\\ z_{5534}.(book(z_{5534})\\ \\land\\ \\exists\\ z_{5533}.(boy(z_{5533})\\ \\land\\ give(x,z_{5534},z_{5535})\\ \\land\\ give(x,z_{5534},z_{5533})))))$"
     },
     "metadata": {}
    },
    {
     "output_type": "display_data",
     "data": {
      "text/plain": "<IPython.core.display.Markdown object>",
      "text/markdown": "\"39\": $\\exists\\ x.(book(x)\\ \\land\\ \\forall\\ z_{5538}.(library(z_{5538})\\ \\to\\ \\exists\\ z_{5537}.(girl(z_{5537})\\ \\land\\ \\exists\\ z_{5536}.(boy(z_{5536})\\ \\land\\ give(z_{5538},x,z_{5537})\\ \\land\\ give(z_{5538},x,z_{5536})))))$"
     },
     "metadata": {}
    },
    {
     "output_type": "display_data",
     "data": {
      "text/plain": "<IPython.core.display.Markdown object>",
      "text/markdown": "\"40\": $\\forall\\ x.(library(x)\\ \\to\\ \\exists\\ z_{5541}.(book(z_{5541})\\ \\land\\ \\exists\\ z_{5540}.(girl(z_{5540})\\ \\land\\ \\exists\\ z_{5539}.(boy(z_{5539})\\ \\land\\ give(x,z_{5541},z_{5540})\\ \\land\\ give(x,z_{5541},z_{5539})))))$"
     },
     "metadata": {}
    }
   ],
   "source": [
    "fcfg_conj = r\"\"\"\n",
    "# Conjunction rule:\n",
    "CONJ -> 'and'\n",
    "NP[SEM=[CORE=<@x>, STORE=((<bo(\\Q.(Q(?n1) & Q(?n2)), @x)>)+?b1+?b2)]] -> NP[SEM=[CORE=?n1, STORE=?b1]] CONJ NP[SEM=[CORE=?n2, STORE=?b2]]\n",
    "#NP[SEM=[CORE=<yyy>, STORE=(?b1+?b2)]] -> NP[SEM=[CORE=?n1, STORE=?b1]] CONJ NP[SEM=[CORE=?n2, STORE=?b2]]\n",
    "\"\"\"\n",
    "\n",
    "cs_syntax = FeatureGrammar.fromstring(fcfg_storage+fcfg_conj)\n",
    "\n",
    "sentences = [\n",
    "    'every library gives a book to a girl and a boy',\n",
    "]\n",
    "\n",
    "sents_reps = sem_parser(sentences, cs_syntax, verbose=False, is_cs=True)\n",
    "\n",
    "counter = 0\n",
    "for i, (sent, semreps) in enumerate(sents_reps.items()):\n",
    "    for semrep in semreps:\n",
    "        # check if it is valid\n",
    "        if str(semrep).find(\"@\") == -1:\n",
    "            counter+=1\n",
    "            display_translation(f\"{counter}\", semrep)"
   ]
  },
  {
   "cell_type": "markdown",
   "metadata": {},
   "source": [
    "**2b.** Is it possible to write a conjunction rule in `yyy` in the `CORE`? Why? **[1 marks]**"
   ]
  },
  {
   "cell_type": "raw",
   "metadata": {},
   "source": [
    "** Write your explanation here **\n",
    "\n",
    "..."
   ]
  },
  {
   "cell_type": "markdown",
   "metadata": {},
   "source": [
    "## Inference [15 marks in total]\n",
    "\n",
    "### 3. Ambiguous syntax and semantics and inference [15 marks in total]\n",
    "\n",
    "Extend the grammar in `problem-set-2-part2` to cover two sentences below that are similar to FraCaS problem 024. \n",
    "\n",
    "- no delegate obtained interesting results from the survey\n",
    "- no delegate obtained results from the survey"
   ]
  },
  {
   "cell_type": "markdown",
   "metadata": {},
   "source": [
    "**3a.** Extend the grammar with a lexical entry for `obtained` as a `TV` category where it is combined with only one object. **[6 marks]**  \n",
    "Hint: Add a rule that attaches the `PP` to a bare plural `NP` without a `DET`."
   ]
  },
  {
   "cell_type": "markdown",
   "metadata": {},
   "source": [
    "**3b.** Also add another rule for `obtained` where this is a `DTV` category. **[3 marks]**"
   ]
  },
  {
   "cell_type": "code",
   "execution_count": 52,
   "metadata": {
    "tags": []
   },
   "outputs": [
    {
     "output_type": "display_data",
     "data": {
      "text/plain": "<IPython.core.display.Markdown object>",
      "text/markdown": "\"0. no delegate obtained interesting results from the survey\": $-\\exists\\ x.(delegate(x)\\ \\land\\ \\exists\\ z_{98}.(survey(z_{98})\\ \\land\\ \\exists\\ z_{96}.((interesting(x2)\\ \\land\\ result(x2))(\\lambda\\ y.obtaine(x,y,z_{96}))\\ \\land\\ from(z_{96},z_{98}))\\ \\land\\ \\forall\\ z.(survey(z)\\ \\to\\ (z_{98}\\ =\\ z))))$"
     },
     "metadata": {}
    },
    {
     "output_type": "display_data",
     "data": {
      "text/plain": "<IPython.core.display.Markdown object>",
      "text/markdown": "\"1. no delegate obtained results from the survey\": $-\\exists\\ x.(delegate(x)\\ \\land\\ \\exists\\ z_{101}.(survey(z_{101})\\ \\land\\ \\exists\\ z_{100}.(result(z_{100})\\ \\land\\ obtaine(x,z_{100})\\ \\land\\ from(z_{100},z_{101}))\\ \\land\\ \\forall\\ z.(survey(z)\\ \\to\\ (z_{101}\\ =\\ z))))$"
     },
     "metadata": {}
    }
   ],
   "source": [
    "# your answers\n",
    "fcfg_storage_answers_a = r\"\"\"\n",
    "## Cover lexicon:\n",
    "Det[SEM=<\\P.\\Q. (- exists x.(P(x) & Q(x)))>] -> 'no'\n",
    "Det[SEM=<\\P.\\Q. exists x.((P(x) & Q(x)) & all z.(P(z) -> (x = z)))>] -> 'the'\n",
    "\n",
    "N[SEM=<\\x.delegate(x)>] -> 'delegate'\n",
    "N[SEM=<\\x.result(x)>] -> 'results' \n",
    "N[SEM=<\\x.survey(x)>] -> 'survey'\n",
    "\n",
    "P1[SEM=<\\X.\\P.\\Q. X(\\y.(exists x.(P(x) & Q(x) & from(x,y))))>] -> 'from'\n",
    "P2[SEM=<\\X.\\P. X(\\y.(exists x.(P(x) & from(x,y))))>] -> 'from'\n",
    "\n",
    "Adj[SEM=<\\x.interesting(x)>]-> 'interesting'\n",
    "TV[SEM=<\\X.\\x. X(\\y.obtaine(x,y))>] -> 'obtained'\n",
    "\n",
    "PP1[SEM=<?p(?det(?nom))>] -> P1[SEM=?p] Det[SEM=?det] Nom[SEM=?nom]\n",
    "PP2[SEM=<?p(?det(?nom))>] -> P2[SEM=?p] Det[SEM=?det] Nom[SEM=?nom]\n",
    "# add any missing rules\n",
    "AP[SEM=<\\Q.Q(x)(\\P.(?adj(P) & ?nom(P)))>] -> Adj[SEM=?adj] Nom[SEM=?nom]\n",
    "NP[SEM=?n] -> AP[SEM=?n]\n",
    "\n",
    "NP[SEM=<?pp(?nom)>] -> Nom[SEM=?nom] PP1[SEM=?pp]\n",
    "VP[SEM=<?v(?obj,?pp)>] -> DTV[SEM=?v] NP[SEM=?obj] PP2[SEM=?pp]\n",
    "\n",
    "\"\"\"\n",
    "\n",
    "fcfg_storage_answers_b = r\"\"\"\n",
    "## Cover lexicon:\n",
    "DTV[SEM=<\\Y X x.X(\\z.Y(\\y.obtaine(x,y,z)))>]-> 'obtained'\n",
    "# add any missing rules\n",
    "\"\"\"\n",
    "\n",
    "sentences = [\n",
    "    \"no delegate obtained interesting results from the survey\",\n",
    "    \"no delegate obtained results from the survey\",\n",
    "]\n",
    "\n",
    "# this is going to add new rules to the syntax:\n",
    "grammar1 = FeatureGrammar(\n",
    "    syntax.start(),\n",
    "    syntax.productions() + \\\n",
    "    FeatureGrammar.fromstring(fcfg_storage_answers_a).productions() + \\\n",
    "    FeatureGrammar.fromstring(fcfg_storage_answers_b).productions()\n",
    ")\n",
    "\n",
    "# change `verbose` to see the trees\n",
    "sents_reps = sem_parser(sentences, grammar1, verbose=False)\n",
    "\n",
    "for i, (sent, semreps) in enumerate(sents_reps.items()):\n",
    "    for semrep in semreps:\n",
    "        display_translation(f\"{i}. {sent}\", semrep)\n"
   ]
  },
  {
   "cell_type": "code",
   "execution_count": null,
   "metadata": {},
   "outputs": [],
   "source": [
    "**3c.** Use Mace to show whether any of the readings of the first sentence entail any of the readings of the second sentence. **[1 mark]**"
   ]
  },
  {
   "cell_type": "code",
   "execution_count": null,
   "metadata": {},
   "outputs": [],
   "source": [
    "# Use apply_model_builder from problem-set-2-part2\n",
    "\n",
    "# There is something missing in this code.\n",
    "#apply_model_builder(...,...)"
   ]
  },
  {
   "cell_type": "markdown",
   "metadata": {},
   "source": [
    "**3d.** Use Prover9 to show which readings of the second sentence entail a reading of the first sentence. **[1 mark]**"
   ]
  },
  {
   "cell_type": "code",
   "execution_count": null,
   "metadata": {},
   "outputs": [],
   "source": [
    "# Use apply_theorem_prover from problem-set-2-part2\n",
    "\n",
    "# There is something missing in this code.\n",
    "#apply_theorem_prover(...,...)"
   ]
  },
  {
   "cell_type": "markdown",
   "metadata": {},
   "source": [
    "**3e.** Possibly there is a reading of the second sentence that does not entail the first sentence.\n",
    "Which is it? \n",
    "Explain why the entailment does not hold? Does this reading agree with our intuitions about the meaning of the sentence? **[1 + 2 + 1 = 4 marks]**"
   ]
  },
  {
   "cell_type": "raw",
   "metadata": {},
   "source": [
    "** Your answer **"
   ]
  }
 ],
 "metadata": {
  "kernelspec": {
   "display_name": "Python 3.7.4 64-bit",
   "language": "python",
   "name": "python_defaultSpec_1594816778681"
  },
  "language_info": {
   "codemirror_mode": {
    "name": "ipython",
    "version": 3
   },
   "file_extension": ".py",
   "mimetype": "text/x-python",
   "name": "python",
   "nbconvert_exporter": "python",
   "pygments_lexer": "ipython3",
   "version": "3.8.2"
  }
 },
 "nbformat": 4,
 "nbformat_minor": 4
}