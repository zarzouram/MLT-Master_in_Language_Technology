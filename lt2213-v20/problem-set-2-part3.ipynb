{
 "cells": [
  {
   "cell_type": "markdown",
   "metadata": {},
   "source": [
    "# Problem Set 2 - Part 3 (VG): Ambiguity and Inference\n",
    "\n",
    "This lab should be completed individually.\n",
    "\n",
    "It extend the topics in the previous two parts with additional questions.\n",
    "\n",
    "This assignment has 27 marks in total.\n",
    "\n",
    "### Pre-requisite knowledge\n",
    "\n",
    "From `problem-set-1`:\n",
    "- First order logic\n",
    "- Lambda calculus\n",
    "- Feature unification context free grammar\n",
    "\n",
    "From `problem-set-2-part1.ipynb`:\n",
    "- Cooper storage\n",
    "\n",
    "From `problem-set-2-part2.ipynb`:\n",
    "- Using Prover9\n",
    "- Model building with `mace4`\n"
   ]
  },
  {
   "cell_type": "code",
   "execution_count": 1,
   "metadata": {},
   "outputs": [],
   "source": [
    "# This task needs NLTK and Jupyter Notebook (IPython package).\n",
    "\n",
    "import nltk\n",
    "from nltk.grammar import FeatureGrammar\n",
    "from nltk.sem import cooper_storage as cs\n",
    "\n",
    "from utils import display_latex, display_translation, display_tree, display, Markdown\n",
    "from itertools import zip_longest\n",
    "\n",
    "read_expr = nltk.sem.Expression.fromstring\n",
    "\n",
    "from utils2 import sem_parser, evaluate_sentences, syntax, syntax_notv, compare_synsem, syntax_storage\n",
    "\n",
    "import re"
   ]
  },
  {
   "cell_type": "markdown",
   "metadata": {},
   "source": [
    "## Types in Cooper Storage [12 marks in total]"
   ]
  },
  {
   "cell_type": "markdown",
   "metadata": {},
   "source": [
    "### 1. Types of syntactic categories [5 marks in total]\n",
    "\n",
    "In this question we are going to look at alternative representations for transitive verbs and verb phrases from what you saw in `problem-set-2-part1`. \n",
    "If you look carefully you see that the `TV`, `DTV` categories have simpler representations.\n",
    "That means that `VP`s have to have more complex representations as shown below.\n",
    "If you run the code below you will see that it produces the same readings that you saw earlier with a different grammar."
   ]
  },
  {
   "cell_type": "code",
   "execution_count": 2,
   "metadata": {},
   "outputs": [
    {
     "output_type": "display_data",
     "data": {
      "text/plain": "<IPython.core.display.Markdown object>",
      "text/markdown": "\"0. all dogs bite a bone\": $\\forall\\ x.(dog(x)\\ \\to\\ \\exists\\ z_{1}.(bone(z_{1})\\ \\land\\ bite(x,z_{1})))$"
     },
     "metadata": {}
    },
    {
     "output_type": "display_data",
     "data": {
      "text/plain": "<IPython.core.display.Markdown object>",
      "text/markdown": "\"1. a man gives a bone to every dog\": $\\exists\\ x.(man(x)\\ \\land\\ \\exists\\ z_{7}.(bone(z_{7})\\ \\land\\ \\forall\\ z_{6}.(dog(z_{6})\\ \\to\\ give(x,z_{7},z_{6}))))$"
     },
     "metadata": {}
    },
    {
     "output_type": "display_data",
     "data": {
      "text/plain": "<IPython.core.display.Markdown object>",
      "text/markdown": "\"1. a man gives a bone to every dog\": $\\exists\\ x.(man(x)\\ \\land\\ \\forall\\ z_{4}.(dog(z_{4})\\ \\to\\ \\exists\\ z_{3}.(bone(z_{3})\\ \\land\\ give(x,z_{3},z_{4}))))$"
     },
     "metadata": {}
    },
    {
     "output_type": "display_data",
     "data": {
      "text/plain": "<IPython.core.display.Markdown object>",
      "text/markdown": "\"2. Russia gives Moscow to Napoleon\": $give(russia,moscow,napoleon)$"
     },
     "metadata": {}
    }
   ],
   "source": [
    "fcfg_string = r\"\"\"\n",
    "VP[NUM=?n,SEM=<\\x.(?obj(?v(x)))>] -> TV[NUM=?n,SEM=?v] NP[SEM=?obj]\n",
    "VP[NUM=?n,SEM=<\\x.(?pp(\\y.?obj(?v(x, y))))>] -> DTV[NUM=?n,SEM=?v] NP[SEM=?obj] PP[+TO,SEM=?pp]\n",
    "VP[NUM=?n,SEM=<\\x.(?obj(\\z.?pp(\\y.?v(x, y, z))))>] -> DTV[NUM=?n,SEM=?v] NP[SEM=?obj] PP[+TO,SEM=?pp]\n",
    "\n",
    "TV[NUM=sg,SEM=<\\x y.bite(x,y)>,TNS=pres] -> 'bites'\n",
    "TV[NUM=pl,SEM=<\\x y.bite(x,y)>,TNS=pres] -> 'bite'\n",
    "DTV[NUM=sg,SEM=<\\x z y.give(x,y,z)>,TNS=pres] -> 'gives'\n",
    "DTV[NUM=pl,SEM=<\\x z y.give(x,y,z)>,TNS=pres] -> 'give'\n",
    "\"\"\"\n",
    "\n",
    "# this is going to add new rules to the syntax:\n",
    "new_syntax = FeatureGrammar(\n",
    "    syntax_notv.start(),\n",
    "    syntax_notv.productions() + FeatureGrammar.fromstring(fcfg_string).productions()\n",
    ")\n",
    "\n",
    "sentences = [\n",
    "    'all dogs bite a bone',\n",
    "    'a man gives a bone to every dog',\n",
    "    'Russia gives Moscow to Napoleon',\n",
    "]\n",
    "\n",
    "# change `verbose` to see the trees\n",
    "sents_reps = sem_parser(sentences, new_syntax, verbose=False)\n",
    "\n",
    "for i, (sent, semreps) in enumerate(sents_reps.items()):\n",
    "    for semrep in semreps:\n",
    "        display_translation(f\"{i}. {sent}\", semrep)"
   ]
  },
  {
   "cell_type": "markdown",
   "metadata": {},
   "source": [
    "The aim of this question is to inspect and compare two sets of grammar rules from `syntax`, `new_syntax`:"
   ]
  },
  {
   "cell_type": "code",
   "execution_count": 3,
   "metadata": {
    "tags": []
   },
   "outputs": [
    {
     "output_type": "display_data",
     "data": {
      "text/plain": "<IPython.core.display.Markdown object>",
      "text/markdown": "\n| Category | Grammar 1 | Grammar 2 \n|----------|-----------|----------\n| DTV -> {{STR}} | \\Y X x.X(\\z.Y(\\y.give(x,y,z))) | \\x z y.give(x,y,z)\n| N -> {{STR}} | \\x.bone(x) | \\x.bone(x)\n| N -> {{STR}} | \\x.dog(x) | \\x.dog(x)\n| N -> {{STR}} | \\x.man(x) | \\x.man(x)\n| NP -> Det Nom | ?det(?nom) | ?det(?nom)\n| NP -> PropN | ?np | ?np\n| S -> NP VP | ?subj(?vp) | ?subj(?vp)\n| TV -> {{STR}} | \\X x.X(\\y.bite(x,y)) | \\x y.bite(x,y)\n| VP -> DTV NP PP | ?v(?obj,?pp) | \\x.?pp(\\y.?obj(?v(x,y)))\n| VP -> DTV NP PP | - | \\x.?obj(\\z.?pp(\\y.?v(x,y,z)))\n| VP -> IV | ?v | ?v\n| VP -> TV NP | ?v(?obj) | \\x.?obj(?v(x))\n"
     },
     "metadata": {}
    }
   ],
   "source": [
    "# display the comparison\n",
    "table = \"\"\"\n",
    "| Category | Grammar 1 | Grammar 2 \n",
    "|----------|-----------|----------\n",
    "\"\"\"\n",
    "for cat, sem1, sem2 in compare_synsem(syntax, new_syntax):\n",
    "    if cat[0] in ['VP', 'DTV', 'TV', 'IV','NP', 'S', 'N']:\n",
    "        table += f\"| {cat[0]} -> {cat[1]} | {'-' if sem1 is None else sem1} | {'-' if sem2 is None else sem2}\\n\"\n",
    "\n",
    "display(Markdown(table))"
   ]
  },
  {
   "cell_type": "markdown",
   "metadata": {},
   "source": [
    "**1a.** What are the semantic types of each syntactic category?\n",
    "Compare `new_syntax` with `syntax` imported form `util2.py`. \n",
    "\n",
    "Write types in `???`. **[4 marks]**"
   ]
  },
  {
   "cell_type": "markdown",
   "metadata": {},
   "source": [
    "|\tSyntactic Type\t|\tGrammar 1\t\t\t        |\tGrammar 2\t\t\t      | \n",
    "|-------------------|:------------------------------|:----------------------------| \n",
    "| S\t\t\t\t\t| `t`\t\t\t\t\t        | `t`\t\t\t\t\t      |\n",
    "| DET\t\t\t\t| `<<e,t>,<<e,t>,t>>`\t        | `<<e,t>,e>`\t      |\n",
    "| N\t\t\t\t\t| `<e,t>`\t\t\t\t        | `<e,t>`\t\t\t\t      |\n",
    "| IV\t\t\t\t| `<e,t>`\t\t\t\t\t    | `<e,t>`\t\t\t\t      |\n",
    "| TV\t\t\t\t| `<<<e,t>,t>,<e,t>>`\t\t    | `<e,<e,t>>`\t\t\t\t  |\n",
    "| DTV\t\t\t\t| `<<<e,t>,t>,<<<e,t>,t>,<e,t>>>`| `<e,<e,<e,t>>>`\t\t\t  |\n",
    "| NP\t\t\t\t| `<<e,t>,t>`\t\t\t\t\t| `<e>`\t\t\t  |\n",
    "| PP\t\t\t\t| `<<e,t>,t>`\t\t\t\t\t| `\t<e>`\t\t\t      |\n",
    "| VP\t\t\t\t| `<e,t>`\t\t\t\t\t    | `<e,t>`\t\t\t\t\t  |\n"
   ]
  },
  {
   "cell_type": "markdown",
   "metadata": {},
   "source": [
    "**1b.** There are two simple ways to construct lambda terms in lambda calculus:\n",
    "\n",
    "|\tLambda Syntax\t|\tName\t\t\t\t|\tDescription\t\t\t|\n",
    "|-------------------|-----------------------|-----------------------|\n",
    "|\tP(X)\t\t\t|\tapplication (app)\t|\tapplying P on X.\t|\n",
    "|\t\\x.P\t\t\t|\tabstraction (abs)\t|\tfunction definition.|\n",
    "\n",
    "Compare the composition of non-terminal nodes as implemented in two grammars **[1 mark]**:"
   ]
  },
  {
   "cell_type": "markdown",
   "metadata": {},
   "source": [
    "|\tSyntactic Type\t\t|\tGrammar 1\t\t|\tGrammar 2\t\t| \n",
    "|-----------------------|-------------------|-------------------| \n",
    "|\t`S  -> NP VP`\t\t|\tapp\t\t\t\t|\tapp\t\t\t\t|\n",
    "|\t`VP -> IV`\t\t\t|\tnone\t\t\t|\tnone\t\t\t|\n",
    "|\t`NP -> DET Nom`\t\t|\t`abs`\t\t    |\t`app`\t        |\n",
    "|\t`VP -> TV NP`\t\t|\t`app`\t        |\tabs,app\t\t\t|\n",
    "|\t`VP -> DTV NP PP`\t|\t`app, app`\t\t\t|\t`abs, app, app`\t\t|\n"
   ]
  },
  {
   "cell_type": "markdown",
   "metadata": {},
   "source": [
    "### 2. A new conjunction rule [7 marks in total]\n",
    "\n",
    "The grammar below implements Cooper Storage - in fact this version is included as `storage.fcfg` with NLTK. In the lecture and in the previous part of this assignment we used our modified version. The goal of this question is to examine why we had to modify this version of the grammar. In this grammar the lexical representations of verbs are basic but their compositions with NPs are not complex as in Question 1 of this notebook. Therefore, this grammar also requires a different conjunction rule from the one in `problem-set-2-part1`.\n",
    "\n",
    "Run the code below and answer questions:"
   ]
  },
  {
   "cell_type": "code",
   "execution_count": 4,
   "metadata": {
    "scrolled": true
   },
   "outputs": [],
   "source": [
    "fcfg_storage = r\"\"\"\n",
    "%start S\n",
    "\n",
    "S[SEM=[CORE=<?vp(?subj)>, STORE=(?b1+?b2)]] -> NP[SEM=[CORE=?subj, STORE=?b1]] VP[SEM=[CORE=?vp, STORE=?b2]]\n",
    "\n",
    "VP[SEM=?v] -> IV[SEM=?v]\n",
    "VP[SEM=[CORE=<?v(?obj)>, STORE=(?b1+?b2)]] -> TV[SEM=[CORE=?v, STORE=?b1]] NP[SEM=[CORE=?obj, STORE=?b2]]\n",
    "VP[SEM=[CORE=<?v(?pp)(?obj)>, STORE=(?b1+?b2+?b3)]] -> DTV[SEM=[CORE=?v, STORE=?b1]] NP[SEM=[CORE=?obj, STORE=?b2]] PP[+TO, SEM=[CORE=?pp, STORE=?b3]]  \n",
    "\n",
    "NP[SEM=[CORE=<@x>, STORE=((<bo(?det(?nom),@x)>)+?b1+?b2)]] -> Det[SEM=[CORE=?det, STORE=?b1]] Nom[SEM=[CORE=?nom, STORE=?b2]]\n",
    "Nom[SEM=?n] -> N[SEM=?n]\n",
    "NP[SEM=?np] -> PropN[SEM=?np]\n",
    "\n",
    "PP[+TO, SEM=[CORE=?np, STORE=?b1]] -> P NP[SEM=[CORE=?np, STORE=?b1]]\n",
    "\n",
    "# Lexical items:\n",
    "Det[SEM=[CORE=<\\Q P.exists x.(Q(x) & P(x))>, STORE=(/)]] -> 'a'\n",
    "Det[SEM=[CORE=<\\Q P.all x.(Q(x) implies P(x))>, STORE=(/)]] -> 'every'\n",
    "\n",
    "N[SEM=[CORE=<\\x.library(x)>, STORE=(/)]] -> 'library' \n",
    "N[SEM=[CORE=<\\x.book(x)>, STORE=(/)]] -> 'book' \n",
    "N[SEM=[CORE=<\\x.girl(x)>, STORE=(/)]] -> 'girl'\n",
    "N[SEM=[CORE=<\\x.boy(x)>, STORE=(/)]] -> 'boy'\n",
    "\n",
    "IV[SEM=[CORE=<\\x.smile(x)>, STORE=(/)]] -> 'smiles' \n",
    "IV[SEM=[CORE=<\\x.walk(x)>, STORE=(/)]] -> 'walks'\n",
    "\n",
    "TV[SEM=[CORE=<\\y x.read(x,y)>, STORE=(/)]] -> 'reads' \n",
    "\n",
    "DTV[SEM=[CORE=<\\z y x.give(x,y,z)>, STORE=(/)]] -> 'gives' \n",
    "\n",
    "PropN[SEM=[CORE=<@x>, STORE=(<bo(\\P.P(angus),@x)>)]] -> 'Angus' \n",
    "PropN[SEM=[CORE=<@x>, STORE=(<bo(\\P.P(cyril),@x)>)]] -> 'Cyril'\n",
    "\n",
    "P[+TO] -> 'to'\n",
    "\"\"\""
   ]
  },
  {
   "cell_type": "markdown",
   "metadata": {},
   "source": [
    "Let us compare the construction of representations in `SEM.CORE` with the grammar in Question 1:"
   ]
  },
  {
   "cell_type": "code",
   "execution_count": 5,
   "metadata": {},
   "outputs": [
    {
     "output_type": "display_data",
     "data": {
      "text/plain": "<IPython.core.display.Markdown object>",
      "text/markdown": "\n| Category | Grammar 2 | Grammar 3 - CORE | Grammar 3 - STORE\n|----------|-----------|------------------|-------------------\n| `DTV -> {{STR}}` | `\\x z y.give(x,y,z)` | `-` | `-` \n| `DTV -> {{STR}}` | `\\x z y.give(x,y,z)` | `\\z y x.give(x,y,z)` | `-` \n| `NP -> Det Nom` | `?det(?nom)` | `@x` | `@x --> ?det(?nom)` \n| `NP -> PropN` | `?np` | `?np` | `-` \n| `PP -> P NP` | `?np` | `?np` | `-` \n| `S -> NP VP` | `?subj(?vp)` | `?vp(?subj)` | `-` \n| `TV -> {{STR}}` | `\\x y.bite(x,y)` | `\\y x.read(x,y)` | `-` \n| `TV -> {{STR}}` | `\\x y.bite(x,y)` | `-` | `-` \n| `VP -> DTV NP PP` | `\\x.?pp(\\y.?obj(?v(x,y)))` | `?v(?pp,?obj)` | `-` \n| `VP -> DTV NP PP` | `\\x.?obj(\\z.?pp(\\y.?v(x,y,z)))` | `-` | `-` \n| `VP -> IV` | `?v` | `?v` | `-` \n| `VP -> TV NP` | `\\x.?obj(?v(x))` | `?v(?obj)` | `-` \n"
     },
     "metadata": {}
    }
   ],
   "source": [
    "cs_syntax = FeatureGrammar.fromstring(fcfg_storage)\n",
    "\n",
    "# display the comparison\n",
    "table = \"\"\"\n",
    "| Category | Grammar 2 | Grammar 3 - CORE | Grammar 3 - STORE\n",
    "|----------|-----------|------------------|-------------------\n",
    "\"\"\"\n",
    "for cat, sem1, sem2 in compare_synsem(cs_syntax, new_syntax):\n",
    "    if cat[0] in ['VP', 'DTV', 'TV', 'NP', 'S', 'PP']:\n",
    "        if sem1 is not None and type(sem1)!=nltk.grammar.FeatStructNonterminal:\n",
    "             # then there is a semantic representation, but its not structured:\n",
    "            core = sem1\n",
    "            store = '-'\n",
    "        elif type(sem1)==nltk.grammar.FeatStructNonterminal:\n",
    "            # then the semantic representation is structured:\n",
    "            core = str(sem1['CORE'])\n",
    "            store = \"\"\n",
    "            # find the binding operations introduced here:\n",
    "            for bo in re.findall(r'\\(bo\\((.+)\\)\\)', str(sem1['STORE'])):\n",
    "                rep, ref = tuple(bo.split(','))\n",
    "                store += f\"{ref} --> {rep}\" \n",
    "                \n",
    "            # if there is no new binding then ignore the store:\n",
    "            if store == \"\":\n",
    "                store = '-'\n",
    "        else:\n",
    "            # then there is no semantic representation:\n",
    "            core = '-'\n",
    "            store = '-'\n",
    "            \n",
    "        if sem2 is None:\n",
    "            sem2 = '-'\n",
    "            \n",
    "        table += f\"| `{cat[0]} -> {cat[1]}` \" +\\\n",
    "                 f\"| `{sem2}` \" +\\\n",
    "                 f\"| `{core}` \" +\\\n",
    "                 f\"| `{store}` \" +\\\n",
    "                  \"\\n\"\n",
    "\n",
    "display(Markdown(table))"
   ]
  },
  {
   "cell_type": "markdown",
   "metadata": {},
   "source": [
    "**2a.** What are the types of representations in `SEM.CORE` for each syntactic category? **[2 marks]**"
   ]
  },
  {
   "cell_type": "markdown",
   "metadata": {},
   "source": [
    "|\tSyntactic Type\t|\tGrammar 3 -\tCORE\t\n",
    "|-------------------|-----------------------\n",
    "| S\t\t\t\t\t| `t`\t\t\t\t\t\n",
    "| Det\t\t\t\t| `<<e,t>,e>`\t\t\t\t\t\n",
    "| N\t\t\t\t\t| `<e,t>`\t\t\t\t\t\n",
    "| IV\t\t\t\t| `<e,t>`\t\t\t\t\t\n",
    "| TV\t\t\t\t| `<e,<e,t>>`\t\t\t\t\t\n",
    "| DTV\t\t\t\t| `<e,<e,<e,t>>>`\t\t\t\t\t\n",
    "| NP\t\t\t\t| `<e>`\t\t\t\t\t\n",
    "| PP\t\t\t\t| `<e>`\t\t\t\t\t\n",
    "| VP\t\t\t\t| `<e,t>`\t\t\t\t\t\n"
   ]
  },
  {
   "cell_type": "markdown",
   "metadata": {},
   "source": [
    "**2b.** Compare the composition of non-terminal nodes in Cooper Storage and the grammar from the previous question. Fill in `???`. **[1 mark]**"
   ]
  },
  {
   "cell_type": "markdown",
   "metadata": {},
   "source": [
    "|\tSyntactic Type\t\t|\tGrammar Basic-CS\t|\tGrammar 2\t\t| \n",
    "|-----------------------|-----------------------|-------------------| \n",
    "|\t`S  -> NP VP`\t\t|\t`app`\t\t\t\t|\tapp\t\t\t\t|\n",
    "|\t`VP -> IV`\t\t\t|\tnone\t\t\t\t|\tnone\t\t\t|\n",
    "|\t`NP -> DET Nom`\t\t|\t`store: app`\t\t\t\t|\t`app`\t\t\t|\n",
    "|\t`VP -> TV NP`\t\t|\t`app`\t\t\t\t|\tabs/app\t\t\t|\n",
    "|\t`VP -> DTV NP PP`\t|\t`app`\t\t\t\t|\t`abs/app/app`\t\t\t|\n"
   ]
  },
  {
   "cell_type": "markdown",
   "metadata": {},
   "source": [
    "**2c.** What are other differences between two representations?. **[1 mark]**"
   ]
  },
  {
   "cell_type": "raw",
   "metadata": {},
   "source": [
    "** Write answers here **\n",
    "\n",
    "..."
   ]
  },
  {
   "cell_type": "markdown",
   "metadata": {},
   "source": [
    "**2d.** Finish the rule where the conjunction is handled in the  `STORE` by replacing `xxx` with an appropriate lambda function and then uncomment the rule. **[2 marks]**"
   ]
  },
  {
   "cell_type": "code",
   "execution_count": 6,
   "metadata": {},
   "outputs": [
    {
     "output_type": "display_data",
     "data": {
      "text/plain": "<IPython.core.display.Markdown object>",
      "text/markdown": "\"1\": $\\exists\\ x.(boy(x)\\ \\land\\ \\exists\\ z_{13}.(girl(z_{13})\\ \\land\\ \\exists\\ z_{11}.(book(z_{11})\\ \\land\\ \\forall\\ z_{10}.(library(z_{10})\\ \\to\\ give(z_{10},z_{11},z_{13})))\\ \\land\\ \\exists\\ z_{12}.(book(z_{12})\\ \\land\\ \\forall\\ z_{10}.(library(z_{10})\\ \\to\\ give(z_{10},z_{12},x)))))$"
     },
     "metadata": {}
    },
    {
     "output_type": "display_data",
     "data": {
      "text/plain": "<IPython.core.display.Markdown object>",
      "text/markdown": "\"2\": $\\exists\\ x.(girl(x)\\ \\land\\ \\exists\\ z_{17}.(boy(z_{17})\\ \\land\\ \\exists\\ z_{15}.(book(z_{15})\\ \\land\\ \\forall\\ z_{14}.(library(z_{14})\\ \\to\\ give(z_{14},z_{15},x)))\\ \\land\\ \\exists\\ z_{16}.(book(z_{16})\\ \\land\\ \\forall\\ z_{14}.(library(z_{14})\\ \\to\\ give(z_{14},z_{16},z_{17})))))$"
     },
     "metadata": {}
    },
    {
     "output_type": "display_data",
     "data": {
      "text/plain": "<IPython.core.display.Markdown object>",
      "text/markdown": "\"3\": $\\exists\\ x.(boy(x)\\ \\land\\ \\exists\\ z_{35}.(girl(z_{35})\\ \\land\\ \\exists\\ z_{34}.(book(z_{34})\\ \\land\\ \\forall\\ z_{32}.(library(z_{32})\\ \\to\\ give(z_{32},z_{34},z_{35}))\\ \\land\\ \\forall\\ z_{33}.(library(z_{33})\\ \\to\\ give(z_{33},z_{34},x)))))$"
     },
     "metadata": {}
    },
    {
     "output_type": "display_data",
     "data": {
      "text/plain": "<IPython.core.display.Markdown object>",
      "text/markdown": "\"4\": $\\exists\\ x.(girl(x)\\ \\land\\ \\exists\\ z_{39}.(boy(z_{39})\\ \\land\\ \\exists\\ z_{38}.(book(z_{38})\\ \\land\\ \\forall\\ z_{36}.(library(z_{36})\\ \\to\\ give(z_{36},z_{38},x))\\ \\land\\ \\forall\\ z_{37}.(library(z_{37})\\ \\to\\ give(z_{37},z_{38},z_{39})))))$"
     },
     "metadata": {}
    },
    {
     "output_type": "display_data",
     "data": {
      "text/plain": "<IPython.core.display.Markdown object>",
      "text/markdown": "\"5\": $\\exists\\ x.(boy(x)\\ \\land\\ \\exists\\ z_{43}.(book(z_{43})\\ \\land\\ \\exists\\ z_{42}.(girl(z_{42})\\ \\land\\ \\forall\\ z_{40}.(library(z_{40})\\ \\to\\ give(z_{40},z_{43},z_{42}))\\ \\land\\ \\forall\\ z_{41}.(library(z_{41})\\ \\to\\ give(z_{41},z_{43},x)))))$"
     },
     "metadata": {}
    },
    {
     "output_type": "display_data",
     "data": {
      "text/plain": "<IPython.core.display.Markdown object>",
      "text/markdown": "\"6\": $\\exists\\ x.(book(x)\\ \\land\\ \\exists\\ z_{47}.(boy(z_{47})\\ \\land\\ \\exists\\ z_{46}.(girl(z_{46})\\ \\land\\ \\forall\\ z_{44}.(library(z_{44})\\ \\to\\ give(z_{44},x,z_{46}))\\ \\land\\ \\forall\\ z_{45}.(library(z_{45})\\ \\to\\ give(z_{45},x,z_{47})))))$"
     },
     "metadata": {}
    },
    {
     "output_type": "display_data",
     "data": {
      "text/plain": "<IPython.core.display.Markdown object>",
      "text/markdown": "\"7\": $\\exists\\ x.(girl(x)\\ \\land\\ \\exists\\ z_{51}.(book(z_{51})\\ \\land\\ \\exists\\ z_{50}.(boy(z_{50})\\ \\land\\ \\forall\\ z_{48}.(library(z_{48})\\ \\to\\ give(z_{48},z_{51},x))\\ \\land\\ \\forall\\ z_{49}.(library(z_{49})\\ \\to\\ give(z_{49},z_{51},z_{50})))))$"
     },
     "metadata": {}
    },
    {
     "output_type": "display_data",
     "data": {
      "text/plain": "<IPython.core.display.Markdown object>",
      "text/markdown": "\"8\": $\\exists\\ x.(book(x)\\ \\land\\ \\exists\\ z_{55}.(girl(z_{55})\\ \\land\\ \\exists\\ z_{54}.(boy(z_{54})\\ \\land\\ \\forall\\ z_{52}.(library(z_{52})\\ \\to\\ give(z_{52},x,z_{55}))\\ \\land\\ \\forall\\ z_{53}.(library(z_{53})\\ \\to\\ give(z_{53},x,z_{54})))))$"
     },
     "metadata": {}
    },
    {
     "output_type": "display_data",
     "data": {
      "text/plain": "<IPython.core.display.Markdown object>",
      "text/markdown": "\"9\": $\\exists\\ x.(boy(x)\\ \\land\\ \\exists\\ z_{103}.(girl(z_{103})\\ \\land\\ \\forall\\ z_{101}.(library(z_{101})\\ \\to\\ \\exists\\ z_{100}.(book(z_{100})\\ \\land\\ give(z_{101},z_{100},z_{103})))\\ \\land\\ \\forall\\ z_{102}.(library(z_{102})\\ \\to\\ \\exists\\ z_{100}.(book(z_{100})\\ \\land\\ give(z_{102},z_{100},x)))))$"
     },
     "metadata": {}
    },
    {
     "output_type": "display_data",
     "data": {
      "text/plain": "<IPython.core.display.Markdown object>",
      "text/markdown": "\"10\": $\\exists\\ x.(girl(x)\\ \\land\\ \\exists\\ z_{107}.(boy(z_{107})\\ \\land\\ \\forall\\ z_{105}.(library(z_{105})\\ \\to\\ \\exists\\ z_{104}.(book(z_{104})\\ \\land\\ give(z_{105},z_{104},x)))\\ \\land\\ \\forall\\ z_{106}.(library(z_{106})\\ \\to\\ \\exists\\ z_{104}.(book(z_{104})\\ \\land\\ give(z_{106},z_{104},z_{107})))))$"
     },
     "metadata": {}
    },
    {
     "output_type": "display_data",
     "data": {
      "text/plain": "<IPython.core.display.Markdown object>",
      "text/markdown": "\"11\": $\\exists\\ x.(boy(x)\\ \\land\\ \\exists\\ z_{125}.(girl(z_{125})\\ \\land\\ \\forall\\ z_{124}.(library(z_{124})\\ \\to\\ (\\exists\\ z_{122}.(book(z_{122})\\ \\land\\ give(z_{124},z_{122},z_{125}))\\ \\land\\ \\exists\\ z_{123}.(book(z_{123})\\ \\land\\ give(z_{124},z_{123},x))))))$"
     },
     "metadata": {}
    },
    {
     "output_type": "display_data",
     "data": {
      "text/plain": "<IPython.core.display.Markdown object>",
      "text/markdown": "\"12\": $\\exists\\ x.(girl(x)\\ \\land\\ \\exists\\ z_{129}.(boy(z_{129})\\ \\land\\ \\forall\\ z_{128}.(library(z_{128})\\ \\to\\ (\\exists\\ z_{126}.(book(z_{126})\\ \\land\\ give(z_{128},z_{126},x))\\ \\land\\ \\exists\\ z_{127}.(book(z_{127})\\ \\land\\ give(z_{128},z_{127},z_{129}))))))$"
     },
     "metadata": {}
    },
    {
     "output_type": "display_data",
     "data": {
      "text/plain": "<IPython.core.display.Markdown object>",
      "text/markdown": "\"13\": $\\exists\\ x.(boy(x)\\ \\land\\ \\forall\\ z_{133}.(library(z_{133})\\ \\to\\ \\exists\\ z_{132}.(girl(z_{132})\\ \\land\\ \\exists\\ z_{130}.(book(z_{130})\\ \\land\\ give(z_{133},z_{130},z_{132}))\\ \\land\\ \\exists\\ z_{131}.(book(z_{131})\\ \\land\\ give(z_{133},z_{131},x)))))$"
     },
     "metadata": {}
    },
    {
     "output_type": "display_data",
     "data": {
      "text/plain": "<IPython.core.display.Markdown object>",
      "text/markdown": "\"14\": $\\forall\\ x.(library(x)\\ \\to\\ \\exists\\ z_{137}.(boy(z_{137})\\ \\land\\ \\exists\\ z_{136}.(girl(z_{136})\\ \\land\\ \\exists\\ z_{134}.(book(z_{134})\\ \\land\\ give(x,z_{134},z_{136}))\\ \\land\\ \\exists\\ z_{135}.(book(z_{135})\\ \\land\\ give(x,z_{135},z_{137})))))$"
     },
     "metadata": {}
    },
    {
     "output_type": "display_data",
     "data": {
      "text/plain": "<IPython.core.display.Markdown object>",
      "text/markdown": "\"15\": $\\exists\\ x.(girl(x)\\ \\land\\ \\forall\\ z_{141}.(library(z_{141})\\ \\to\\ \\exists\\ z_{140}.(boy(z_{140})\\ \\land\\ \\exists\\ z_{138}.(book(z_{138})\\ \\land\\ give(z_{141},z_{138},x))\\ \\land\\ \\exists\\ z_{139}.(book(z_{139})\\ \\land\\ give(z_{141},z_{139},z_{140})))))$"
     },
     "metadata": {}
    },
    {
     "output_type": "display_data",
     "data": {
      "text/plain": "<IPython.core.display.Markdown object>",
      "text/markdown": "\"16\": $\\forall\\ x.(library(x)\\ \\to\\ \\exists\\ z_{145}.(girl(z_{145})\\ \\land\\ \\exists\\ z_{144}.(boy(z_{144})\\ \\land\\ \\exists\\ z_{142}.(book(z_{142})\\ \\land\\ give(x,z_{142},z_{145}))\\ \\land\\ \\exists\\ z_{143}.(book(z_{143})\\ \\land\\ give(x,z_{143},z_{144})))))$"
     },
     "metadata": {}
    },
    {
     "output_type": "display_data",
     "data": {
      "text/plain": "<IPython.core.display.Markdown object>",
      "text/markdown": "\"17\": $\\exists\\ x.(boy(x)\\ \\land\\ \\exists\\ z_{192}.(girl(z_{192})\\ \\land\\ \\exists\\ z_{191}.(book(z_{191})\\ \\land\\ \\forall\\ z_{190}.(library(z_{190})\\ \\to\\ (give(z_{190},z_{191},z_{192})\\ \\land\\ give(z_{190},z_{191},x))))))$"
     },
     "metadata": {}
    },
    {
     "output_type": "display_data",
     "data": {
      "text/plain": "<IPython.core.display.Markdown object>",
      "text/markdown": "\"18\": $\\exists\\ x.(girl(x)\\ \\land\\ \\exists\\ z_{195}.(boy(z_{195})\\ \\land\\ \\exists\\ z_{194}.(book(z_{194})\\ \\land\\ \\forall\\ z_{193}.(library(z_{193})\\ \\to\\ (give(z_{193},z_{194},x)\\ \\land\\ give(z_{193},z_{194},z_{195}))))))$"
     },
     "metadata": {}
    },
    {
     "output_type": "display_data",
     "data": {
      "text/plain": "<IPython.core.display.Markdown object>",
      "text/markdown": "\"19\": $\\exists\\ x.(boy(x)\\ \\land\\ \\exists\\ z_{198}.(book(z_{198})\\ \\land\\ \\exists\\ z_{197}.(girl(z_{197})\\ \\land\\ \\forall\\ z_{196}.(library(z_{196})\\ \\to\\ (give(z_{196},z_{198},z_{197})\\ \\land\\ give(z_{196},z_{198},x))))))$"
     },
     "metadata": {}
    },
    {
     "output_type": "display_data",
     "data": {
      "text/plain": "<IPython.core.display.Markdown object>",
      "text/markdown": "\"20\": $\\exists\\ x.(book(x)\\ \\land\\ \\exists\\ z_{201}.(boy(z_{201})\\ \\land\\ \\exists\\ z_{200}.(girl(z_{200})\\ \\land\\ \\forall\\ z_{199}.(library(z_{199})\\ \\to\\ (give(z_{199},x,z_{200})\\ \\land\\ give(z_{199},x,z_{201}))))))$"
     },
     "metadata": {}
    },
    {
     "output_type": "display_data",
     "data": {
      "text/plain": "<IPython.core.display.Markdown object>",
      "text/markdown": "\"21\": $\\exists\\ x.(girl(x)\\ \\land\\ \\exists\\ z_{204}.(book(z_{204})\\ \\land\\ \\exists\\ z_{203}.(boy(z_{203})\\ \\land\\ \\forall\\ z_{202}.(library(z_{202})\\ \\to\\ (give(z_{202},z_{204},x)\\ \\land\\ give(z_{202},z_{204},z_{203}))))))$"
     },
     "metadata": {}
    },
    {
     "output_type": "display_data",
     "data": {
      "text/plain": "<IPython.core.display.Markdown object>",
      "text/markdown": "\"22\": $\\exists\\ x.(book(x)\\ \\land\\ \\exists\\ z_{207}.(girl(z_{207})\\ \\land\\ \\exists\\ z_{206}.(boy(z_{206})\\ \\land\\ \\forall\\ z_{205}.(library(z_{205})\\ \\to\\ (give(z_{205},x,z_{207})\\ \\land\\ give(z_{205},x,z_{206}))))))$"
     },
     "metadata": {}
    },
    {
     "output_type": "display_data",
     "data": {
      "text/plain": "<IPython.core.display.Markdown object>",
      "text/markdown": "\"23\": $\\exists\\ x.(boy(x)\\ \\land\\ \\exists\\ z_{210}.(girl(z_{210})\\ \\land\\ \\forall\\ z_{209}.(library(z_{209})\\ \\to\\ \\exists\\ z_{208}.(book(z_{208})\\ \\land\\ give(z_{209},z_{208},z_{210})\\ \\land\\ give(z_{209},z_{208},x)))))$"
     },
     "metadata": {}
    },
    {
     "output_type": "display_data",
     "data": {
      "text/plain": "<IPython.core.display.Markdown object>",
      "text/markdown": "\"24\": $\\exists\\ x.(girl(x)\\ \\land\\ \\exists\\ z_{213}.(boy(z_{213})\\ \\land\\ \\forall\\ z_{212}.(library(z_{212})\\ \\to\\ \\exists\\ z_{211}.(book(z_{211})\\ \\land\\ give(z_{212},z_{211},x)\\ \\land\\ give(z_{212},z_{211},z_{213})))))$"
     },
     "metadata": {}
    },
    {
     "output_type": "display_data",
     "data": {
      "text/plain": "<IPython.core.display.Markdown object>",
      "text/markdown": "\"25\": $\\exists\\ x.(boy(x)\\ \\land\\ \\forall\\ z_{216}.(library(z_{216})\\ \\to\\ \\exists\\ z_{215}.(girl(z_{215})\\ \\land\\ \\exists\\ z_{214}.(book(z_{214})\\ \\land\\ give(z_{216},z_{214},z_{215})\\ \\land\\ give(z_{216},z_{214},x)))))$"
     },
     "metadata": {}
    },
    {
     "output_type": "display_data",
     "data": {
      "text/plain": "<IPython.core.display.Markdown object>",
      "text/markdown": "\"26\": $\\forall\\ x.(library(x)\\ \\to\\ \\exists\\ z_{219}.(boy(z_{219})\\ \\land\\ \\exists\\ z_{218}.(girl(z_{218})\\ \\land\\ \\exists\\ z_{217}.(book(z_{217})\\ \\land\\ give(x,z_{217},z_{218})\\ \\land\\ give(x,z_{217},z_{219})))))$"
     },
     "metadata": {}
    },
    {
     "output_type": "display_data",
     "data": {
      "text/plain": "<IPython.core.display.Markdown object>",
      "text/markdown": "\"27\": $\\exists\\ x.(girl(x)\\ \\land\\ \\forall\\ z_{222}.(library(z_{222})\\ \\to\\ \\exists\\ z_{221}.(boy(z_{221})\\ \\land\\ \\exists\\ z_{220}.(book(z_{220})\\ \\land\\ give(z_{222},z_{220},x)\\ \\land\\ give(z_{222},z_{220},z_{221})))))$"
     },
     "metadata": {}
    },
    {
     "output_type": "display_data",
     "data": {
      "text/plain": "<IPython.core.display.Markdown object>",
      "text/markdown": "\"28\": $\\forall\\ x.(library(x)\\ \\to\\ \\exists\\ z_{225}.(girl(z_{225})\\ \\land\\ \\exists\\ z_{224}.(boy(z_{224})\\ \\land\\ \\exists\\ z_{223}.(book(z_{223})\\ \\land\\ give(x,z_{223},z_{225})\\ \\land\\ give(x,z_{223},z_{224})))))$"
     },
     "metadata": {}
    },
    {
     "output_type": "display_data",
     "data": {
      "text/plain": "<IPython.core.display.Markdown object>",
      "text/markdown": "\"29\": $\\exists\\ x.(boy(x)\\ \\land\\ \\exists\\ z_{228}.(book(z_{228})\\ \\land\\ \\forall\\ z_{227}.(library(z_{227})\\ \\to\\ \\exists\\ z_{226}.(girl(z_{226})\\ \\land\\ give(z_{227},z_{228},z_{226})\\ \\land\\ give(z_{227},z_{228},x)))))$"
     },
     "metadata": {}
    },
    {
     "output_type": "display_data",
     "data": {
      "text/plain": "<IPython.core.display.Markdown object>",
      "text/markdown": "\"30\": $\\exists\\ x.(book(x)\\ \\land\\ \\exists\\ z_{231}.(boy(z_{231})\\ \\land\\ \\forall\\ z_{230}.(library(z_{230})\\ \\to\\ \\exists\\ z_{229}.(girl(z_{229})\\ \\land\\ give(z_{230},x,z_{229})\\ \\land\\ give(z_{230},x,z_{231})))))$"
     },
     "metadata": {}
    },
    {
     "output_type": "display_data",
     "data": {
      "text/plain": "<IPython.core.display.Markdown object>",
      "text/markdown": "\"31\": $\\exists\\ x.(boy(x)\\ \\land\\ \\forall\\ z_{234}.(library(z_{234})\\ \\to\\ \\exists\\ z_{233}.(book(z_{233})\\ \\land\\ \\exists\\ z_{232}.(girl(z_{232})\\ \\land\\ give(z_{234},z_{233},z_{232})\\ \\land\\ give(z_{234},z_{233},x)))))$"
     },
     "metadata": {}
    },
    {
     "output_type": "display_data",
     "data": {
      "text/plain": "<IPython.core.display.Markdown object>",
      "text/markdown": "\"32\": $\\forall\\ x.(library(x)\\ \\to\\ \\exists\\ z_{237}.(boy(z_{237})\\ \\land\\ \\exists\\ z_{236}.(book(z_{236})\\ \\land\\ \\exists\\ z_{235}.(girl(z_{235})\\ \\land\\ give(x,z_{236},z_{235})\\ \\land\\ give(x,z_{236},z_{237})))))$"
     },
     "metadata": {}
    },
    {
     "output_type": "display_data",
     "data": {
      "text/plain": "<IPython.core.display.Markdown object>",
      "text/markdown": "\"33\": $\\exists\\ x.(book(x)\\ \\land\\ \\forall\\ z_{240}.(library(z_{240})\\ \\to\\ \\exists\\ z_{239}.(boy(z_{239})\\ \\land\\ \\exists\\ z_{238}.(girl(z_{238})\\ \\land\\ give(z_{240},x,z_{238})\\ \\land\\ give(z_{240},x,z_{239})))))$"
     },
     "metadata": {}
    },
    {
     "output_type": "display_data",
     "data": {
      "text/plain": "<IPython.core.display.Markdown object>",
      "text/markdown": "\"34\": $\\forall\\ x.(library(x)\\ \\to\\ \\exists\\ z_{243}.(book(z_{243})\\ \\land\\ \\exists\\ z_{242}.(boy(z_{242})\\ \\land\\ \\exists\\ z_{241}.(girl(z_{241})\\ \\land\\ give(x,z_{243},z_{241})\\ \\land\\ give(x,z_{243},z_{242})))))$"
     },
     "metadata": {}
    },
    {
     "output_type": "display_data",
     "data": {
      "text/plain": "<IPython.core.display.Markdown object>",
      "text/markdown": "\"35\": $\\exists\\ x.(girl(x)\\ \\land\\ \\exists\\ z_{246}.(book(z_{246})\\ \\land\\ \\forall\\ z_{245}.(library(z_{245})\\ \\to\\ \\exists\\ z_{244}.(boy(z_{244})\\ \\land\\ give(z_{245},z_{246},x)\\ \\land\\ give(z_{245},z_{246},z_{244})))))$"
     },
     "metadata": {}
    },
    {
     "output_type": "display_data",
     "data": {
      "text/plain": "<IPython.core.display.Markdown object>",
      "text/markdown": "\"36\": $\\exists\\ x.(book(x)\\ \\land\\ \\exists\\ z_{249}.(girl(z_{249})\\ \\land\\ \\forall\\ z_{248}.(library(z_{248})\\ \\to\\ \\exists\\ z_{247}.(boy(z_{247})\\ \\land\\ give(z_{248},x,z_{249})\\ \\land\\ give(z_{248},x,z_{247})))))$"
     },
     "metadata": {}
    },
    {
     "output_type": "display_data",
     "data": {
      "text/plain": "<IPython.core.display.Markdown object>",
      "text/markdown": "\"37\": $\\exists\\ x.(girl(x)\\ \\land\\ \\forall\\ z_{252}.(library(z_{252})\\ \\to\\ \\exists\\ z_{251}.(book(z_{251})\\ \\land\\ \\exists\\ z_{250}.(boy(z_{250})\\ \\land\\ give(z_{252},z_{251},x)\\ \\land\\ give(z_{252},z_{251},z_{250})))))$"
     },
     "metadata": {}
    },
    {
     "output_type": "display_data",
     "data": {
      "text/plain": "<IPython.core.display.Markdown object>",
      "text/markdown": "\"38\": $\\forall\\ x.(library(x)\\ \\to\\ \\exists\\ z_{255}.(girl(z_{255})\\ \\land\\ \\exists\\ z_{254}.(book(z_{254})\\ \\land\\ \\exists\\ z_{253}.(boy(z_{253})\\ \\land\\ give(x,z_{254},z_{255})\\ \\land\\ give(x,z_{254},z_{253})))))$"
     },
     "metadata": {}
    },
    {
     "output_type": "display_data",
     "data": {
      "text/plain": "<IPython.core.display.Markdown object>",
      "text/markdown": "\"39\": $\\exists\\ x.(book(x)\\ \\land\\ \\forall\\ z_{258}.(library(z_{258})\\ \\to\\ \\exists\\ z_{257}.(girl(z_{257})\\ \\land\\ \\exists\\ z_{256}.(boy(z_{256})\\ \\land\\ give(z_{258},x,z_{257})\\ \\land\\ give(z_{258},x,z_{256})))))$"
     },
     "metadata": {}
    },
    {
     "output_type": "display_data",
     "data": {
      "text/plain": "<IPython.core.display.Markdown object>",
      "text/markdown": "\"40\": $\\forall\\ x.(library(x)\\ \\to\\ \\exists\\ z_{261}.(book(z_{261})\\ \\land\\ \\exists\\ z_{260}.(girl(z_{260})\\ \\land\\ \\exists\\ z_{259}.(boy(z_{259})\\ \\land\\ give(x,z_{261},z_{260})\\ \\land\\ give(x,z_{261},z_{259})))))$"
     },
     "metadata": {}
    }
   ],
   "source": [
    "fcfg_conj = r\"\"\"\n",
    "# Conjunction rule:\n",
    "CONJ -> 'and'\n",
    "NP[SEM=[CORE=<@x>, STORE=((<bo(\\Q.(Q(?n1) & Q(?n2)), @x)>)+?b1+?b2)]] -> NP[SEM=[CORE=?n1, STORE=?b1]] CONJ NP[SEM=[CORE=?n2, STORE=?b2]]\n",
    "#NP[SEM=[CORE=<yyy>, STORE=(?b1+?b2)]] -> NP[SEM=[CORE=?n1, STORE=?b1]] CONJ NP[SEM=[CORE=?n2, STORE=?b2]]\n",
    "\"\"\"\n",
    "\n",
    "cs_syntax = FeatureGrammar.fromstring(fcfg_storage+fcfg_conj)\n",
    "\n",
    "sentences = [\n",
    "    'every library gives a book to a girl and a boy',\n",
    "]\n",
    "\n",
    "sents_reps = sem_parser(sentences, cs_syntax, verbose=False, is_cs=True)\n",
    "\n",
    "counter = 0\n",
    "for i, (sent, semreps) in enumerate(sents_reps.items()):\n",
    "    for semrep in semreps:\n",
    "        # check if it is valid\n",
    "        if str(semrep).find(\"@\") == -1:\n",
    "            counter+=1\n",
    "            display_translation(f\"{counter}\", semrep)"
   ]
  },
  {
   "cell_type": "markdown",
   "metadata": {},
   "source": [
    "**2b.** Is it possible to write a conjunction rule in `yyy` in the `CORE`? Why? **[1 marks]**"
   ]
  },
  {
   "cell_type": "raw",
   "metadata": {},
   "source": [
    "** Write your explanation here **\n",
    "\n",
    "..."
   ]
  },
  {
   "cell_type": "markdown",
   "metadata": {},
   "source": [
    "## Inference [15 marks in total]\n",
    "\n",
    "### 3. Ambiguous syntax and semantics and inference [15 marks in total]\n",
    "\n",
    "Extend the grammar in `problem-set-2-part2` to cover two sentences below that are similar to FraCaS problem 024. \n",
    "\n",
    "- no delegate obtained interesting results from the survey\n",
    "- no delegate obtained results from the survey"
   ]
  },
  {
   "cell_type": "markdown",
   "metadata": {},
   "source": [
    "**3a.** Extend the grammar with a lexical entry for `obtained` as a `TV` category where it is combined with only one object. **[6 marks]**  \n",
    "Hint: Add a rule that attaches the `PP` to a bare plural `NP` without a `DET`."
   ]
  },
  {
   "cell_type": "markdown",
   "metadata": {},
   "source": [
    "**3b.** Also add another rule for `obtained` where this is a `DTV` category. **[3 marks]**"
   ]
  },
  {
   "cell_type": "code",
   "execution_count": 7,
   "metadata": {
    "tags": []
   },
   "outputs": [
    {
     "output_type": "stream",
     "name": "stdout",
     "text": [
      "1. no delegate obtained interesting results from the survey\n"
     ]
    },
    {
     "output_type": "display_data",
     "data": {
      "text/plain": "<IPython.core.display.Markdown object>",
      "text/markdown": "\"1\": $\\exists\\ x.(survey(x)\\ \\land\\ -\\exists\\ z_{444}.(delegate(z_{444})\\ \\land\\ \\exists\\ z_{442}.(result(z_{442})\\ \\land\\ interesting(z_{442})\\ \\land\\ obtaine(z_{444},z_{442})\\ \\land\\ from(z_{442},x)))\\ \\land\\ \\forall\\ y.(survey(y)\\ \\to\\ (x\\ =\\ y)))$"
     },
     "metadata": {}
    },
    {
     "output_type": "display_data",
     "data": {
      "text/plain": "<IPython.core.display.Markdown object>",
      "text/markdown": "\"2\": $-\\exists\\ x.(delegate(x)\\ \\land\\ \\exists\\ z_{445}.(survey(z_{445})\\ \\land\\ \\exists\\ z_{442}.(result(z_{442})\\ \\land\\ interesting(z_{442})\\ \\land\\ obtaine(x,z_{442})\\ \\land\\ from(z_{442},z_{445}))\\ \\land\\ \\forall\\ y.(survey(y)\\ \\to\\ (z_{445}\\ =\\ y))))$"
     },
     "metadata": {}
    },
    {
     "output_type": "stream",
     "name": "stdout",
     "text": [
      "2. no delegate obtained results from the survey\n"
     ]
    },
    {
     "output_type": "display_data",
     "data": {
      "text/plain": "<IPython.core.display.Markdown object>",
      "text/markdown": "\"1\": $\\exists\\ x.(survey(x)\\ \\land\\ -\\exists\\ z_{446}.(delegate(z_{446})\\ \\land\\ \\exists\\ z_{443}.(result(z_{443})\\ \\land\\ obtaine(z_{446},z_{443})\\ \\land\\ from(z_{443},x)))\\ \\land\\ \\forall\\ y.(survey(y)\\ \\to\\ (x\\ =\\ y)))$"
     },
     "metadata": {}
    },
    {
     "output_type": "display_data",
     "data": {
      "text/plain": "<IPython.core.display.Markdown object>",
      "text/markdown": "\"2\": $-\\exists\\ x.(delegate(x)\\ \\land\\ \\exists\\ z_{447}.(survey(z_{447})\\ \\land\\ \\exists\\ z_{443}.(result(z_{443})\\ \\land\\ obtaine(x,z_{443})\\ \\land\\ from(z_{443},z_{447}))\\ \\land\\ \\forall\\ y.(survey(y)\\ \\to\\ (z_{447}\\ =\\ y))))$"
     },
     "metadata": {}
    }
   ],
   "source": [
    "# your answers\n",
    "fcfg_storage_answers_a = r\"\"\"\n",
    "## Cover lexicon:\n",
    "Det[NUM=?n, SEM=[CORE=<\\P.\\Q. (- exists x.(P(x) & Q(x)))>, STORE=(/)]] -> 'no'\n",
    "Det[NUM=?n, SEM=[CORE=<\\P.\\Q. exists x.((P(x) & Q(x)) & all y.(P(y) -> (x = y)))>, STORE=(/)]] -> 'the'\n",
    "\n",
    "N[NUM=sg, SEM=[CORE=<\\x.delegate(x)>, STORE=(/)]] -> 'delegate'\n",
    "N[NUM=pl, SEM=[CORE=<\\x.result(x)>, STORE=(/)]] -> 'results'\n",
    "N[NUM=sg, SEM=[CORE=<\\x.survey(x)>, STORE=(/)]] -> 'survey'\n",
    "              \n",
    "P1[SEM=[CORE=<\\X.\\P.\\Q. exists x.(X(\\y.(P(x) & Q(x) & from(x,y))))>, STORE=(/)]] -> 'from'\n",
    "P2[SEM=[CORE=<\\X.\\Y.\\Q. (Y(\\x.(X(\\y.(Q(x) & from(x,y))))))>, STORE=(/)]] -> 'from'\n",
    "\n",
    "# Adj[SEM=[CORE=<\\x.interesting(x)>, STORE=(/)]] -> 'interesting'\n",
    "Adj[SEM=[CORE=<\\P.\\Q. exists x.(P(x) & interesting(x) & Q(x))>, STORE=(/)]] -> 'interesting'\n",
    "\n",
    "PP1[SEM=[CORE=<?p(?np)>, STORE=(?b1+?b2)]] -> P1[SEM=[CORE=?p, STORE=?b1]] NP[Num=?n, SEM=[CORE=?np, STORE=?b2]]\n",
    "PP2[SEM=[CORE=<?p(?np)>, STORE=(?b1+?b2)]] -> P2[SEM=[CORE=?p, STORE=?b1]] NP[Num=?n, SEM=[CORE=?np, STORE=?b2]]\n",
    "# PP2[SEM=<?p(?det(?nom))>] -> P2[SEM=?p] Det[SEM=?det] Nom[SEM=?nom]\n",
    "\n",
    "# add any missing rules\n",
    "AP[SEM=[CORE=<?adj(?nom)>, STORE=(?b1+?b2)]] -> Adj[SEM=[CORE=?adj, STORE=?b1]] Nom[NUM=?n,SEM=[CORE=?nom, STORE=?b2]]\n",
    "# AP[SEM=<\\Q.Q(x)(\\P.(?adj(P) & ?nom(P)))>] -> Adj[SEM=?adj] Nom[SEM=?nom]\n",
    "# NP[SEM=?n] -> AP[SEM=?n]\n",
    "\n",
    "NP[NUM=?n, SEM=[CORE=<?pp(?nom)>, STORE=(?b1+?b2)]] -> Nom[NUM=?n, SEM=[CORE=?nom, STORE=?b1]] PP1[SEM=[CORE=?pp, STORE=?b2]]\n",
    "NP[NUM=?n,SEM=[CORE=<?pp(?ap)>, STORE=(?b1+?b2)]] -> AP[NUM=?n,SEM=[CORE=?ap, STORE=?b1]] PP2[NUM=?n,SEM=[CORE=?pp, STORE=?b2]]\n",
    "\n",
    "TV[SEM=[CORE=<\\X.\\x. X(\\y.obtaine(x,y))>, STORE=(/)], TNS=past] -> 'obtained'\n",
    "# VP[SEM=[CORE=<?v(?np,?pp)>, STORE=(?b1+?b2+?b3)]] -> DTV[NUM=?n, SEM=[CORE=?v, STORE=?b1]] PP3[NUM=?n, SEM=[CORE=?pp, STORE=?b2]] NP[SEM=[CORE=?np, STORE=?b3]] \n",
    "# VP[SEM=<?v(?obj,?pp)>] -> DTV[SEM=?v] NP2[SEM=?obj] PP2[SEM=?pp]\n",
    "\n",
    "\"\"\"\n",
    "\n",
    "fcfg_storage_answers_b = r\"\"\"\n",
    "## Cover lexicon:\n",
    "DTV[SEM=[CORE=<\\Y.\\X.\\x. X(\\z.Y(\\y.obtaine(x,y,z)))>, STORE=(/)],TNS=past] -> 'obtained'\n",
    "# add any missing rules\n",
    "\"\"\"\n",
    "\n",
    "sentences = [\n",
    "    \"no delegate obtained interesting results from the survey\",\n",
    "    \"no delegate obtained results from the survey\",\n",
    "]\n",
    "\n",
    "# this is going to add new rules to the syntax:\n",
    "grammar = FeatureGrammar(\n",
    "    syntax_storage.start(),\n",
    "    syntax_storage.productions() + \\\n",
    "    FeatureGrammar.fromstring(fcfg_storage_answers_a).productions() + \\\n",
    "    FeatureGrammar.fromstring(fcfg_storage_answers_b).productions()\n",
    ")\n",
    "\n",
    "# change `verbose` to see the trees\n",
    "sentence_readings = sem_parser(sentences, grammar, is_cs=True, verbose=False)\n",
    "\n",
    "for i, (sent, semreps) in enumerate(sentence_readings.items()):\n",
    "    counter = 0\n",
    "    print(f\"{i+1}. {sent}\")\n",
    "    for semrep in semreps:\n",
    "        counter += 1\n",
    "        display_translation(counter, semrep)\n"
   ]
  },
  {
   "source": [
    "**3c.** Use Mace to show whether any of the readings of the first sentence entail any of the readings of the second sentence. **[1 mark]**"
   ],
   "cell_type": "markdown",
   "metadata": {}
  },
  {
   "cell_type": "code",
   "execution_count": 16,
   "metadata": {},
   "outputs": [
    {
     "output_type": "stream",
     "name": "stdout",
     "text": [
      "Premise : exists x.(survey(x) & -exists z446.(delegate(z446) & exists z443.(result(z443) & obtaine(z446,z443) & from(z443,x))) & all y.(survey(y) -> (x = y)))\n",
      "Goal    : exists x.(survey(x) & -exists z444.(delegate(z444) & exists z442.(result(z442) & interesting(z442) & obtaine(z444,z442) & from(z442,x))) & all y.(survey(y) -> (x = y)))\n",
      "a model-1:\n",
      "{}\n",
      "\n",
      "a model-2:\n",
      "{'C1': 'a',\n",
      " 'C2': 'a',\n",
      " 'C3': 'b',\n",
      " 'delegate': set(),\n",
      " 'from': set(),\n",
      " 'interesting': {('b',)},\n",
      " 'obtaine': set(),\n",
      " 'result': {('b',)},\n",
      " 'survey': {('a',)}}\n",
      "..............................\n",
      "\n",
      "Premise : exists x.(survey(x) & -exists z446.(delegate(z446) & exists z443.(result(z443) & obtaine(z446,z443) & from(z443,x))) & all y.(survey(y) -> (x = y)))\n",
      "Goal    : -exists x.(delegate(x) & exists z445.(survey(z445) & exists z442.(result(z442) & interesting(z442) & obtaine(x,z442) & from(z442,z445)) & all y.(survey(y) -> (z445 = y))))\n",
      "a model-1:\n",
      "{}\n",
      "\n",
      "a model-2:\n",
      "{'C1': 'a',\n",
      " 'C2': 'b',\n",
      " 'delegate': set(),\n",
      " 'from': set(),\n",
      " 'interesting': {('b',)},\n",
      " 'obtaine': set(),\n",
      " 'result': {('b',)},\n",
      " 'survey': {('a',)}}\n",
      "..............................\n",
      "\n",
      "Premise : -exists x.(delegate(x) & exists z447.(survey(z447) & exists z443.(result(z443) & obtaine(x,z443) & from(z443,z447)) & all y.(survey(y) -> (z447 = y))))\n",
      "Goal    : exists x.(survey(x) & -exists z444.(delegate(z444) & exists z442.(result(z442) & interesting(z442) & obtaine(z444,z442) & from(z442,x))) & all y.(survey(y) -> (x = y)))\n",
      "a model-1:\n",
      "{'C1': 'a',\n",
      " 'delegate': set(),\n",
      " 'from': set(),\n",
      " 'interesting': {('a',)},\n",
      " 'obtaine': set(),\n",
      " 'result': {('a',)},\n",
      " 'survey': set()}\n",
      "\n",
      "a model-2:\n",
      "{'C1': 'a',\n",
      " 'C2': 'b',\n",
      " 'delegate': set(),\n",
      " 'from': set(),\n",
      " 'interesting': {('b',)},\n",
      " 'obtaine': set(),\n",
      " 'result': {('b',)},\n",
      " 'survey': {('a',)}}\n",
      "..............................\n",
      "\n",
      "Premise : -exists x.(delegate(x) & exists z447.(survey(z447) & exists z443.(result(z443) & obtaine(x,z443) & from(z443,z447)) & all y.(survey(y) -> (z447 = y))))\n",
      "Goal    : -exists x.(delegate(x) & exists z445.(survey(z445) & exists z442.(result(z442) & interesting(z442) & obtaine(x,z442) & from(z442,z445)) & all y.(survey(y) -> (z445 = y))))\n",
      "a model-1:\n",
      "{}\n",
      "\n",
      "a model-2:\n",
      "{'C1': 'a',\n",
      " 'delegate': set(),\n",
      " 'from': set(),\n",
      " 'interesting': {('a',)},\n",
      " 'obtaine': set(),\n",
      " 'result': {('a',)},\n",
      " 'survey': set()}\n",
      "..............................\n",
      "\n"
     ]
    }
   ],
   "source": [
    "# Use apply_model_builder from problem-set-2-part2\n",
    "def apply_model_builder(premises,goals):\n",
    "    for premise in premises:\n",
    "        for goal in goals:\n",
    "            print(\"Premise : %s\" % (premise))\n",
    "            print(\"Goal    : %s\" % (goal))\n",
    "            mc1 = nltk.MaceCommand(goal, assumptions=[premise, a1, a2, a3])\n",
    "            mc2 = nltk.MaceCommand(None, assumptions=[premise, goal, a1, a2, a3])\n",
    "            mc1.build_model()\n",
    "            mc2.build_model()\n",
    "            print(\"a model-1:\")\n",
    "            print(mc1.valuation)\n",
    "            print()\n",
    "            print(\"a model-2:\")\n",
    "            print(mc2.valuation)\n",
    "            print(10*'...')\n",
    "            print()\n",
    "# There is something missing in this code.\n",
    "mypremises = sentence_readings['no delegate obtained results from the survey']\n",
    "mygoals = sentence_readings['no delegate obtained interesting results from the survey']\n",
    "a1 = read_expr('all x. (result(x) -> -(delegate(x) | survey(x)))')\n",
    "a2 = read_expr('all x. (delegate(x) -> -(result(x) | survey(x)))')\n",
    "a3 = read_expr('exist x. (result(x) & interesting(x))')\n",
    "apply_model_builder(mypremises,mygoals)"
   ]
  },
  {
   "cell_type": "markdown",
   "metadata": {},
   "source": [
    "**3d.** Use Prover9 to show which readings of the second sentence entail a reading of the first sentence. **[1 mark]**"
   ]
  },
  {
   "cell_type": "code",
   "execution_count": 19,
   "metadata": {},
   "outputs": [
    {
     "output_type": "stream",
     "name": "stdout",
     "text": [
      "Premise      : exists x.(survey(x) & -exists z446.(delegate(z446) & exists z443.(result(z443) & obtaine(z446,z443) & from(z443,x))) & all y.(survey(y) -> (x = y)))\nGoal         : exists x.(survey(x) & -exists z444.(delegate(z444) & exists z442.(result(z442) & interesting(z442) & obtaine(z444,z442) & from(z442,x))) & all y.(survey(y) -> (x = y)))\nProver result: True\n----------------------------------------\nPremise      : exists x.(survey(x) & -exists z446.(delegate(z446) & exists z443.(result(z443) & obtaine(z446,z443) & from(z443,x))) & all y.(survey(y) -> (x = y)))\nGoal         : -exists x.(delegate(x) & exists z445.(survey(z445) & exists z442.(result(z442) & interesting(z442) & obtaine(x,z442) & from(z442,z445)) & all y.(survey(y) -> (z445 = y))))\nProver result: True\n----------------------------------------\nPremise      : -exists x.(delegate(x) & exists z447.(survey(z447) & exists z443.(result(z443) & obtaine(x,z443) & from(z443,z447)) & all y.(survey(y) -> (z447 = y))))\nGoal         : exists x.(survey(x) & -exists z444.(delegate(z444) & exists z442.(result(z442) & interesting(z442) & obtaine(z444,z442) & from(z442,x))) & all y.(survey(y) -> (x = y)))\nProver result: False\n----------------------------------------\nPremise      : -exists x.(delegate(x) & exists z447.(survey(z447) & exists z443.(result(z443) & obtaine(x,z443) & from(z443,z447)) & all y.(survey(y) -> (z447 = y))))\nGoal         : -exists x.(delegate(x) & exists z445.(survey(z445) & exists z442.(result(z442) & interesting(z442) & obtaine(x,z442) & from(z442,z445)) & all y.(survey(y) -> (z445 = y))))\nProver result: True\n----------------------------------------\n"
     ]
    }
   ],
   "source": [
    "# Use apply_theorem_prover from problem-set-2-part2\n",
    "\n",
    "# There is something missing in this code.\n",
    "#apply_theorem_prover(...,...)\n",
    "prover = nltk.Prover9()\n",
    "# prover.config_prover9(r'/home/guszarzmo@GU.GU.SE/Programs/prover9/LADR-2009-11A/bin')\n",
    "\n",
    "def apply_theorem_prover(premises, goals):\n",
    "    for premise in premises:\n",
    "        for goal in goals:\n",
    "            print(\"Premise      : %s\" % (premise))\n",
    "            print(\"Goal         : %s\" % (goal))\n",
    "            print(\"Prover result: %s\" % (prover.prove(goal, [premise])))\n",
    "            print(10*'----')\n",
    "mypremises = sentence_readings['no delegate obtained results from the survey']\n",
    "mygoals = sentence_readings['no delegate obtained interesting results from the survey']\n",
    "apply_theorem_prover(mypremises,mygoals)"
   ]
  },
  {
   "cell_type": "markdown",
   "metadata": {},
   "source": [
    "**3e.** Possibly there is a reading of the second sentence that does not entail the first sentence.\n",
    "Which is it? \n",
    "Explain why the entailment does not hold? Does this reading agree with our intuitions about the meaning of the sentence? **[1 + 2 + 1 = 4 marks]**"
   ]
  },
  {
   "cell_type": "raw",
   "metadata": {},
   "source": [
    "** Your answer **"
   ]
  },
  {
   "source": [
    "Entailment does not hold in one reading. I would say this is because of the scope of negation. Negation transfer logical representation. In our case, this transformation affects the entailment of the two readings. "
   ],
   "cell_type": "markdown",
   "metadata": {}
  },
  {
   "cell_type": "code",
   "execution_count": null,
   "metadata": {},
   "outputs": [],
   "source": []
  }
 ],
 "metadata": {
  "kernelspec": {
   "display_name": "Python 3.7.4 64-bit",
   "language": "python",
   "name": "python37464bitce0f77e3bbe84990b2c44b198a8c7020"
  },
  "language_info": {
   "codemirror_mode": {
    "name": "ipython",
    "version": 3
   },
   "file_extension": ".py",
   "mimetype": "text/x-python",
   "name": "python",
   "nbconvert_exporter": "python",
   "pygments_lexer": "ipython3",
   "version": "3.7.4-final"
  }
 },
 "nbformat": 4,
 "nbformat_minor": 4
}