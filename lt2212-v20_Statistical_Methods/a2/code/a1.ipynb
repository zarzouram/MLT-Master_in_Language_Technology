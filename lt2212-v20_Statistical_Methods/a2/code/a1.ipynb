{
 "nbformat": 4,
 "nbformat_minor": 2,
 "metadata": {
  "language_info": {
   "name": "python",
   "codemirror_mode": {
    "name": "ipython",
    "version": 3
   },
   "version": "3.7.4-final"
  },
  "orig_nbformat": 2,
  "file_extension": ".py",
  "mimetype": "text/x-python",
  "name": "python",
  "npconvert_exporter": "python",
  "pygments_lexer": "ipython3",
  "version": 3,
  "kernelspec": {
   "name": "python37464bitf56cef5d667e4165afa7571df377fa0e",
   "display_name": "Python 3.7.4 64-bit"
  }
 },
 "cells": [
  {
   "cell_type": "code",
   "execution_count": 3,
   "metadata": {},
   "outputs": [
    {
     "name": "stdout",
     "output_type": "stream",
     "text": "------------Loading Data-----------\n\n------------PART 1-----------\nExtracting features ...\nExample sample feature vec:  [0 0 0 ... 0 0 0]\nData shape:  (18846, 19650)\n\n------------PART 2-----------\nReducing dimensions ... \nDim reduced data shape:  (18846, 982)\n\n------------PART 3-----------\nGetting clf LinearSVC ...\n\n\nTraining classifier ...\nEvaluating classcifier ...\n------------------------Weighted Avg------------------------\n   accuracy       precision       recall        F-measure   \n     0.72           0.72           0.72           0.72      \n\n\n\n------------Loading Data-----------\n\n------------PART 1-----------\nExtracting features ...\nExample sample feature vec:  [0 0 0 ... 0 0 0]\nData shape:  (18846, 19650)\n\n------------PART 2-----------\nReducing dimensions ... \nDim reduced data shape:  (18846, 982)\n\n------------PART 3-----------\nGetting clf SGDClassifier ...\n\n\nTraining classifier ...\nEvaluating classcifier ...\n------------------------Weighted Avg------------------------\n   accuracy       precision       recall        F-measure   \n     0.66           0.70           0.66           0.66      \n\n\n\n------------Loading Data-----------\n\n------------PART 1-----------\nExtracting features ...\nExample sample feature vec:  [0 0 0 ... 0 0 0]\nData shape:  (18846, 19650)\n\n------------PART 2-----------\nReducing dimensions ... \nDim reduced data shape:  (18846, 1965)\n\n------------PART 3-----------\nGetting clf LinearSVC ...\n\n\nTraining classifier ...\nEvaluating classcifier ...\n------------------------Weighted Avg------------------------\n   accuracy       precision       recall        F-measure   \n     0.74           0.75           0.74           0.74      \n\n\n\n------------Loading Data-----------\n\n------------PART 1-----------\nExtracting features ...\nExample sample feature vec:  [0 0 0 ... 0 0 0]\nData shape:  (18846, 19650)\n\n------------PART 2-----------\nReducing dimensions ... \nDim reduced data shape:  (18846, 1965)\n\n------------PART 3-----------\nGetting clf SGDClassifier ...\n\n\nTraining classifier ...\nEvaluating classcifier ...\n------------------------Weighted Avg------------------------\n   accuracy       precision       recall        F-measure   \n     0.69           0.73           0.69           0.70      \n\n\n\n------------Loading Data-----------\n\n------------PART 1-----------\nExtracting features ...\nExample sample feature vec:  [0 0 0 ... 0 0 0]\nData shape:  (18846, 19650)\n\n------------PART 2-----------\nReducing dimensions ... \nDim reduced data shape:  (18846, 4913)\n\n------------PART 3-----------\nGetting clf LinearSVC ...\n\n\nTraining classifier ...\nEvaluating classcifier ...\n------------------------Weighted Avg------------------------\n   accuracy       precision       recall        F-measure   \n     0.78           0.78           0.78           0.78      \n\n\n\n------------Loading Data-----------\n\n------------PART 1-----------\nExtracting features ...\nExample sample feature vec:  [0 0 0 ... 0 0 0]\nData shape:  (18846, 19650)\n\n------------PART 2-----------\nReducing dimensions ... \nDim reduced data shape:  (18846, 4913)\n\n------------PART 3-----------\nGetting clf SGDClassifier ...\n\n\nTraining classifier ...\nEvaluating classcifier ...\n------------------------Weighted Avg------------------------\n   accuracy       precision       recall        F-measure   \n     0.67           0.75           0.67           0.66      \n\n\n\n------------Loading Data-----------\n\n------------PART 1-----------\nExtracting features ...\nExample sample feature vec:  [0 0 0 ... 0 0 0]\nData shape:  (18846, 19650)\n\n------------PART 2-----------\nReducing dimensions ... \nDim reduced data shape:  (18846, 9825)\n\n------------PART 3-----------\nGetting clf LinearSVC ...\n\n\nTraining classifier ...\nEvaluating classcifier ...\n------------------------Weighted Avg------------------------\n   accuracy       precision       recall        F-measure   \n     0.78           0.79           0.78           0.79      \n\n\n\n------------Loading Data-----------\n\n------------PART 1-----------\nExtracting features ...\nExample sample feature vec:  [0 0 0 ... 0 0 0]\nData shape:  (18846, 19650)\n\n------------PART 2-----------\nReducing dimensions ... \nDim reduced data shape:  (18846, 9825)\n\n------------PART 3-----------\nGetting clf SGDClassifier ...\n\n\nTraining classifier ...\nEvaluating classcifier ...\n------------------------Weighted Avg------------------------\n   accuracy       precision       recall        F-measure   \n     0.69           0.71           0.69           0.69      \n\n\n\n------------Loading Data-----------\n\n------------PART 1-----------\nExtracting features ...\nExample sample feature vec:  [0 0 0 ... 0 0 0]\nData shape:  (18846, 19650)\n\n------------PART 3-----------\nGetting clf LinearSVC ...\n\n\nTraining classifier ...\nEvaluating classcifier ...\n------------------------Weighted Avg------------------------\n   accuracy       precision       recall        F-measure   \n     0.79           0.79           0.79           0.79      \n\n\n\n------------Loading Data-----------\n\n------------PART 1-----------\nExtracting features ...\nExample sample feature vec:  [0 0 0 ... 0 0 0]\nData shape:  (18846, 19650)\n\n------------PART 3-----------\nGetting clf SGDClassifier ...\n\n\nTraining classifier ...\nEvaluating classcifier ...\n------------------------Weighted Avg------------------------\n   accuracy       precision       recall        F-measure   \n     0.64           0.70           0.64           0.62      \n\n\n\n"
    }
   ],
   "source": [
    "import a2\n",
    "r=[982, 982, 1965, 1965, 4913, 4913, 9825, 9825]\n",
    "id=[1, 2, 1, 2, 1, 2, 1, 2]\n",
    "data = zip(r,id)\n",
    "\n",
    "for d in data:\n",
    "    a2.main(model_id=d[1], n_dim=d[0])\n",
    "\n",
    "a2.main(model_id=1)\n",
    "a2.main(model_id=2)"
   ]
  },
  {
   "cell_type": "code",
   "execution_count": null,
   "metadata": {},
   "outputs": [],
   "source": []
  }
 ]
}