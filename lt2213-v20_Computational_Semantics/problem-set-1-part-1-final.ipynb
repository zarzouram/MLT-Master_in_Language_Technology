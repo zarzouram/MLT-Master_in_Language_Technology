{
 "cells": [
  {
   "cell_type": "markdown",
   "metadata": {},
   "source": [
    "# Problem Set 1 - Part 1: Logic and lambda calculus"
   ]
  },
  {
   "cell_type": "markdown",
   "metadata": {},
   "source": [
    "The lab is an exploration and learning exercise to be done in a group and also in discussion with the teachers and other students.\n",
    "\n",
    "Before starting, please read the following instructions on [how to work on group assignments](https://github.com/sdobnik/computational-semantics/blob/master/README.md).\n",
    "\n",
    "Write all your answers and the code in the appropriate boxes below."
   ]
  },
  {
   "cell_type": "markdown",
   "metadata": {},
   "source": [
    "## Translating English to logic and evaluating logic in a model"
   ]
  },
  {
   "cell_type": "code",
   "execution_count": 1,
   "metadata": {},
   "outputs": [],
   "source": [
    "import nltk\n",
    "from utils import display_latex, display_translation, display_tree, display, Markdown\n",
    "read_expr = nltk.sem.Expression.fromstring"
   ]
  },
  {
   "cell_type": "markdown",
   "metadata": {},
   "source": [
    "### 1. Propositional logic\n",
    "Translate the following sentences into **propositional logic** and verify that they parse with Expression.fromstring(). Provide a key which shows how the propositional variables in your translation correspond to expressions of English. Briefly discuss any difficulties you encounter. (By difficulties we mean cases where the semantics of English expressions cannot be expressed to the same degree by the semantics of your logic representations, i.e. they do not mean the same). **[4 + 1 marks]**"
   ]
  },
  {
   "cell_type": "code",
   "execution_count": 2,
   "metadata": {},
   "outputs": [
    {
     "output_type": "display_data",
     "data": {
      "text/plain": "<IPython.core.display.Markdown object>",
      "text/markdown": "\"If Alex plays the piano, she is smart.\": $(P\\ \\to\\ Q)$"
     },
     "metadata": {}
    },
    {
     "output_type": "display_data",
     "data": {
      "text/plain": "<IPython.core.display.Markdown object>",
      "text/markdown": "\"Alex is both smart and musical.\": $(Q\\ \\land\\ R)$"
     },
     "metadata": {}
    },
    {
     "output_type": "display_data",
     "data": {
      "text/plain": "<IPython.core.display.Markdown object>",
      "text/markdown": "\"If Alex is not smart, Lydia is not happy.\": $(-Q\\ \\to\\ -S)$"
     },
     "metadata": {}
    },
    {
     "output_type": "display_data",
     "data": {
      "text/plain": "<IPython.core.display.Markdown object>",
      "text/markdown": "\"If Alex or George plays the piano, they are musical.\": $((P\\ \\lor\\ T)\\ \\to\\ (R\\ \\land\\ U))$"
     },
     "metadata": {}
    },
    {
     "output_type": "display_data",
     "data": {
      "text/plain": "<IPython.core.display.Markdown object>",
      "text/markdown": "\"George plays the piano.\": $T$"
     },
     "metadata": {}
    }
   ],
   "source": [
    "propositions = {\n",
    "    \"If Alex plays the piano, she is smart.\":\n",
    "    read_expr('P -> Q'),\n",
    "    # P = Alex plays the piano, Q = Alex is smart\n",
    "    \n",
    "    \"Alex is both smart and musical.\":\n",
    "    read_expr('Q & R'),\n",
    "    # Q = Alex is smart, R = Alex is musical\n",
    "    \n",
    "    \"If Alex is not smart, Lydia is not happy.\":\n",
    "    read_expr('-Q -> -S'),\n",
    "    # Q = Alex is smart, S = Lydia is happy\n",
    "    \n",
    "    \"If Alex or George plays the piano, they are musical.\":\n",
    "    read_expr('(P | T) -> (R & U)'),\n",
    "    # P = Alex plays the piano, T = George plays the piano, R = Alex is musical, U = George is musical\n",
    "    \n",
    "    \"George plays the piano.\":\n",
    "    read_expr('T'),\n",
    "    # T = George plays the piano\n",
    "}\n",
    "\n",
    "for text, semrep in propositions.items():\n",
    "    display_translation(text, semrep)"
   ]
  },
  {
   "cell_type": "markdown",
   "metadata": {},
   "source": [
    "*Difficulties encountered:*\n",
    "\n",
    "If Alex or George plays the piano, they are musical: Reference unclear: who is \"they\"? One of them, both of them, the one who plays the piano, someone else?\n",
    "Also, it's not clear how it is concluded/suggested that someone is talented in music, if they do not play the piano (if only one of them does). The relation between the antecedent and the consequent is not clear (or in accordance with human intuition)."
   ]
  },
  {
   "cell_type": "markdown",
   "metadata": {},
   "source": [
    "### 2. Valuation of Propositional logic\n",
    "\n",
    "Imagine that we observe a world where \n",
    "- (i) Alex does not play the piano,\n",
    "- (ii) Alex and Lydia are smart and musical,\n",
    "- (iii) George is not musical,\n",
    "- (iv) Lydia is happy,\n",
    "- (viii) George plays the piano. \n",
    "\n",
    "Translate this informal description of the world into a model by appropriately defining an evaluation function and evaluate the formulae from Question 1 in this model. Briefly comment the answers you get. **[4 + 1 marks]**."
   ]
  },
  {
   "cell_type": "code",
   "execution_count": 3,
   "metadata": {},
   "outputs": [
    {
     "output_type": "stream",
     "name": "stdout",
     "text": "\nIf Alex plays the piano, she is smart.\n  Alex is smart:          Q  True\n  Alex plays the piano:   P  False\n"
    },
    {
     "output_type": "display_data",
     "data": {
      "text/plain": "<IPython.core.display.Markdown object>",
      "text/markdown": "$(P\\ \\to\\ Q):\\ True$"
     },
     "metadata": {}
    },
    {
     "output_type": "stream",
     "name": "stdout",
     "text": "\nAlex is both smart and musical.\n  Alex is smart:          Q  True\n  Alex is musical:        R  True\n"
    },
    {
     "output_type": "display_data",
     "data": {
      "text/plain": "<IPython.core.display.Markdown object>",
      "text/markdown": "$(Q\\ \\land\\ R):\\ True$"
     },
     "metadata": {}
    },
    {
     "output_type": "stream",
     "name": "stdout",
     "text": "\nIf Alex is not smart, Lydia is not happy.\n  Alex is smart:          Q  True\n  Lydia is happy :        S  True\n"
    },
    {
     "output_type": "display_data",
     "data": {
      "text/plain": "<IPython.core.display.Markdown object>",
      "text/markdown": "$(-Q\\ \\to\\ -S):\\ True$"
     },
     "metadata": {}
    },
    {
     "output_type": "stream",
     "name": "stdout",
     "text": "\nIf Alex or George plays the piano, they are musical.\n  Alex plays the piano:   P  False\n  George is musical:      U  False\n  Alex is musical:        R  True\n  George plays the piano: T  True\n"
    },
    {
     "output_type": "display_data",
     "data": {
      "text/plain": "<IPython.core.display.Markdown object>",
      "text/markdown": "$((P\\ \\lor\\ T)\\ \\to\\ (R\\ \\land\\ U)):\\ False$"
     },
     "metadata": {}
    },
    {
     "output_type": "stream",
     "name": "stdout",
     "text": "\nGeorge plays the piano.\n  George plays the piano: T  True\n"
    },
    {
     "output_type": "display_data",
     "data": {
      "text/plain": "<IPython.core.display.Markdown object>",
      "text/markdown": "$T:\\ True$"
     },
     "metadata": {}
    }
   ],
   "source": [
    "# P = Alex plays the piano,             # Q = Alex is smart\n",
    "# R = Alex is musical                   # S = Lydia is happy                   \n",
    "# T = George plays the piano            # U = George is musical\n",
    "\n",
    "val = nltk.Valuation([('P', False), ('Q', True), ('R', True), ('S', True), ('T', True),\n",
    "                      ('U', False)])\n",
    "dom = set([])\n",
    "g = nltk.Assignment(dom)\n",
    "m = nltk.Model(dom, val)\n",
    "\n",
    "variables = {\n",
    "    \"P\": \"Alex plays the piano\",       \"Q\": \"Alex is smart\",\n",
    "    \"R\": \"Alex is musical\",            \"S\": \"Lydia is happy \",                  \n",
    "    \"T\": \"George plays the piano\",     \"U\": \"George is musical\"\n",
    "    }\n",
    "\n",
    "width = len(max(list(variables.values()), key=len))+3\n",
    "for text, semrep in propositions.items():\n",
    "    print()\n",
    "    print(text)\n",
    "    vars = map(str, semrep.variables())\n",
    "    for var in vars:\n",
    "        print(\"{0:<26}{1:<3}{2:<}\".format(\"  \"+variables[var]+\":\", var, str(m.evaluate(var,g))))\n",
    "    display_latex(str(semrep)+\": \"+str(m.evaluate(str(semrep), g)))"
   ]
  },
  {
   "cell_type": "markdown",
   "metadata": {},
   "source": [
    "*Comments:*\n",
    "The answers are as expected. The interpretation of the implication is always a bit surprising, since it differs from the way we interpret it in natural language use. \n",
    "\n",
    "For example, the sentence: \"If Alex plays the piano, she is smart.\" In natural language, such proposition would be considered \"wrong\" if Alex does not play piano, even if Alex is talented in music. \n",
    "From propositional logic point of view, however, the statement is considered to be \"true\". In our every day conversation, there is some sort of tie between the antecedent and consequent. Such ties are not captured in the same way by the propositional logic."
   ]
  },
  {
   "cell_type": "markdown",
   "metadata": {},
   "source": [
    "### 3. Predicate logic *without quantifiers*\n",
    "\n",
    "Translate the following sentences into predicate-argument formulae of First Order Logic and verify that they parse with `Expression.fromstring()`. Briefly discuss any difficulties you encounter. **[4 + 1 marks]**"
   ]
  },
  {
   "cell_type": "code",
   "execution_count": 4,
   "metadata": {},
   "outputs": [
    {
     "output_type": "display_data",
     "data": {
      "text/plain": "<IPython.core.display.Markdown object>",
      "text/markdown": "\"Lydia likes George but Lydia doesn't like Alex\": $(like(Lydia,George)\\ \\land\\ -like(Lydia,Alex))$"
     },
     "metadata": {}
    },
    {
     "output_type": "display_data",
     "data": {
      "text/plain": "<IPython.core.display.Markdown object>",
      "text/markdown": "\"Lydia likes herself and so does George\": $(like(Lydia,Lydia)\\ \\land\\ like(George,George))$"
     },
     "metadata": {}
    },
    {
     "output_type": "display_data",
     "data": {
      "text/plain": "<IPython.core.display.Markdown object>",
      "text/markdown": "\"Charlie is an English pianist who plays a sonata\": $(english(Charlie)\\ \\land\\ pianist(Charlie)\\ \\land\\ play(Charlie,sonata))$"
     },
     "metadata": {}
    },
    {
     "output_type": "display_data",
     "data": {
      "text/plain": "<IPython.core.display.Markdown object>",
      "text/markdown": "\"Lydia and George admire each other\": $(admire(Lydia,George)\\ \\land\\ admire(George,Lydia))$"
     },
     "metadata": {}
    }
   ],
   "source": [
    "sentences1 = {\n",
    "    \"Lydia likes George but Lydia doesn't like Alex\": \n",
    "    read_expr(r'like(Lydia, George) & - like(Lydia, Alex)'),\n",
    "    \n",
    "    \"Lydia likes herself and so does George\":\n",
    "    read_expr(r'like(Lydia, Lydia) & like(George, George)'),\n",
    "    \n",
    "    \"Charlie is an English pianist who plays a sonata\":\n",
    "    read_expr(r'english(Charlie) & pianist(Charlie) & play(Charlie, sonata)'),\n",
    "    \n",
    "    \"Lydia and George admire each other\":\n",
    "    read_expr(r'admire(Lydia, George) & admire(George, Lydia)'),\n",
    "}\n",
    "\n",
    "for text, semrep in sentences1.items():\n",
    "    display_translation(text, semrep)\n"
   ]
  },
  {
   "cell_type": "markdown",
   "metadata": {},
   "source": [
    "*Difficulties encountered:*\n",
    "\n",
    "'But' is equal to 'and' in logic, but has a different meaning in natural language use. \n",
    "Ambiguity in natural language: Sentence 2: Does George also like Lydia or also like himself?"
   ]
  },
  {
   "cell_type": "markdown",
   "metadata": {},
   "source": [
    "### 4. First order logic with quantifiers\n",
    "\n",
    "Translate the following sentences into quantified formulas of First Order Logic and verify that they parse with `Expression.fromstring()`. Briefly discuss any difficulties you encounter. **[4 + 1 marks]**"
   ]
  },
  {
   "cell_type": "code",
   "execution_count": 5,
   "metadata": {},
   "outputs": [
    {
     "output_type": "display_data",
     "data": {
      "text/plain": "<IPython.core.display.Markdown object>",
      "text/markdown": "\"Charlie knows a woman who likes George\": $\\exists\\ x.(woman(x)\\ \\land\\ know(Charlie,x)\\ \\land\\ like(x,George))$"
     },
     "metadata": {}
    },
    {
     "output_type": "display_data",
     "data": {
      "text/plain": "<IPython.core.display.Markdown object>",
      "text/markdown": "\"George admires everybody and Lydia admires nobody\": $\\forall\\ x.(person(x)\\ \\to\\ (admire(George,x)\\ \\land\\ -admire(Lydia,x)))$"
     },
     "metadata": {}
    },
    {
     "output_type": "display_data",
     "data": {
      "text/plain": "<IPython.core.display.Markdown object>",
      "text/markdown": "\"Nobody admires everybody\": $\\forall\\ x.(person(x)\\ \\to\\ \\exists\\ y.-admire(x,y))$"
     },
     "metadata": {}
    },
    {
     "output_type": "display_data",
     "data": {
      "text/plain": "<IPython.core.display.Markdown object>",
      "text/markdown": "\"Exactly one musician plays everything Alex wrote\": $\\exists\\ x.(musician(x)\\ \\land\\ \\forall\\ y.(wrote(Alex,y)\\ \\to\\ play(x,y))\\ \\land\\ \\forall\\ z.((musician(z)\\ \\land\\ \\forall\\ y.(wrote(Alex,y)\\ \\land\\ play(z,y)))\\ \\to\\ (x\\ <\\to\\ z)))$"
     },
     "metadata": {}
    }
   ],
   "source": [
    "sentences2 = {\n",
    "    \"Charlie knows a woman who likes George\":\n",
    "    read_expr('exists x. (woman(x) & know(Charlie, x) & like(x, George))'),\n",
    "    \n",
    "    \"George admires everybody and Lydia admires nobody\":\n",
    "    read_expr('(all x. (person(x) -> admire(George, x) & -admire(Lydia, x)))'),\n",
    " \n",
    "    \"Nobody admires everybody\":\n",
    "    read_expr(\"all x.(person(x) -> exists y.(-admire(x, y)))\"),\n",
    "    \n",
    "    \"Exactly one musician plays everything Alex wrote\":\n",
    "    read_expr('exists x.(musician(x) & all y.(wrote(Alex, y) -> play(x,y)) & all z.(musician(z) & all y.(wrote(Alex, y) & play(z,y)) -> (x <-> z) ))'),\n",
    "}\n",
    "\n",
    "for text, semrep in sentences2.items():\n",
    "    display_translation(text, semrep)"
   ]
  },
  {
   "cell_type": "markdown",
   "metadata": {},
   "source": [
    "*Difficulties encountered:*\n",
    "\n",
    "It was hard to quantify exactly one musician. The idea is to say there exists one musician x who plays Alex' songs, and if there exist other musicians for whom this applies, they are all equal to x."
   ]
  },
  {
   "cell_type": "markdown",
   "metadata": {},
   "source": [
    "### 5. Valuation of first order logic\n",
    "\n",
    "We observe a world with entities Lydia, George, Alex, Charlie and Bertie, sonata, etude, prelude, waltz, scherzo.\n",
    "\n",
    "1. Lydia likes Lydia, George, Alex and Charlie. George likes Lydia, Bertie and George. Alex likes Alex. Charlie likes Lydia, George, Alex, Charlie and Bertie. Bertie likes Alex.\n",
    "2. Lydia, George, Alex, Charlie and Bertie are English.\n",
    "3. Charlie and Bertie are pianists.\n",
    "4. Charlie plays a sonata, an etude and a waltz. Bertie plays a waltz and a scherzo. Lydia plays an etude, a prelude and a waltz.\n",
    "5. Lydia admires Lydia, Charlie and Bertie. George admires Lydia, George, Alex, Charlie and Bertie. Alex admires Lydia, Alex and Bertie. Charlie admires George and Bertie. Bertie admires Lydia, George, Alex, Charlie and Bertie.\n",
    "6. Lydia knows Lydia, George, Alex, Charlie and Bertie. George knows Lydia, George and Bertie. Alex knows Lydia, Alex and Bertie. Charlie knows George, Charlie and Bertie. Bertie knows Lydia, George, Alex, Charlie and Bertie.\n",
    "7. Lydia, Alex and Charlie are women.\n",
    "8. George and Bertie are men.\n",
    "9. Alex wrote a sonata, an etude an a waltz.\n",
    "10. Lydia, Alex, Charlie and Bertie are musicians.\n",
    "\n",
    "Translate this informal description of the world into a model and evaluate the formulae from Questions 3 and 4 in this model. Briefly comment on the answers you get **[3 + 2 marks]**."
   ]
  },
  {
   "cell_type": "code",
   "execution_count": 6,
   "metadata": {},
   "outputs": [
    {
     "output_type": "stream",
     "name": "stdout",
     "text": "Lydia likes George but Lydia doesn't like Alex : False\n"
    },
    {
     "output_type": "display_data",
     "data": {
      "text/plain": "<IPython.core.display.Markdown object>",
      "text/markdown": "$(like(Lydia,George)\\ \\land\\ -like(Lydia,Alex))$"
     },
     "metadata": {}
    },
    {
     "output_type": "display_data",
     "data": {
      "text/plain": "<IPython.core.display.Markdown object>",
      "text/markdown": "----"
     },
     "metadata": {}
    },
    {
     "output_type": "stream",
     "name": "stdout",
     "text": "Lydia likes herself and so does George : True\n"
    },
    {
     "output_type": "display_data",
     "data": {
      "text/plain": "<IPython.core.display.Markdown object>",
      "text/markdown": "$(like(Lydia,Lydia)\\ \\land\\ like(George,George))$"
     },
     "metadata": {}
    },
    {
     "output_type": "display_data",
     "data": {
      "text/plain": "<IPython.core.display.Markdown object>",
      "text/markdown": "----"
     },
     "metadata": {}
    },
    {
     "output_type": "stream",
     "name": "stdout",
     "text": "Charlie is an English pianist who plays a sonata : True\n"
    },
    {
     "output_type": "display_data",
     "data": {
      "text/plain": "<IPython.core.display.Markdown object>",
      "text/markdown": "$(english(Charlie)\\ \\land\\ pianist(Charlie)\\ \\land\\ play(Charlie,sonata))$"
     },
     "metadata": {}
    },
    {
     "output_type": "display_data",
     "data": {
      "text/plain": "<IPython.core.display.Markdown object>",
      "text/markdown": "----"
     },
     "metadata": {}
    },
    {
     "output_type": "stream",
     "name": "stdout",
     "text": "Lydia and George admire each other : False\n"
    },
    {
     "output_type": "display_data",
     "data": {
      "text/plain": "<IPython.core.display.Markdown object>",
      "text/markdown": "$(admire(Lydia,George)\\ \\land\\ admire(George,Lydia))$"
     },
     "metadata": {}
    },
    {
     "output_type": "display_data",
     "data": {
      "text/plain": "<IPython.core.display.Markdown object>",
      "text/markdown": "----"
     },
     "metadata": {}
    },
    {
     "output_type": "stream",
     "name": "stdout",
     "text": "Charlie knows a woman who likes George : True\n"
    },
    {
     "output_type": "display_data",
     "data": {
      "text/plain": "<IPython.core.display.Markdown object>",
      "text/markdown": "$\\exists\\ x.(woman(x)\\ \\land\\ know(Charlie,x)\\ \\land\\ like(x,George))$"
     },
     "metadata": {}
    },
    {
     "output_type": "display_data",
     "data": {
      "text/plain": "<IPython.core.display.Markdown object>",
      "text/markdown": "----"
     },
     "metadata": {}
    },
    {
     "output_type": "stream",
     "name": "stdout",
     "text": "George admires everybody and Lydia admires nobody : False\n"
    },
    {
     "output_type": "display_data",
     "data": {
      "text/plain": "<IPython.core.display.Markdown object>",
      "text/markdown": "$\\forall\\ x.(person(x)\\ \\to\\ (admire(George,x)\\ \\land\\ -admire(Lydia,x)))$"
     },
     "metadata": {}
    },
    {
     "output_type": "display_data",
     "data": {
      "text/plain": "<IPython.core.display.Markdown object>",
      "text/markdown": "----"
     },
     "metadata": {}
    },
    {
     "output_type": "stream",
     "name": "stdout",
     "text": "Nobody admires everybody : True\n"
    },
    {
     "output_type": "display_data",
     "data": {
      "text/plain": "<IPython.core.display.Markdown object>",
      "text/markdown": "$\\forall\\ x.(person(x)\\ \\to\\ \\exists\\ y.-admire(x,y))$"
     },
     "metadata": {}
    },
    {
     "output_type": "display_data",
     "data": {
      "text/plain": "<IPython.core.display.Markdown object>",
      "text/markdown": "----"
     },
     "metadata": {}
    },
    {
     "output_type": "stream",
     "name": "stdout",
     "text": "Exactly one musician plays everything Alex wrote : True\n"
    },
    {
     "output_type": "display_data",
     "data": {
      "text/plain": "<IPython.core.display.Markdown object>",
      "text/markdown": "$\\exists\\ x.(musician(x)\\ \\land\\ \\forall\\ y.(wrote(Alex,y)\\ \\to\\ play(x,y))\\ \\land\\ \\forall\\ z.((musician(z)\\ \\land\\ \\forall\\ y.(wrote(Alex,y)\\ \\land\\ play(z,y)))\\ \\to\\ (x\\ <\\to\\ z)))$"
     },
     "metadata": {}
    },
    {
     "output_type": "display_data",
     "data": {
      "text/plain": "<IPython.core.display.Markdown object>",
      "text/markdown": "----"
     },
     "metadata": {}
    }
   ],
   "source": [
    "entities = set(['p','g','e','a','b','s','r','l','w','c'])\n",
    "\n",
    "assign = \"\"\"\n",
    "Lydia => l \n",
    "George => g\n",
    "Alex => a\n",
    "Charlie => c\n",
    "Bertie => b\n",
    "sonata => s\n",
    "etude => e\n",
    "prelude => p\n",
    "waltz => w\n",
    "scherzo => r\n",
    "man => {g, b}\n",
    "woman => {l, a, c}\n",
    "person => {g, b, l, a, c}\n",
    "pianist => {c, b}\n",
    "english => {l, g, a, c, b}\n",
    "musician => {l, a, c, b}\n",
    "like => {(l, l), (l, g), (l, a), (l, c), (g, l), (g, b), (g, g), (a, a), (c, l), (c, g), (c, a), (c, c), (c, b), (b, a)}\n",
    "play => {(c, s), (c, e), (c, w), (b, w), (b, r), (l, e), (l, p), (l, w)}\n",
    "admire => {(l, l), (l, c), (l, b), (g, l), (g, g), (g, a), (g, c), (g, b), (a, l), (a, a), (a, b), (c, g), (c, b), (b, l), (b, g), (b, a), (b, c), (b, b)}\n",
    "know => {(l, l), (l, g), (l, a), (l, c), (l, b), (g, l), (g, g), (g, b), (a, l), (a, a), (a, b), (c, g), (c, c), (c, b), (b, l), (b, g), (b, a), (b, b), (b, c)}\n",
    "wrote => {(a, s), (a, e), (a, w)}\n",
    "\"\"\"\n",
    "\n",
    "val2 = nltk.Valuation.fromstring(assign)\n",
    "\n",
    "g2 = nltk.Assignment(entities)\n",
    "m2 = nltk.Model(entities, val2)\n",
    "\n",
    "# sentences from question 3\n",
    "for text, semrep in sentences1.items():\n",
    "    print(text, \":\", m2.evaluate(str(semrep), g2))\n",
    "    display_latex(semrep)\n",
    "    display(Markdown('----'))\n",
    "\n",
    "# sentences from question 4\n",
    "for text, semrep in sentences2.items():\n",
    "    print(text, \":\", m2.evaluate(str(semrep), g2))\n",
    "    display_latex(semrep)\n",
    "    display(Markdown('----'))\n"
   ]
  },
  {
   "cell_type": "markdown",
   "metadata": {},
   "source": [
    "*Comments on the answers:*\n",
    "\n",
    "We added \"person\", so that only the people, not the musical compositions are regarded in phrases such as \"everyone\" or \"no one\". It simplifies the logic, since it is equal to man(x) | woman(x). "
   ]
  },
  {
   "cell_type": "markdown",
   "metadata": {},
   "source": [
    "## Marks\n",
    "\n",
    "This part of the assignment has a total of 25 marks."
   ]
  }
 ],
 "metadata": {
  "kernelspec": {
   "display_name": "Python 3",
   "language": "python",
   "name": "python3"
  },
  "language_info": {
   "codemirror_mode": {
    "name": "ipython",
    "version": 3
   },
   "file_extension": ".py",
   "mimetype": "text/x-python",
   "name": "python",
   "nbconvert_exporter": "python",
   "pygments_lexer": "ipython3",
   "version": "3.7.4-final"
  }
 },
 "nbformat": 4,
 "nbformat_minor": 1
}